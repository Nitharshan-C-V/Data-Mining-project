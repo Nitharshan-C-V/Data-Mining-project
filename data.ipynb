{
 "cells": [
  {
   "cell_type": "markdown",
   "metadata": {},
   "source": [
    "## Data Overview"
   ]
  },
  {
   "cell_type": "markdown",
   "metadata": {},
   "source": [
    "**Dataset:** Flights status dataset (From Bureau of Transportation Statistics)  \n",
    "\n",
    "**Link:** https://www.transtats.bts.gov/Fields.asp?gnoyr_VQ=FGK  \n",
    "\n",
    "**Type:** CSV file  \n",
    "\n",
    "**Description:**  This dataset contains flight information, including cancellations and delays by airlines, dating back to January 2018 to the present. It includes columns such as date, airline, origin city, destination city, departure time, arrival time, and more, across different cities."
   ]
  },
  {
   "cell_type": "markdown",
   "metadata": {},
   "source": [
    "* ### Year 2018"
   ]
  },
  {
   "cell_type": "code",
   "execution_count": 18,
   "metadata": {},
   "outputs": [],
   "source": [
    "#import required libraries\n",
    "import pandas as pd\n",
    "import matplotlib.pyplot as plt\n",
    "from warnings import filterwarnings\n",
    "filterwarnings('ignore')\n"
   ]
  },
  {
   "cell_type": "code",
   "execution_count": 19,
   "metadata": {},
   "outputs": [
    {
     "data": {
      "text/html": [
       "<div>\n",
       "<style scoped>\n",
       "    .dataframe tbody tr th:only-of-type {\n",
       "        vertical-align: middle;\n",
       "    }\n",
       "\n",
       "    .dataframe tbody tr th {\n",
       "        vertical-align: top;\n",
       "    }\n",
       "\n",
       "    .dataframe thead th {\n",
       "        text-align: right;\n",
       "    }\n",
       "</style>\n",
       "<table border=\"1\" class=\"dataframe\">\n",
       "  <thead>\n",
       "    <tr style=\"text-align: right;\">\n",
       "      <th></th>\n",
       "      <th>FlightDate</th>\n",
       "      <th>Airline</th>\n",
       "      <th>Origin</th>\n",
       "      <th>Dest</th>\n",
       "      <th>Cancelled</th>\n",
       "      <th>Diverted</th>\n",
       "      <th>CRSDepTime</th>\n",
       "      <th>DepTime</th>\n",
       "      <th>DepDelayMinutes</th>\n",
       "      <th>DepDelay</th>\n",
       "      <th>...</th>\n",
       "      <th>WheelsOff</th>\n",
       "      <th>WheelsOn</th>\n",
       "      <th>TaxiIn</th>\n",
       "      <th>CRSArrTime</th>\n",
       "      <th>ArrDelay</th>\n",
       "      <th>ArrDel15</th>\n",
       "      <th>ArrivalDelayGroups</th>\n",
       "      <th>ArrTimeBlk</th>\n",
       "      <th>DistanceGroup</th>\n",
       "      <th>DivAirportLandings</th>\n",
       "    </tr>\n",
       "  </thead>\n",
       "  <tbody>\n",
       "    <tr>\n",
       "      <th>0</th>\n",
       "      <td>2018-01-23</td>\n",
       "      <td>Endeavor Air Inc.</td>\n",
       "      <td>ABY</td>\n",
       "      <td>ATL</td>\n",
       "      <td>False</td>\n",
       "      <td>False</td>\n",
       "      <td>1202</td>\n",
       "      <td>1157.0</td>\n",
       "      <td>0.0</td>\n",
       "      <td>-5.0</td>\n",
       "      <td>...</td>\n",
       "      <td>1211.0</td>\n",
       "      <td>1249.0</td>\n",
       "      <td>7.0</td>\n",
       "      <td>1304</td>\n",
       "      <td>-8.0</td>\n",
       "      <td>0.0</td>\n",
       "      <td>-1.0</td>\n",
       "      <td>1300-1359</td>\n",
       "      <td>1</td>\n",
       "      <td>0.0</td>\n",
       "    </tr>\n",
       "    <tr>\n",
       "      <th>1</th>\n",
       "      <td>2018-01-24</td>\n",
       "      <td>Endeavor Air Inc.</td>\n",
       "      <td>ABY</td>\n",
       "      <td>ATL</td>\n",
       "      <td>False</td>\n",
       "      <td>False</td>\n",
       "      <td>1202</td>\n",
       "      <td>1157.0</td>\n",
       "      <td>0.0</td>\n",
       "      <td>-5.0</td>\n",
       "      <td>...</td>\n",
       "      <td>1210.0</td>\n",
       "      <td>1246.0</td>\n",
       "      <td>12.0</td>\n",
       "      <td>1304</td>\n",
       "      <td>-6.0</td>\n",
       "      <td>0.0</td>\n",
       "      <td>-1.0</td>\n",
       "      <td>1300-1359</td>\n",
       "      <td>1</td>\n",
       "      <td>0.0</td>\n",
       "    </tr>\n",
       "    <tr>\n",
       "      <th>2</th>\n",
       "      <td>2018-01-25</td>\n",
       "      <td>Endeavor Air Inc.</td>\n",
       "      <td>ABY</td>\n",
       "      <td>ATL</td>\n",
       "      <td>False</td>\n",
       "      <td>False</td>\n",
       "      <td>1202</td>\n",
       "      <td>1153.0</td>\n",
       "      <td>0.0</td>\n",
       "      <td>-9.0</td>\n",
       "      <td>...</td>\n",
       "      <td>1211.0</td>\n",
       "      <td>1251.0</td>\n",
       "      <td>11.0</td>\n",
       "      <td>1304</td>\n",
       "      <td>-2.0</td>\n",
       "      <td>0.0</td>\n",
       "      <td>-1.0</td>\n",
       "      <td>1300-1359</td>\n",
       "      <td>1</td>\n",
       "      <td>0.0</td>\n",
       "    </tr>\n",
       "    <tr>\n",
       "      <th>3</th>\n",
       "      <td>2018-01-26</td>\n",
       "      <td>Endeavor Air Inc.</td>\n",
       "      <td>ABY</td>\n",
       "      <td>ATL</td>\n",
       "      <td>False</td>\n",
       "      <td>False</td>\n",
       "      <td>1202</td>\n",
       "      <td>1150.0</td>\n",
       "      <td>0.0</td>\n",
       "      <td>-12.0</td>\n",
       "      <td>...</td>\n",
       "      <td>1207.0</td>\n",
       "      <td>1242.0</td>\n",
       "      <td>11.0</td>\n",
       "      <td>1304</td>\n",
       "      <td>-11.0</td>\n",
       "      <td>0.0</td>\n",
       "      <td>-1.0</td>\n",
       "      <td>1300-1359</td>\n",
       "      <td>1</td>\n",
       "      <td>0.0</td>\n",
       "    </tr>\n",
       "    <tr>\n",
       "      <th>4</th>\n",
       "      <td>2018-01-27</td>\n",
       "      <td>Endeavor Air Inc.</td>\n",
       "      <td>ABY</td>\n",
       "      <td>ATL</td>\n",
       "      <td>False</td>\n",
       "      <td>False</td>\n",
       "      <td>1400</td>\n",
       "      <td>1355.0</td>\n",
       "      <td>0.0</td>\n",
       "      <td>-5.0</td>\n",
       "      <td>...</td>\n",
       "      <td>1412.0</td>\n",
       "      <td>1448.0</td>\n",
       "      <td>11.0</td>\n",
       "      <td>1500</td>\n",
       "      <td>-1.0</td>\n",
       "      <td>0.0</td>\n",
       "      <td>-1.0</td>\n",
       "      <td>1500-1559</td>\n",
       "      <td>1</td>\n",
       "      <td>0.0</td>\n",
       "    </tr>\n",
       "  </tbody>\n",
       "</table>\n",
       "<p>5 rows × 61 columns</p>\n",
       "</div>"
      ],
      "text/plain": [
       "   FlightDate            Airline Origin Dest  Cancelled  Diverted  CRSDepTime  \\\n",
       "0  2018-01-23  Endeavor Air Inc.    ABY  ATL      False     False        1202   \n",
       "1  2018-01-24  Endeavor Air Inc.    ABY  ATL      False     False        1202   \n",
       "2  2018-01-25  Endeavor Air Inc.    ABY  ATL      False     False        1202   \n",
       "3  2018-01-26  Endeavor Air Inc.    ABY  ATL      False     False        1202   \n",
       "4  2018-01-27  Endeavor Air Inc.    ABY  ATL      False     False        1400   \n",
       "\n",
       "   DepTime  DepDelayMinutes  DepDelay  ...  WheelsOff  WheelsOn  TaxiIn  \\\n",
       "0   1157.0              0.0      -5.0  ...     1211.0    1249.0     7.0   \n",
       "1   1157.0              0.0      -5.0  ...     1210.0    1246.0    12.0   \n",
       "2   1153.0              0.0      -9.0  ...     1211.0    1251.0    11.0   \n",
       "3   1150.0              0.0     -12.0  ...     1207.0    1242.0    11.0   \n",
       "4   1355.0              0.0      -5.0  ...     1412.0    1448.0    11.0   \n",
       "\n",
       "   CRSArrTime  ArrDelay  ArrDel15  ArrivalDelayGroups  ArrTimeBlk  \\\n",
       "0        1304      -8.0       0.0                -1.0   1300-1359   \n",
       "1        1304      -6.0       0.0                -1.0   1300-1359   \n",
       "2        1304      -2.0       0.0                -1.0   1300-1359   \n",
       "3        1304     -11.0       0.0                -1.0   1300-1359   \n",
       "4        1500      -1.0       0.0                -1.0   1500-1559   \n",
       "\n",
       "   DistanceGroup  DivAirportLandings  \n",
       "0              1                 0.0  \n",
       "1              1                 0.0  \n",
       "2              1                 0.0  \n",
       "3              1                 0.0  \n",
       "4              1                 0.0  \n",
       "\n",
       "[5 rows x 61 columns]"
      ]
     },
     "execution_count": 19,
     "metadata": {},
     "output_type": "execute_result"
    }
   ],
   "source": [
    "#read csv file\n",
    "df1=pd.read_csv('/Users/saaijeeshsn/Data Mining project/Combined_Flights_2018.csv')\n",
    "df1.head()"
   ]
  },
  {
   "cell_type": "code",
   "execution_count": 20,
   "metadata": {},
   "outputs": [
    {
     "data": {
      "text/plain": [
       "(5689512, 61)"
      ]
     },
     "execution_count": 20,
     "metadata": {},
     "output_type": "execute_result"
    }
   ],
   "source": [
    "#find its shape\n",
    "df1.shape"
   ]
  },
  {
   "cell_type": "code",
   "execution_count": 21,
   "metadata": {},
   "outputs": [
    {
     "data": {
      "text/plain": [
       "Index(['FlightDate', 'Airline', 'Origin', 'Dest', 'Cancelled', 'Diverted',\n",
       "       'CRSDepTime', 'DepTime', 'DepDelayMinutes', 'DepDelay', 'ArrTime',\n",
       "       'ArrDelayMinutes', 'AirTime', 'CRSElapsedTime', 'ActualElapsedTime',\n",
       "       'Distance', 'Year', 'Quarter', 'Month', 'DayofMonth', 'DayOfWeek',\n",
       "       'Marketing_Airline_Network', 'Operated_or_Branded_Code_Share_Partners',\n",
       "       'DOT_ID_Marketing_Airline', 'IATA_Code_Marketing_Airline',\n",
       "       'Flight_Number_Marketing_Airline', 'Operating_Airline',\n",
       "       'DOT_ID_Operating_Airline', 'IATA_Code_Operating_Airline',\n",
       "       'Tail_Number', 'Flight_Number_Operating_Airline', 'OriginAirportID',\n",
       "       'OriginAirportSeqID', 'OriginCityMarketID', 'OriginCityName',\n",
       "       'OriginState', 'OriginStateFips', 'OriginStateName', 'OriginWac',\n",
       "       'DestAirportID', 'DestAirportSeqID', 'DestCityMarketID', 'DestCityName',\n",
       "       'DestState', 'DestStateFips', 'DestStateName', 'DestWac', 'DepDel15',\n",
       "       'DepartureDelayGroups', 'DepTimeBlk', 'TaxiOut', 'WheelsOff',\n",
       "       'WheelsOn', 'TaxiIn', 'CRSArrTime', 'ArrDelay', 'ArrDel15',\n",
       "       'ArrivalDelayGroups', 'ArrTimeBlk', 'DistanceGroup',\n",
       "       'DivAirportLandings'],\n",
       "      dtype='object')"
      ]
     },
     "execution_count": 21,
     "metadata": {},
     "output_type": "execute_result"
    }
   ],
   "source": [
    "#display the column names\n",
    "df1.columns"
   ]
  },
  {
   "cell_type": "markdown",
   "metadata": {},
   "source": [
    "## Data Preprocessing"
   ]
  },
  {
   "cell_type": "markdown",
   "metadata": {},
   "source": [
    "### 1. Rename columns to lower case for better readability"
   ]
  },
  {
   "cell_type": "code",
   "execution_count": 22,
   "metadata": {},
   "outputs": [
    {
     "data": {
      "text/plain": [
       "Index(['flightdate', 'airline', 'origin', 'dest', 'cancelled', 'diverted',\n",
       "       'crsdeptime', 'deptime', 'depdelayminutes', 'depdelay', 'arrtime',\n",
       "       'arrdelayminutes', 'airtime', 'crselapsedtime', 'actualelapsedtime',\n",
       "       'distance', 'year', 'quarter', 'month', 'dayofmonth', 'dayofweek',\n",
       "       'marketing_airline_network', 'operated_or_branded_code_share_partners',\n",
       "       'dot_id_marketing_airline', 'iata_code_marketing_airline',\n",
       "       'flight_number_marketing_airline', 'operating_airline',\n",
       "       'dot_id_operating_airline', 'iata_code_operating_airline',\n",
       "       'tail_number', 'flight_number_operating_airline', 'originairportid',\n",
       "       'originairportseqid', 'origincitymarketid', 'origincityname',\n",
       "       'originstate', 'originstatefips', 'originstatename', 'originwac',\n",
       "       'destairportid', 'destairportseqid', 'destcitymarketid', 'destcityname',\n",
       "       'deststate', 'deststatefips', 'deststatename', 'destwac', 'depdel15',\n",
       "       'departuredelaygroups', 'deptimeblk', 'taxiout', 'wheelsoff',\n",
       "       'wheelson', 'taxiin', 'crsarrtime', 'arrdelay', 'arrdel15',\n",
       "       'arrivaldelaygroups', 'arrtimeblk', 'distancegroup',\n",
       "       'divairportlandings'],\n",
       "      dtype='object')"
      ]
     },
     "execution_count": 22,
     "metadata": {},
     "output_type": "execute_result"
    }
   ],
   "source": [
    "#rename columns\n",
    "df1.columns = df1.columns.str.lower()\n",
    "df1.columns"
   ]
  },
  {
   "cell_type": "markdown",
   "metadata": {},
   "source": [
    "### 2. Filter the data for flights that weren't cancelled and not diverted."
   ]
  },
  {
   "cell_type": "code",
   "execution_count": 23,
   "metadata": {},
   "outputs": [
    {
     "data": {
      "text/html": [
       "<div>\n",
       "<style scoped>\n",
       "    .dataframe tbody tr th:only-of-type {\n",
       "        vertical-align: middle;\n",
       "    }\n",
       "\n",
       "    .dataframe tbody tr th {\n",
       "        vertical-align: top;\n",
       "    }\n",
       "\n",
       "    .dataframe thead th {\n",
       "        text-align: right;\n",
       "    }\n",
       "</style>\n",
       "<table border=\"1\" class=\"dataframe\">\n",
       "  <thead>\n",
       "    <tr style=\"text-align: right;\">\n",
       "      <th></th>\n",
       "      <th>flightdate</th>\n",
       "      <th>airline</th>\n",
       "      <th>origin</th>\n",
       "      <th>dest</th>\n",
       "      <th>cancelled</th>\n",
       "      <th>diverted</th>\n",
       "      <th>crsdeptime</th>\n",
       "      <th>deptime</th>\n",
       "      <th>depdelayminutes</th>\n",
       "      <th>depdelay</th>\n",
       "      <th>...</th>\n",
       "      <th>wheelsoff</th>\n",
       "      <th>wheelson</th>\n",
       "      <th>taxiin</th>\n",
       "      <th>crsarrtime</th>\n",
       "      <th>arrdelay</th>\n",
       "      <th>arrdel15</th>\n",
       "      <th>arrivaldelaygroups</th>\n",
       "      <th>arrtimeblk</th>\n",
       "      <th>distancegroup</th>\n",
       "      <th>divairportlandings</th>\n",
       "    </tr>\n",
       "  </thead>\n",
       "  <tbody>\n",
       "    <tr>\n",
       "      <th>0</th>\n",
       "      <td>2018-01-23</td>\n",
       "      <td>Endeavor Air Inc.</td>\n",
       "      <td>ABY</td>\n",
       "      <td>ATL</td>\n",
       "      <td>False</td>\n",
       "      <td>False</td>\n",
       "      <td>1202</td>\n",
       "      <td>1157.0</td>\n",
       "      <td>0.0</td>\n",
       "      <td>-5.0</td>\n",
       "      <td>...</td>\n",
       "      <td>1211.0</td>\n",
       "      <td>1249.0</td>\n",
       "      <td>7.0</td>\n",
       "      <td>1304</td>\n",
       "      <td>-8.0</td>\n",
       "      <td>0.0</td>\n",
       "      <td>-1.0</td>\n",
       "      <td>1300-1359</td>\n",
       "      <td>1</td>\n",
       "      <td>0.0</td>\n",
       "    </tr>\n",
       "    <tr>\n",
       "      <th>1</th>\n",
       "      <td>2018-01-24</td>\n",
       "      <td>Endeavor Air Inc.</td>\n",
       "      <td>ABY</td>\n",
       "      <td>ATL</td>\n",
       "      <td>False</td>\n",
       "      <td>False</td>\n",
       "      <td>1202</td>\n",
       "      <td>1157.0</td>\n",
       "      <td>0.0</td>\n",
       "      <td>-5.0</td>\n",
       "      <td>...</td>\n",
       "      <td>1210.0</td>\n",
       "      <td>1246.0</td>\n",
       "      <td>12.0</td>\n",
       "      <td>1304</td>\n",
       "      <td>-6.0</td>\n",
       "      <td>0.0</td>\n",
       "      <td>-1.0</td>\n",
       "      <td>1300-1359</td>\n",
       "      <td>1</td>\n",
       "      <td>0.0</td>\n",
       "    </tr>\n",
       "    <tr>\n",
       "      <th>2</th>\n",
       "      <td>2018-01-25</td>\n",
       "      <td>Endeavor Air Inc.</td>\n",
       "      <td>ABY</td>\n",
       "      <td>ATL</td>\n",
       "      <td>False</td>\n",
       "      <td>False</td>\n",
       "      <td>1202</td>\n",
       "      <td>1153.0</td>\n",
       "      <td>0.0</td>\n",
       "      <td>-9.0</td>\n",
       "      <td>...</td>\n",
       "      <td>1211.0</td>\n",
       "      <td>1251.0</td>\n",
       "      <td>11.0</td>\n",
       "      <td>1304</td>\n",
       "      <td>-2.0</td>\n",
       "      <td>0.0</td>\n",
       "      <td>-1.0</td>\n",
       "      <td>1300-1359</td>\n",
       "      <td>1</td>\n",
       "      <td>0.0</td>\n",
       "    </tr>\n",
       "    <tr>\n",
       "      <th>3</th>\n",
       "      <td>2018-01-26</td>\n",
       "      <td>Endeavor Air Inc.</td>\n",
       "      <td>ABY</td>\n",
       "      <td>ATL</td>\n",
       "      <td>False</td>\n",
       "      <td>False</td>\n",
       "      <td>1202</td>\n",
       "      <td>1150.0</td>\n",
       "      <td>0.0</td>\n",
       "      <td>-12.0</td>\n",
       "      <td>...</td>\n",
       "      <td>1207.0</td>\n",
       "      <td>1242.0</td>\n",
       "      <td>11.0</td>\n",
       "      <td>1304</td>\n",
       "      <td>-11.0</td>\n",
       "      <td>0.0</td>\n",
       "      <td>-1.0</td>\n",
       "      <td>1300-1359</td>\n",
       "      <td>1</td>\n",
       "      <td>0.0</td>\n",
       "    </tr>\n",
       "    <tr>\n",
       "      <th>4</th>\n",
       "      <td>2018-01-27</td>\n",
       "      <td>Endeavor Air Inc.</td>\n",
       "      <td>ABY</td>\n",
       "      <td>ATL</td>\n",
       "      <td>False</td>\n",
       "      <td>False</td>\n",
       "      <td>1400</td>\n",
       "      <td>1355.0</td>\n",
       "      <td>0.0</td>\n",
       "      <td>-5.0</td>\n",
       "      <td>...</td>\n",
       "      <td>1412.0</td>\n",
       "      <td>1448.0</td>\n",
       "      <td>11.0</td>\n",
       "      <td>1500</td>\n",
       "      <td>-1.0</td>\n",
       "      <td>0.0</td>\n",
       "      <td>-1.0</td>\n",
       "      <td>1500-1559</td>\n",
       "      <td>1</td>\n",
       "      <td>0.0</td>\n",
       "    </tr>\n",
       "  </tbody>\n",
       "</table>\n",
       "<p>5 rows × 61 columns</p>\n",
       "</div>"
      ],
      "text/plain": [
       "   flightdate            airline origin dest  cancelled  diverted  crsdeptime  \\\n",
       "0  2018-01-23  Endeavor Air Inc.    ABY  ATL      False     False        1202   \n",
       "1  2018-01-24  Endeavor Air Inc.    ABY  ATL      False     False        1202   \n",
       "2  2018-01-25  Endeavor Air Inc.    ABY  ATL      False     False        1202   \n",
       "3  2018-01-26  Endeavor Air Inc.    ABY  ATL      False     False        1202   \n",
       "4  2018-01-27  Endeavor Air Inc.    ABY  ATL      False     False        1400   \n",
       "\n",
       "   deptime  depdelayminutes  depdelay  ...  wheelsoff  wheelson  taxiin  \\\n",
       "0   1157.0              0.0      -5.0  ...     1211.0    1249.0     7.0   \n",
       "1   1157.0              0.0      -5.0  ...     1210.0    1246.0    12.0   \n",
       "2   1153.0              0.0      -9.0  ...     1211.0    1251.0    11.0   \n",
       "3   1150.0              0.0     -12.0  ...     1207.0    1242.0    11.0   \n",
       "4   1355.0              0.0      -5.0  ...     1412.0    1448.0    11.0   \n",
       "\n",
       "   crsarrtime  arrdelay  arrdel15  arrivaldelaygroups  arrtimeblk  \\\n",
       "0        1304      -8.0       0.0                -1.0   1300-1359   \n",
       "1        1304      -6.0       0.0                -1.0   1300-1359   \n",
       "2        1304      -2.0       0.0                -1.0   1300-1359   \n",
       "3        1304     -11.0       0.0                -1.0   1300-1359   \n",
       "4        1500      -1.0       0.0                -1.0   1500-1559   \n",
       "\n",
       "   distancegroup  divairportlandings  \n",
       "0              1                 0.0  \n",
       "1              1                 0.0  \n",
       "2              1                 0.0  \n",
       "3              1                 0.0  \n",
       "4              1                 0.0  \n",
       "\n",
       "[5 rows x 61 columns]"
      ]
     },
     "execution_count": 23,
     "metadata": {},
     "output_type": "execute_result"
    }
   ],
   "source": [
    "df1_cancellation_f = df1[(df1['cancelled'] == False) & (df1['diverted'] == False)]\n",
    "df1_cancellation_f.head(5)"
   ]
  },
  {
   "cell_type": "markdown",
   "metadata": {},
   "source": [
    "### 3. Check for missing values"
   ]
  },
  {
   "cell_type": "code",
   "execution_count": 24,
   "metadata": {},
   "outputs": [
    {
     "data": {
      "text/plain": [
       "flightdate              0\n",
       "airline                 0\n",
       "origin                  0\n",
       "dest                    0\n",
       "cancelled               0\n",
       "                     ... \n",
       "arrdel15              567\n",
       "arrivaldelaygroups    567\n",
       "arrtimeblk              0\n",
       "distancegroup           0\n",
       "divairportlandings      0\n",
       "Length: 61, dtype: int64"
      ]
     },
     "execution_count": 24,
     "metadata": {},
     "output_type": "execute_result"
    }
   ],
   "source": [
    "#check for missing values\n",
    "df1_cancellation_f.isnull().sum()"
   ]
  },
  {
   "cell_type": "code",
   "execution_count": 25,
   "metadata": {},
   "outputs": [
    {
     "data": {
      "text/plain": [
       "deptime                   20\n",
       "depdelayminutes         1105\n",
       "depdelay                1105\n",
       "arrtime                   21\n",
       "arrdelayminutes          567\n",
       "airtime                 6945\n",
       "actualelapsedtime         21\n",
       "tail_number               19\n",
       "depdel15                1105\n",
       "departuredelaygroups    1105\n",
       "taxiout                 6939\n",
       "wheelsoff               6939\n",
       "wheelson                6935\n",
       "taxiin                  6936\n",
       "arrdelay                 567\n",
       "arrdel15                 567\n",
       "arrivaldelaygroups       567\n",
       "dtype: int64"
      ]
     },
     "execution_count": 25,
     "metadata": {},
     "output_type": "execute_result"
    }
   ],
   "source": [
    "#check for null entries\n",
    "filter_null_counts = df1_cancellation_f.isnull().sum()\n",
    "\n",
    "#filter the columns with null entries\n",
    "filter_columns_with_null = filter_null_counts[filter_null_counts > 0]\n",
    "\n",
    "#display the column names\n",
    "filter_columns_with_null"
   ]
  },
  {
   "cell_type": "markdown",
   "metadata": {},
   "source": [
    "### Handling deptime column missing values"
   ]
  },
  {
   "cell_type": "code",
   "execution_count": 26,
   "metadata": {},
   "outputs": [],
   "source": [
    "# Fill missing values in 'DepTime' with values from 'CRSDepTime'\n",
    "df1_cancellation_f.loc[df1_cancellation_f['deptime'].isnull(), 'deptime'] = df1_cancellation_f['crsdeptime']"
   ]
  },
  {
   "cell_type": "markdown",
   "metadata": {},
   "source": [
    "### Handling depdelayminutes column missing values"
   ]
  },
  {
   "cell_type": "code",
   "execution_count": 27,
   "metadata": {},
   "outputs": [],
   "source": [
    "# condition: in missing spaces in depdelayminutes, set values based on comparison between crsdeptime and deptime\n",
    "df1_cancellation_f.loc[df1_cancellation_f['depdelayminutes'].isnull(), 'depdelayminutes'] = \\\n",
    "    df1_cancellation_f.apply(lambda row: 0 if row['crsdeptime'] == row['deptime']\n",
    "                                    else max(0, row['deptime'] - row['crsdeptime']) if row['deptime'] > row['crsdeptime']\n",
    "                                    else row['deptime'] - row['crsdeptime'], axis=1)"
   ]
  },
  {
   "cell_type": "markdown",
   "metadata": {},
   "source": [
    "### Handling depdelay column missing values"
   ]
  },
  {
   "cell_type": "code",
   "execution_count": 28,
   "metadata": {},
   "outputs": [],
   "source": [
    "# Condition: if depdelay is missing then depdelay = deptime - crsdeptime\n",
    "df1_cancellation_f.loc[df1_cancellation_f['depdelay'].isnull(), 'depdelay'] = \\\n",
    "    df1_cancellation_f['deptime'] - df1_cancellation_f['crsdeptime']\n"
   ]
  },
  {
   "cell_type": "markdown",
   "metadata": {},
   "source": [
    "### Handling airtime column missing values"
   ]
  },
  {
   "cell_type": "code",
   "execution_count": 29,
   "metadata": {},
   "outputs": [],
   "source": [
    "import numpy as np\n",
    "\n",
    "# Condition: if air time is missing then airtime = crselapsedtime - randomly reduce (15-30)\n",
    "missing_airtime = df1_cancellation_f['airtime'].isnull()\n",
    "random_reduction = np.random.randint(15, 31, size=missing_airtime.sum())\n",
    "df1_cancellation_f.loc[missing_airtime, 'airtime'] = df1_cancellation_f.loc[missing_airtime, 'crselapsedtime'] - random_reduction\n"
   ]
  },
  {
   "cell_type": "markdown",
   "metadata": {},
   "source": [
    "### Handling arrtime column missing values"
   ]
  },
  {
   "cell_type": "code",
   "execution_count": 30,
   "metadata": {},
   "outputs": [],
   "source": [
    "# Fill missing values in 'ArrTime' with values from 'CRSArrTime'\n",
    "df1_cancellation_f.loc[df1_cancellation_f['arrtime'].isnull(), 'arrtime'] = df1_cancellation_f['crsarrtime']"
   ]
  },
  {
   "cell_type": "markdown",
   "metadata": {},
   "source": [
    "### Handling arrdelayminutes column missing values"
   ]
  },
  {
   "cell_type": "code",
   "execution_count": 31,
   "metadata": {},
   "outputs": [],
   "source": [
    "# condition: in missing spaces in arrdelayminutes, set values based on comparison between crsarrtime and arrtime\n",
    "df1_cancellation_f.loc[df1_cancellation_f['arrdelayminutes'].isnull(), 'arrdelayminutes'] = \\\n",
    "    df1_cancellation_f.apply(lambda row: 0 if row['crsarrtime'] == row['arrtime']\n",
    "                                    else max(0, row['arrtime'] - row['crsarrtime']) if row['arrtime'] > row['crsarrtime']\n",
    "                                    else row['arrtime'] - row['crsarrtime'], axis=1)"
   ]
  },
  {
   "cell_type": "markdown",
   "metadata": {},
   "source": [
    "### Handling arrdelay column missing values"
   ]
  },
  {
   "cell_type": "code",
   "execution_count": 32,
   "metadata": {},
   "outputs": [],
   "source": [
    "df1_cancellation_f.loc[df1_cancellation_f['arrdelay'].isnull(), 'arrdelay'] = \\\n",
    "    df1_cancellation_f['arrtime'] - df1_cancellation_f['crsarrtime']\n"
   ]
  },
  {
   "cell_type": "markdown",
   "metadata": {},
   "source": [
    "### Handling actualelapsedtime column missing values"
   ]
  },
  {
   "cell_type": "code",
   "execution_count": 33,
   "metadata": {},
   "outputs": [],
   "source": [
    "df1_cancellation_f['actualelapsedtime'].fillna(df1_cancellation_f['crselapsedtime'], inplace=True)"
   ]
  },
  {
   "cell_type": "markdown",
   "metadata": {},
   "source": [
    "### Removing unnecessary columns"
   ]
  },
  {
   "cell_type": "code",
   "execution_count": 34,
   "metadata": {},
   "outputs": [
    {
     "data": {
      "text/html": [
       "<div>\n",
       "<style scoped>\n",
       "    .dataframe tbody tr th:only-of-type {\n",
       "        vertical-align: middle;\n",
       "    }\n",
       "\n",
       "    .dataframe tbody tr th {\n",
       "        vertical-align: top;\n",
       "    }\n",
       "\n",
       "    .dataframe thead th {\n",
       "        text-align: right;\n",
       "    }\n",
       "</style>\n",
       "<table border=\"1\" class=\"dataframe\">\n",
       "  <thead>\n",
       "    <tr style=\"text-align: right;\">\n",
       "      <th></th>\n",
       "      <th>flightdate</th>\n",
       "      <th>airline</th>\n",
       "      <th>origin</th>\n",
       "      <th>dest</th>\n",
       "      <th>cancelled</th>\n",
       "      <th>diverted</th>\n",
       "      <th>crsdeptime</th>\n",
       "      <th>deptime</th>\n",
       "      <th>depdelayminutes</th>\n",
       "      <th>depdelay</th>\n",
       "      <th>...</th>\n",
       "      <th>destcityname</th>\n",
       "      <th>deststate</th>\n",
       "      <th>deststatefips</th>\n",
       "      <th>deststatename</th>\n",
       "      <th>destwac</th>\n",
       "      <th>deptimeblk</th>\n",
       "      <th>crsarrtime</th>\n",
       "      <th>arrdelay</th>\n",
       "      <th>arrtimeblk</th>\n",
       "      <th>distancegroup</th>\n",
       "    </tr>\n",
       "  </thead>\n",
       "  <tbody>\n",
       "    <tr>\n",
       "      <th>0</th>\n",
       "      <td>2018-01-23</td>\n",
       "      <td>Endeavor Air Inc.</td>\n",
       "      <td>ABY</td>\n",
       "      <td>ATL</td>\n",
       "      <td>False</td>\n",
       "      <td>False</td>\n",
       "      <td>1202</td>\n",
       "      <td>1157.0</td>\n",
       "      <td>0.0</td>\n",
       "      <td>-5.0</td>\n",
       "      <td>...</td>\n",
       "      <td>Atlanta, GA</td>\n",
       "      <td>GA</td>\n",
       "      <td>13</td>\n",
       "      <td>Georgia</td>\n",
       "      <td>34</td>\n",
       "      <td>1200-1259</td>\n",
       "      <td>1304</td>\n",
       "      <td>-8.0</td>\n",
       "      <td>1300-1359</td>\n",
       "      <td>1</td>\n",
       "    </tr>\n",
       "    <tr>\n",
       "      <th>1</th>\n",
       "      <td>2018-01-24</td>\n",
       "      <td>Endeavor Air Inc.</td>\n",
       "      <td>ABY</td>\n",
       "      <td>ATL</td>\n",
       "      <td>False</td>\n",
       "      <td>False</td>\n",
       "      <td>1202</td>\n",
       "      <td>1157.0</td>\n",
       "      <td>0.0</td>\n",
       "      <td>-5.0</td>\n",
       "      <td>...</td>\n",
       "      <td>Atlanta, GA</td>\n",
       "      <td>GA</td>\n",
       "      <td>13</td>\n",
       "      <td>Georgia</td>\n",
       "      <td>34</td>\n",
       "      <td>1200-1259</td>\n",
       "      <td>1304</td>\n",
       "      <td>-6.0</td>\n",
       "      <td>1300-1359</td>\n",
       "      <td>1</td>\n",
       "    </tr>\n",
       "    <tr>\n",
       "      <th>2</th>\n",
       "      <td>2018-01-25</td>\n",
       "      <td>Endeavor Air Inc.</td>\n",
       "      <td>ABY</td>\n",
       "      <td>ATL</td>\n",
       "      <td>False</td>\n",
       "      <td>False</td>\n",
       "      <td>1202</td>\n",
       "      <td>1153.0</td>\n",
       "      <td>0.0</td>\n",
       "      <td>-9.0</td>\n",
       "      <td>...</td>\n",
       "      <td>Atlanta, GA</td>\n",
       "      <td>GA</td>\n",
       "      <td>13</td>\n",
       "      <td>Georgia</td>\n",
       "      <td>34</td>\n",
       "      <td>1200-1259</td>\n",
       "      <td>1304</td>\n",
       "      <td>-2.0</td>\n",
       "      <td>1300-1359</td>\n",
       "      <td>1</td>\n",
       "    </tr>\n",
       "    <tr>\n",
       "      <th>3</th>\n",
       "      <td>2018-01-26</td>\n",
       "      <td>Endeavor Air Inc.</td>\n",
       "      <td>ABY</td>\n",
       "      <td>ATL</td>\n",
       "      <td>False</td>\n",
       "      <td>False</td>\n",
       "      <td>1202</td>\n",
       "      <td>1150.0</td>\n",
       "      <td>0.0</td>\n",
       "      <td>-12.0</td>\n",
       "      <td>...</td>\n",
       "      <td>Atlanta, GA</td>\n",
       "      <td>GA</td>\n",
       "      <td>13</td>\n",
       "      <td>Georgia</td>\n",
       "      <td>34</td>\n",
       "      <td>1200-1259</td>\n",
       "      <td>1304</td>\n",
       "      <td>-11.0</td>\n",
       "      <td>1300-1359</td>\n",
       "      <td>1</td>\n",
       "    </tr>\n",
       "    <tr>\n",
       "      <th>4</th>\n",
       "      <td>2018-01-27</td>\n",
       "      <td>Endeavor Air Inc.</td>\n",
       "      <td>ABY</td>\n",
       "      <td>ATL</td>\n",
       "      <td>False</td>\n",
       "      <td>False</td>\n",
       "      <td>1400</td>\n",
       "      <td>1355.0</td>\n",
       "      <td>0.0</td>\n",
       "      <td>-5.0</td>\n",
       "      <td>...</td>\n",
       "      <td>Atlanta, GA</td>\n",
       "      <td>GA</td>\n",
       "      <td>13</td>\n",
       "      <td>Georgia</td>\n",
       "      <td>34</td>\n",
       "      <td>1400-1459</td>\n",
       "      <td>1500</td>\n",
       "      <td>-1.0</td>\n",
       "      <td>1500-1559</td>\n",
       "      <td>1</td>\n",
       "    </tr>\n",
       "  </tbody>\n",
       "</table>\n",
       "<p>5 rows × 51 columns</p>\n",
       "</div>"
      ],
      "text/plain": [
       "   flightdate            airline origin dest  cancelled  diverted  crsdeptime  \\\n",
       "0  2018-01-23  Endeavor Air Inc.    ABY  ATL      False     False        1202   \n",
       "1  2018-01-24  Endeavor Air Inc.    ABY  ATL      False     False        1202   \n",
       "2  2018-01-25  Endeavor Air Inc.    ABY  ATL      False     False        1202   \n",
       "3  2018-01-26  Endeavor Air Inc.    ABY  ATL      False     False        1202   \n",
       "4  2018-01-27  Endeavor Air Inc.    ABY  ATL      False     False        1400   \n",
       "\n",
       "   deptime  depdelayminutes  depdelay  ...  destcityname  deststate  \\\n",
       "0   1157.0              0.0      -5.0  ...   Atlanta, GA         GA   \n",
       "1   1157.0              0.0      -5.0  ...   Atlanta, GA         GA   \n",
       "2   1153.0              0.0      -9.0  ...   Atlanta, GA         GA   \n",
       "3   1150.0              0.0     -12.0  ...   Atlanta, GA         GA   \n",
       "4   1355.0              0.0      -5.0  ...   Atlanta, GA         GA   \n",
       "\n",
       "   deststatefips  deststatename  destwac  deptimeblk  crsarrtime  arrdelay  \\\n",
       "0             13        Georgia       34   1200-1259        1304      -8.0   \n",
       "1             13        Georgia       34   1200-1259        1304      -6.0   \n",
       "2             13        Georgia       34   1200-1259        1304      -2.0   \n",
       "3             13        Georgia       34   1200-1259        1304     -11.0   \n",
       "4             13        Georgia       34   1400-1459        1500      -1.0   \n",
       "\n",
       "   arrtimeblk  distancegroup  \n",
       "0   1300-1359              1  \n",
       "1   1300-1359              1  \n",
       "2   1300-1359              1  \n",
       "3   1300-1359              1  \n",
       "4   1500-1559              1  \n",
       "\n",
       "[5 rows x 51 columns]"
      ]
     },
     "execution_count": 34,
     "metadata": {},
     "output_type": "execute_result"
    }
   ],
   "source": [
    "df1_cancellation_f=df1_cancellation_f.drop(columns=['tail_number','taxiout','wheelsoff','wheelson','taxiin','depdel15','departuredelaygroups','arrdel15','arrivaldelaygroups','divairportlandings'])\n",
    "df1_cancellation_f.head()"
   ]
  },
  {
   "cell_type": "code",
   "execution_count": 35,
   "metadata": {},
   "outputs": [
    {
     "data": {
      "text/plain": [
       "Series([], dtype: int64)"
      ]
     },
     "execution_count": 35,
     "metadata": {},
     "output_type": "execute_result"
    }
   ],
   "source": [
    "#check for null entries\n",
    "filter_null_counts = df1_cancellation_f.isnull().sum()\n",
    "\n",
    "#filter the columns with null entries\n",
    "filter_columns_with_null = filter_null_counts[filter_null_counts > 0]\n",
    "\n",
    "#display the column names\n",
    "filter_columns_with_null\n",
    "\n"
   ]
  },
  {
   "cell_type": "markdown",
   "metadata": {},
   "source": [
    "### 4. Check for datatypes"
   ]
  },
  {
   "cell_type": "code",
   "execution_count": 36,
   "metadata": {},
   "outputs": [
    {
     "name": "stdout",
     "output_type": "stream",
     "text": [
      "<class 'pandas.core.frame.DataFrame'>\n",
      "Index: 5587186 entries, 0 to 5689511\n",
      "Data columns (total 51 columns):\n",
      " #   Column                                   Dtype  \n",
      "---  ------                                   -----  \n",
      " 0   flightdate                               object \n",
      " 1   airline                                  object \n",
      " 2   origin                                   object \n",
      " 3   dest                                     object \n",
      " 4   cancelled                                bool   \n",
      " 5   diverted                                 bool   \n",
      " 6   crsdeptime                               int64  \n",
      " 7   deptime                                  float64\n",
      " 8   depdelayminutes                          float64\n",
      " 9   depdelay                                 float64\n",
      " 10  arrtime                                  float64\n",
      " 11  arrdelayminutes                          float64\n",
      " 12  airtime                                  float64\n",
      " 13  crselapsedtime                           float64\n",
      " 14  actualelapsedtime                        float64\n",
      " 15  distance                                 float64\n",
      " 16  year                                     int64  \n",
      " 17  quarter                                  int64  \n",
      " 18  month                                    int64  \n",
      " 19  dayofmonth                               int64  \n",
      " 20  dayofweek                                int64  \n",
      " 21  marketing_airline_network                object \n",
      " 22  operated_or_branded_code_share_partners  object \n",
      " 23  dot_id_marketing_airline                 int64  \n",
      " 24  iata_code_marketing_airline              object \n",
      " 25  flight_number_marketing_airline          int64  \n",
      " 26  operating_airline                        object \n",
      " 27  dot_id_operating_airline                 int64  \n",
      " 28  iata_code_operating_airline              object \n",
      " 29  flight_number_operating_airline          int64  \n",
      " 30  originairportid                          int64  \n",
      " 31  originairportseqid                       int64  \n",
      " 32  origincitymarketid                       int64  \n",
      " 33  origincityname                           object \n",
      " 34  originstate                              object \n",
      " 35  originstatefips                          int64  \n",
      " 36  originstatename                          object \n",
      " 37  originwac                                int64  \n",
      " 38  destairportid                            int64  \n",
      " 39  destairportseqid                         int64  \n",
      " 40  destcitymarketid                         int64  \n",
      " 41  destcityname                             object \n",
      " 42  deststate                                object \n",
      " 43  deststatefips                            int64  \n",
      " 44  deststatename                            object \n",
      " 45  destwac                                  int64  \n",
      " 46  deptimeblk                               object \n",
      " 47  crsarrtime                               int64  \n",
      " 48  arrdelay                                 float64\n",
      " 49  arrtimeblk                               object \n",
      " 50  distancegroup                            int64  \n",
      "dtypes: bool(2), float64(10), int64(22), object(17)\n",
      "memory usage: 2.2+ GB\n"
     ]
    }
   ],
   "source": [
    "#check the datatypes\n",
    "df1_cancellation_f.info()"
   ]
  },
  {
   "cell_type": "code",
   "execution_count": 37,
   "metadata": {},
   "outputs": [
    {
     "name": "stdout",
     "output_type": "stream",
     "text": [
      "<class 'pandas.core.frame.DataFrame'>\n",
      "Index: 5587186 entries, 0 to 5689511\n",
      "Data columns (total 51 columns):\n",
      " #   Column                                   Dtype         \n",
      "---  ------                                   -----         \n",
      " 0   flightdate                               datetime64[ns]\n",
      " 1   airline                                  object        \n",
      " 2   origin                                   object        \n",
      " 3   dest                                     object        \n",
      " 4   cancelled                                bool          \n",
      " 5   diverted                                 bool          \n",
      " 6   crsdeptime                               int64         \n",
      " 7   deptime                                  float64       \n",
      " 8   depdelayminutes                          float64       \n",
      " 9   depdelay                                 float64       \n",
      " 10  arrtime                                  float64       \n",
      " 11  arrdelayminutes                          float64       \n",
      " 12  airtime                                  float64       \n",
      " 13  crselapsedtime                           float64       \n",
      " 14  actualelapsedtime                        float64       \n",
      " 15  distance                                 float64       \n",
      " 16  year                                     int64         \n",
      " 17  quarter                                  int64         \n",
      " 18  month                                    int64         \n",
      " 19  dayofmonth                               int64         \n",
      " 20  dayofweek                                int64         \n",
      " 21  marketing_airline_network                object        \n",
      " 22  operated_or_branded_code_share_partners  object        \n",
      " 23  dot_id_marketing_airline                 int64         \n",
      " 24  iata_code_marketing_airline              object        \n",
      " 25  flight_number_marketing_airline          int64         \n",
      " 26  operating_airline                        object        \n",
      " 27  dot_id_operating_airline                 int64         \n",
      " 28  iata_code_operating_airline              object        \n",
      " 29  flight_number_operating_airline          int64         \n",
      " 30  originairportid                          int64         \n",
      " 31  originairportseqid                       int64         \n",
      " 32  origincitymarketid                       int64         \n",
      " 33  origincityname                           object        \n",
      " 34  originstate                              object        \n",
      " 35  originstatefips                          int64         \n",
      " 36  originstatename                          object        \n",
      " 37  originwac                                int64         \n",
      " 38  destairportid                            int64         \n",
      " 39  destairportseqid                         int64         \n",
      " 40  destcitymarketid                         int64         \n",
      " 41  destcityname                             object        \n",
      " 42  deststate                                object        \n",
      " 43  deststatefips                            int64         \n",
      " 44  deststatename                            object        \n",
      " 45  destwac                                  int64         \n",
      " 46  deptimeblk                               object        \n",
      " 47  crsarrtime                               int64         \n",
      " 48  arrdelay                                 float64       \n",
      " 49  arrtimeblk                               object        \n",
      " 50  distancegroup                            int64         \n",
      "dtypes: bool(2), datetime64[ns](1), float64(10), int64(22), object(16)\n",
      "memory usage: 2.2+ GB\n"
     ]
    }
   ],
   "source": [
    "#convert the datatype \n",
    "df1_cancellation_f['flightdate']=pd.to_datetime(df1_cancellation_f['flightdate'])\n",
    "df1_cancellation_f.info()"
   ]
  },
  {
   "cell_type": "markdown",
   "metadata": {},
   "source": [
    "### 5. Check for Duplicates"
   ]
  },
  {
   "cell_type": "code",
   "execution_count": 38,
   "metadata": {},
   "outputs": [
    {
     "data": {
      "text/plain": [
       "0"
      ]
     },
     "execution_count": 38,
     "metadata": {},
     "output_type": "execute_result"
    }
   ],
   "source": [
    "#check for duplicate entries\n",
    "duplicate_rows = df1_cancellation_f.duplicated().sum()\n",
    "duplicate_rows"
   ]
  },
  {
   "cell_type": "markdown",
   "metadata": {},
   "source": [
    "## Data Overview"
   ]
  },
  {
   "cell_type": "markdown",
   "metadata": {},
   "source": [
    "* ### Year 2019"
   ]
  },
  {
   "cell_type": "code",
   "execution_count": 39,
   "metadata": {},
   "outputs": [
    {
     "data": {
      "text/html": [
       "<div>\n",
       "<style scoped>\n",
       "    .dataframe tbody tr th:only-of-type {\n",
       "        vertical-align: middle;\n",
       "    }\n",
       "\n",
       "    .dataframe tbody tr th {\n",
       "        vertical-align: top;\n",
       "    }\n",
       "\n",
       "    .dataframe thead th {\n",
       "        text-align: right;\n",
       "    }\n",
       "</style>\n",
       "<table border=\"1\" class=\"dataframe\">\n",
       "  <thead>\n",
       "    <tr style=\"text-align: right;\">\n",
       "      <th></th>\n",
       "      <th>FlightDate</th>\n",
       "      <th>Airline</th>\n",
       "      <th>Origin</th>\n",
       "      <th>Dest</th>\n",
       "      <th>Cancelled</th>\n",
       "      <th>Diverted</th>\n",
       "      <th>CRSDepTime</th>\n",
       "      <th>DepTime</th>\n",
       "      <th>DepDelayMinutes</th>\n",
       "      <th>DepDelay</th>\n",
       "      <th>...</th>\n",
       "      <th>WheelsOff</th>\n",
       "      <th>WheelsOn</th>\n",
       "      <th>TaxiIn</th>\n",
       "      <th>CRSArrTime</th>\n",
       "      <th>ArrDelay</th>\n",
       "      <th>ArrDel15</th>\n",
       "      <th>ArrivalDelayGroups</th>\n",
       "      <th>ArrTimeBlk</th>\n",
       "      <th>DistanceGroup</th>\n",
       "      <th>DivAirportLandings</th>\n",
       "    </tr>\n",
       "  </thead>\n",
       "  <tbody>\n",
       "    <tr>\n",
       "      <th>0</th>\n",
       "      <td>2019-04-01</td>\n",
       "      <td>Envoy Air</td>\n",
       "      <td>LIT</td>\n",
       "      <td>ORD</td>\n",
       "      <td>False</td>\n",
       "      <td>False</td>\n",
       "      <td>1212</td>\n",
       "      <td>1209.0</td>\n",
       "      <td>0.0</td>\n",
       "      <td>-3.0</td>\n",
       "      <td>...</td>\n",
       "      <td>1219.0</td>\n",
       "      <td>1342.0</td>\n",
       "      <td>8.0</td>\n",
       "      <td>1405</td>\n",
       "      <td>-15.0</td>\n",
       "      <td>0.0</td>\n",
       "      <td>-1.0</td>\n",
       "      <td>1400-1459</td>\n",
       "      <td>3</td>\n",
       "      <td>0</td>\n",
       "    </tr>\n",
       "    <tr>\n",
       "      <th>1</th>\n",
       "      <td>2019-04-02</td>\n",
       "      <td>Envoy Air</td>\n",
       "      <td>LIT</td>\n",
       "      <td>ORD</td>\n",
       "      <td>False</td>\n",
       "      <td>False</td>\n",
       "      <td>1212</td>\n",
       "      <td>1200.0</td>\n",
       "      <td>0.0</td>\n",
       "      <td>-12.0</td>\n",
       "      <td>...</td>\n",
       "      <td>1210.0</td>\n",
       "      <td>1339.0</td>\n",
       "      <td>9.0</td>\n",
       "      <td>1405</td>\n",
       "      <td>-17.0</td>\n",
       "      <td>0.0</td>\n",
       "      <td>-2.0</td>\n",
       "      <td>1400-1459</td>\n",
       "      <td>3</td>\n",
       "      <td>0</td>\n",
       "    </tr>\n",
       "    <tr>\n",
       "      <th>2</th>\n",
       "      <td>2019-04-03</td>\n",
       "      <td>Envoy Air</td>\n",
       "      <td>LIT</td>\n",
       "      <td>ORD</td>\n",
       "      <td>False</td>\n",
       "      <td>False</td>\n",
       "      <td>1212</td>\n",
       "      <td>1203.0</td>\n",
       "      <td>0.0</td>\n",
       "      <td>-9.0</td>\n",
       "      <td>...</td>\n",
       "      <td>1214.0</td>\n",
       "      <td>1336.0</td>\n",
       "      <td>6.0</td>\n",
       "      <td>1405</td>\n",
       "      <td>-23.0</td>\n",
       "      <td>0.0</td>\n",
       "      <td>-2.0</td>\n",
       "      <td>1400-1459</td>\n",
       "      <td>3</td>\n",
       "      <td>0</td>\n",
       "    </tr>\n",
       "    <tr>\n",
       "      <th>3</th>\n",
       "      <td>2019-04-04</td>\n",
       "      <td>Envoy Air</td>\n",
       "      <td>LIT</td>\n",
       "      <td>ORD</td>\n",
       "      <td>False</td>\n",
       "      <td>False</td>\n",
       "      <td>1212</td>\n",
       "      <td>1435.0</td>\n",
       "      <td>143.0</td>\n",
       "      <td>143.0</td>\n",
       "      <td>...</td>\n",
       "      <td>1452.0</td>\n",
       "      <td>1615.0</td>\n",
       "      <td>6.0</td>\n",
       "      <td>1405</td>\n",
       "      <td>136.0</td>\n",
       "      <td>1.0</td>\n",
       "      <td>9.0</td>\n",
       "      <td>1400-1459</td>\n",
       "      <td>3</td>\n",
       "      <td>0</td>\n",
       "    </tr>\n",
       "    <tr>\n",
       "      <th>4</th>\n",
       "      <td>2019-04-05</td>\n",
       "      <td>Envoy Air</td>\n",
       "      <td>LIT</td>\n",
       "      <td>ORD</td>\n",
       "      <td>False</td>\n",
       "      <td>False</td>\n",
       "      <td>1212</td>\n",
       "      <td>1216.0</td>\n",
       "      <td>4.0</td>\n",
       "      <td>4.0</td>\n",
       "      <td>...</td>\n",
       "      <td>1234.0</td>\n",
       "      <td>1357.0</td>\n",
       "      <td>13.0</td>\n",
       "      <td>1405</td>\n",
       "      <td>5.0</td>\n",
       "      <td>0.0</td>\n",
       "      <td>0.0</td>\n",
       "      <td>1400-1459</td>\n",
       "      <td>3</td>\n",
       "      <td>0</td>\n",
       "    </tr>\n",
       "  </tbody>\n",
       "</table>\n",
       "<p>5 rows × 61 columns</p>\n",
       "</div>"
      ],
      "text/plain": [
       "   FlightDate    Airline Origin Dest  Cancelled  Diverted  CRSDepTime  \\\n",
       "0  2019-04-01  Envoy Air    LIT  ORD      False     False        1212   \n",
       "1  2019-04-02  Envoy Air    LIT  ORD      False     False        1212   \n",
       "2  2019-04-03  Envoy Air    LIT  ORD      False     False        1212   \n",
       "3  2019-04-04  Envoy Air    LIT  ORD      False     False        1212   \n",
       "4  2019-04-05  Envoy Air    LIT  ORD      False     False        1212   \n",
       "\n",
       "   DepTime  DepDelayMinutes  DepDelay  ...  WheelsOff  WheelsOn  TaxiIn  \\\n",
       "0   1209.0              0.0      -3.0  ...     1219.0    1342.0     8.0   \n",
       "1   1200.0              0.0     -12.0  ...     1210.0    1339.0     9.0   \n",
       "2   1203.0              0.0      -9.0  ...     1214.0    1336.0     6.0   \n",
       "3   1435.0            143.0     143.0  ...     1452.0    1615.0     6.0   \n",
       "4   1216.0              4.0       4.0  ...     1234.0    1357.0    13.0   \n",
       "\n",
       "   CRSArrTime  ArrDelay  ArrDel15  ArrivalDelayGroups  ArrTimeBlk  \\\n",
       "0        1405     -15.0       0.0                -1.0   1400-1459   \n",
       "1        1405     -17.0       0.0                -2.0   1400-1459   \n",
       "2        1405     -23.0       0.0                -2.0   1400-1459   \n",
       "3        1405     136.0       1.0                 9.0   1400-1459   \n",
       "4        1405       5.0       0.0                 0.0   1400-1459   \n",
       "\n",
       "   DistanceGroup  DivAirportLandings  \n",
       "0              3                   0  \n",
       "1              3                   0  \n",
       "2              3                   0  \n",
       "3              3                   0  \n",
       "4              3                   0  \n",
       "\n",
       "[5 rows x 61 columns]"
      ]
     },
     "execution_count": 39,
     "metadata": {},
     "output_type": "execute_result"
    }
   ],
   "source": [
    "#read csv file\n",
    "df2=pd.read_csv('/Users/saaijeeshsn/Data Mining project/Combined_Flights_2019.csv')\n",
    "df2.head()"
   ]
  },
  {
   "cell_type": "code",
   "execution_count": 40,
   "metadata": {},
   "outputs": [
    {
     "data": {
      "text/plain": [
       "(8091684, 61)"
      ]
     },
     "execution_count": 40,
     "metadata": {},
     "output_type": "execute_result"
    }
   ],
   "source": [
    "#find its shape\n",
    "df2.shape"
   ]
  },
  {
   "cell_type": "code",
   "execution_count": 41,
   "metadata": {},
   "outputs": [
    {
     "data": {
      "text/plain": [
       "Index(['FlightDate', 'Airline', 'Origin', 'Dest', 'Cancelled', 'Diverted',\n",
       "       'CRSDepTime', 'DepTime', 'DepDelayMinutes', 'DepDelay', 'ArrTime',\n",
       "       'ArrDelayMinutes', 'AirTime', 'CRSElapsedTime', 'ActualElapsedTime',\n",
       "       'Distance', 'Year', 'Quarter', 'Month', 'DayofMonth', 'DayOfWeek',\n",
       "       'Marketing_Airline_Network', 'Operated_or_Branded_Code_Share_Partners',\n",
       "       'DOT_ID_Marketing_Airline', 'IATA_Code_Marketing_Airline',\n",
       "       'Flight_Number_Marketing_Airline', 'Operating_Airline',\n",
       "       'DOT_ID_Operating_Airline', 'IATA_Code_Operating_Airline',\n",
       "       'Tail_Number', 'Flight_Number_Operating_Airline', 'OriginAirportID',\n",
       "       'OriginAirportSeqID', 'OriginCityMarketID', 'OriginCityName',\n",
       "       'OriginState', 'OriginStateFips', 'OriginStateName', 'OriginWac',\n",
       "       'DestAirportID', 'DestAirportSeqID', 'DestCityMarketID', 'DestCityName',\n",
       "       'DestState', 'DestStateFips', 'DestStateName', 'DestWac', 'DepDel15',\n",
       "       'DepartureDelayGroups', 'DepTimeBlk', 'TaxiOut', 'WheelsOff',\n",
       "       'WheelsOn', 'TaxiIn', 'CRSArrTime', 'ArrDelay', 'ArrDel15',\n",
       "       'ArrivalDelayGroups', 'ArrTimeBlk', 'DistanceGroup',\n",
       "       'DivAirportLandings'],\n",
       "      dtype='object')"
      ]
     },
     "execution_count": 41,
     "metadata": {},
     "output_type": "execute_result"
    }
   ],
   "source": [
    "#display the column names\n",
    "df2.columns"
   ]
  },
  {
   "cell_type": "markdown",
   "metadata": {},
   "source": [
    "## Data Preprocessing"
   ]
  },
  {
   "cell_type": "markdown",
   "metadata": {},
   "source": [
    "### 1. Rename columns to lower case for better readability"
   ]
  },
  {
   "cell_type": "code",
   "execution_count": 42,
   "metadata": {},
   "outputs": [
    {
     "data": {
      "text/plain": [
       "Index(['flightdate', 'airline', 'origin', 'dest', 'cancelled', 'diverted',\n",
       "       'crsdeptime', 'deptime', 'depdelayminutes', 'depdelay', 'arrtime',\n",
       "       'arrdelayminutes', 'airtime', 'crselapsedtime', 'actualelapsedtime',\n",
       "       'distance', 'year', 'quarter', 'month', 'dayofmonth', 'dayofweek',\n",
       "       'marketing_airline_network', 'operated_or_branded_code_share_partners',\n",
       "       'dot_id_marketing_airline', 'iata_code_marketing_airline',\n",
       "       'flight_number_marketing_airline', 'operating_airline',\n",
       "       'dot_id_operating_airline', 'iata_code_operating_airline',\n",
       "       'tail_number', 'flight_number_operating_airline', 'originairportid',\n",
       "       'originairportseqid', 'origincitymarketid', 'origincityname',\n",
       "       'originstate', 'originstatefips', 'originstatename', 'originwac',\n",
       "       'destairportid', 'destairportseqid', 'destcitymarketid', 'destcityname',\n",
       "       'deststate', 'deststatefips', 'deststatename', 'destwac', 'depdel15',\n",
       "       'departuredelaygroups', 'deptimeblk', 'taxiout', 'wheelsoff',\n",
       "       'wheelson', 'taxiin', 'crsarrtime', 'arrdelay', 'arrdel15',\n",
       "       'arrivaldelaygroups', 'arrtimeblk', 'distancegroup',\n",
       "       'divairportlandings'],\n",
       "      dtype='object')"
      ]
     },
     "execution_count": 42,
     "metadata": {},
     "output_type": "execute_result"
    }
   ],
   "source": [
    "#rename columns\n",
    "df2.columns = df2.columns.str.lower()\n",
    "df2.columns"
   ]
  },
  {
   "cell_type": "markdown",
   "metadata": {},
   "source": [
    "### 2. Filter the data for flights that weren't cancelled and not diverted."
   ]
  },
  {
   "cell_type": "code",
   "execution_count": 43,
   "metadata": {},
   "outputs": [
    {
     "data": {
      "text/html": [
       "<div>\n",
       "<style scoped>\n",
       "    .dataframe tbody tr th:only-of-type {\n",
       "        vertical-align: middle;\n",
       "    }\n",
       "\n",
       "    .dataframe tbody tr th {\n",
       "        vertical-align: top;\n",
       "    }\n",
       "\n",
       "    .dataframe thead th {\n",
       "        text-align: right;\n",
       "    }\n",
       "</style>\n",
       "<table border=\"1\" class=\"dataframe\">\n",
       "  <thead>\n",
       "    <tr style=\"text-align: right;\">\n",
       "      <th></th>\n",
       "      <th>flightdate</th>\n",
       "      <th>airline</th>\n",
       "      <th>origin</th>\n",
       "      <th>dest</th>\n",
       "      <th>cancelled</th>\n",
       "      <th>diverted</th>\n",
       "      <th>crsdeptime</th>\n",
       "      <th>deptime</th>\n",
       "      <th>depdelayminutes</th>\n",
       "      <th>depdelay</th>\n",
       "      <th>...</th>\n",
       "      <th>wheelsoff</th>\n",
       "      <th>wheelson</th>\n",
       "      <th>taxiin</th>\n",
       "      <th>crsarrtime</th>\n",
       "      <th>arrdelay</th>\n",
       "      <th>arrdel15</th>\n",
       "      <th>arrivaldelaygroups</th>\n",
       "      <th>arrtimeblk</th>\n",
       "      <th>distancegroup</th>\n",
       "      <th>divairportlandings</th>\n",
       "    </tr>\n",
       "  </thead>\n",
       "  <tbody>\n",
       "    <tr>\n",
       "      <th>0</th>\n",
       "      <td>2019-04-01</td>\n",
       "      <td>Envoy Air</td>\n",
       "      <td>LIT</td>\n",
       "      <td>ORD</td>\n",
       "      <td>False</td>\n",
       "      <td>False</td>\n",
       "      <td>1212</td>\n",
       "      <td>1209.0</td>\n",
       "      <td>0.0</td>\n",
       "      <td>-3.0</td>\n",
       "      <td>...</td>\n",
       "      <td>1219.0</td>\n",
       "      <td>1342.0</td>\n",
       "      <td>8.0</td>\n",
       "      <td>1405</td>\n",
       "      <td>-15.0</td>\n",
       "      <td>0.0</td>\n",
       "      <td>-1.0</td>\n",
       "      <td>1400-1459</td>\n",
       "      <td>3</td>\n",
       "      <td>0</td>\n",
       "    </tr>\n",
       "    <tr>\n",
       "      <th>1</th>\n",
       "      <td>2019-04-02</td>\n",
       "      <td>Envoy Air</td>\n",
       "      <td>LIT</td>\n",
       "      <td>ORD</td>\n",
       "      <td>False</td>\n",
       "      <td>False</td>\n",
       "      <td>1212</td>\n",
       "      <td>1200.0</td>\n",
       "      <td>0.0</td>\n",
       "      <td>-12.0</td>\n",
       "      <td>...</td>\n",
       "      <td>1210.0</td>\n",
       "      <td>1339.0</td>\n",
       "      <td>9.0</td>\n",
       "      <td>1405</td>\n",
       "      <td>-17.0</td>\n",
       "      <td>0.0</td>\n",
       "      <td>-2.0</td>\n",
       "      <td>1400-1459</td>\n",
       "      <td>3</td>\n",
       "      <td>0</td>\n",
       "    </tr>\n",
       "    <tr>\n",
       "      <th>2</th>\n",
       "      <td>2019-04-03</td>\n",
       "      <td>Envoy Air</td>\n",
       "      <td>LIT</td>\n",
       "      <td>ORD</td>\n",
       "      <td>False</td>\n",
       "      <td>False</td>\n",
       "      <td>1212</td>\n",
       "      <td>1203.0</td>\n",
       "      <td>0.0</td>\n",
       "      <td>-9.0</td>\n",
       "      <td>...</td>\n",
       "      <td>1214.0</td>\n",
       "      <td>1336.0</td>\n",
       "      <td>6.0</td>\n",
       "      <td>1405</td>\n",
       "      <td>-23.0</td>\n",
       "      <td>0.0</td>\n",
       "      <td>-2.0</td>\n",
       "      <td>1400-1459</td>\n",
       "      <td>3</td>\n",
       "      <td>0</td>\n",
       "    </tr>\n",
       "    <tr>\n",
       "      <th>3</th>\n",
       "      <td>2019-04-04</td>\n",
       "      <td>Envoy Air</td>\n",
       "      <td>LIT</td>\n",
       "      <td>ORD</td>\n",
       "      <td>False</td>\n",
       "      <td>False</td>\n",
       "      <td>1212</td>\n",
       "      <td>1435.0</td>\n",
       "      <td>143.0</td>\n",
       "      <td>143.0</td>\n",
       "      <td>...</td>\n",
       "      <td>1452.0</td>\n",
       "      <td>1615.0</td>\n",
       "      <td>6.0</td>\n",
       "      <td>1405</td>\n",
       "      <td>136.0</td>\n",
       "      <td>1.0</td>\n",
       "      <td>9.0</td>\n",
       "      <td>1400-1459</td>\n",
       "      <td>3</td>\n",
       "      <td>0</td>\n",
       "    </tr>\n",
       "    <tr>\n",
       "      <th>4</th>\n",
       "      <td>2019-04-05</td>\n",
       "      <td>Envoy Air</td>\n",
       "      <td>LIT</td>\n",
       "      <td>ORD</td>\n",
       "      <td>False</td>\n",
       "      <td>False</td>\n",
       "      <td>1212</td>\n",
       "      <td>1216.0</td>\n",
       "      <td>4.0</td>\n",
       "      <td>4.0</td>\n",
       "      <td>...</td>\n",
       "      <td>1234.0</td>\n",
       "      <td>1357.0</td>\n",
       "      <td>13.0</td>\n",
       "      <td>1405</td>\n",
       "      <td>5.0</td>\n",
       "      <td>0.0</td>\n",
       "      <td>0.0</td>\n",
       "      <td>1400-1459</td>\n",
       "      <td>3</td>\n",
       "      <td>0</td>\n",
       "    </tr>\n",
       "  </tbody>\n",
       "</table>\n",
       "<p>5 rows × 61 columns</p>\n",
       "</div>"
      ],
      "text/plain": [
       "   flightdate    airline origin dest  cancelled  diverted  crsdeptime  \\\n",
       "0  2019-04-01  Envoy Air    LIT  ORD      False     False        1212   \n",
       "1  2019-04-02  Envoy Air    LIT  ORD      False     False        1212   \n",
       "2  2019-04-03  Envoy Air    LIT  ORD      False     False        1212   \n",
       "3  2019-04-04  Envoy Air    LIT  ORD      False     False        1212   \n",
       "4  2019-04-05  Envoy Air    LIT  ORD      False     False        1212   \n",
       "\n",
       "   deptime  depdelayminutes  depdelay  ...  wheelsoff  wheelson  taxiin  \\\n",
       "0   1209.0              0.0      -3.0  ...     1219.0    1342.0     8.0   \n",
       "1   1200.0              0.0     -12.0  ...     1210.0    1339.0     9.0   \n",
       "2   1203.0              0.0      -9.0  ...     1214.0    1336.0     6.0   \n",
       "3   1435.0            143.0     143.0  ...     1452.0    1615.0     6.0   \n",
       "4   1216.0              4.0       4.0  ...     1234.0    1357.0    13.0   \n",
       "\n",
       "   crsarrtime  arrdelay  arrdel15  arrivaldelaygroups  arrtimeblk  \\\n",
       "0        1405     -15.0       0.0                -1.0   1400-1459   \n",
       "1        1405     -17.0       0.0                -2.0   1400-1459   \n",
       "2        1405     -23.0       0.0                -2.0   1400-1459   \n",
       "3        1405     136.0       1.0                 9.0   1400-1459   \n",
       "4        1405       5.0       0.0                 0.0   1400-1459   \n",
       "\n",
       "   distancegroup  divairportlandings  \n",
       "0              3                   0  \n",
       "1              3                   0  \n",
       "2              3                   0  \n",
       "3              3                   0  \n",
       "4              3                   0  \n",
       "\n",
       "[5 rows x 61 columns]"
      ]
     },
     "execution_count": 43,
     "metadata": {},
     "output_type": "execute_result"
    }
   ],
   "source": [
    "df2_cancellation_f = df2[(df2['cancelled'] == False) & (df2['diverted'] == False)]\n",
    "df2_cancellation_f.head(5)"
   ]
  },
  {
   "cell_type": "markdown",
   "metadata": {},
   "source": [
    "### 3. Check for missing values"
   ]
  },
  {
   "cell_type": "code",
   "execution_count": 44,
   "metadata": {},
   "outputs": [
    {
     "data": {
      "text/plain": [
       "flightdate            0\n",
       "airline               0\n",
       "origin                0\n",
       "dest                  0\n",
       "cancelled             0\n",
       "                     ..\n",
       "arrdel15              0\n",
       "arrivaldelaygroups    0\n",
       "arrtimeblk            0\n",
       "distancegroup         0\n",
       "divairportlandings    0\n",
       "Length: 61, dtype: int64"
      ]
     },
     "execution_count": 44,
     "metadata": {},
     "output_type": "execute_result"
    }
   ],
   "source": [
    "#check for missing values\n",
    "df2_cancellation_f.isnull().sum()"
   ]
  },
  {
   "cell_type": "code",
   "execution_count": 45,
   "metadata": {},
   "outputs": [
    {
     "data": {
      "text/plain": [
       "crselapsedtime    1\n",
       "dtype: int64"
      ]
     },
     "execution_count": 45,
     "metadata": {},
     "output_type": "execute_result"
    }
   ],
   "source": [
    "#check for null entries\n",
    "filter_null_counts_2 = df2_cancellation_f.isnull().sum()\n",
    "\n",
    "#filter the columns with null entries\n",
    "filter_columns_with_null_2 = filter_null_counts_2[filter_null_counts_2 > 0]\n",
    "\n",
    "#display the column names\n",
    "filter_columns_with_null_2"
   ]
  },
  {
   "cell_type": "markdown",
   "metadata": {},
   "source": [
    "### Handling crselapsedtime column missing values"
   ]
  },
  {
   "cell_type": "code",
   "execution_count": 46,
   "metadata": {},
   "outputs": [],
   "source": [
    "df2_cancellation_f['crselapsedtime'].fillna(df2_cancellation_f['actualelapsedtime'], inplace=True)"
   ]
  },
  {
   "cell_type": "code",
   "execution_count": 47,
   "metadata": {},
   "outputs": [
    {
     "data": {
      "text/plain": [
       "Series([], dtype: int64)"
      ]
     },
     "execution_count": 47,
     "metadata": {},
     "output_type": "execute_result"
    }
   ],
   "source": [
    "#check for null entries\n",
    "filter_null_counts_2 = df2_cancellation_f.isnull().sum()\n",
    "\n",
    "#filter the columns with null entries\n",
    "filter_columns_with_null_2 = filter_null_counts_2[filter_null_counts_2 > 0]\n",
    "\n",
    "#display the column names\n",
    "filter_columns_with_null_2"
   ]
  },
  {
   "cell_type": "markdown",
   "metadata": {},
   "source": [
    "### 4. Removing unnecessary columns"
   ]
  },
  {
   "cell_type": "code",
   "execution_count": 48,
   "metadata": {},
   "outputs": [
    {
     "data": {
      "text/html": [
       "<div>\n",
       "<style scoped>\n",
       "    .dataframe tbody tr th:only-of-type {\n",
       "        vertical-align: middle;\n",
       "    }\n",
       "\n",
       "    .dataframe tbody tr th {\n",
       "        vertical-align: top;\n",
       "    }\n",
       "\n",
       "    .dataframe thead th {\n",
       "        text-align: right;\n",
       "    }\n",
       "</style>\n",
       "<table border=\"1\" class=\"dataframe\">\n",
       "  <thead>\n",
       "    <tr style=\"text-align: right;\">\n",
       "      <th></th>\n",
       "      <th>flightdate</th>\n",
       "      <th>airline</th>\n",
       "      <th>origin</th>\n",
       "      <th>dest</th>\n",
       "      <th>cancelled</th>\n",
       "      <th>diverted</th>\n",
       "      <th>crsdeptime</th>\n",
       "      <th>deptime</th>\n",
       "      <th>depdelayminutes</th>\n",
       "      <th>depdelay</th>\n",
       "      <th>...</th>\n",
       "      <th>destcityname</th>\n",
       "      <th>deststate</th>\n",
       "      <th>deststatefips</th>\n",
       "      <th>deststatename</th>\n",
       "      <th>destwac</th>\n",
       "      <th>deptimeblk</th>\n",
       "      <th>crsarrtime</th>\n",
       "      <th>arrdelay</th>\n",
       "      <th>arrtimeblk</th>\n",
       "      <th>distancegroup</th>\n",
       "    </tr>\n",
       "  </thead>\n",
       "  <tbody>\n",
       "    <tr>\n",
       "      <th>0</th>\n",
       "      <td>2019-04-01</td>\n",
       "      <td>Envoy Air</td>\n",
       "      <td>LIT</td>\n",
       "      <td>ORD</td>\n",
       "      <td>False</td>\n",
       "      <td>False</td>\n",
       "      <td>1212</td>\n",
       "      <td>1209.0</td>\n",
       "      <td>0.0</td>\n",
       "      <td>-3.0</td>\n",
       "      <td>...</td>\n",
       "      <td>Chicago, IL</td>\n",
       "      <td>IL</td>\n",
       "      <td>17</td>\n",
       "      <td>Illinois</td>\n",
       "      <td>41</td>\n",
       "      <td>1200-1259</td>\n",
       "      <td>1405</td>\n",
       "      <td>-15.0</td>\n",
       "      <td>1400-1459</td>\n",
       "      <td>3</td>\n",
       "    </tr>\n",
       "    <tr>\n",
       "      <th>1</th>\n",
       "      <td>2019-04-02</td>\n",
       "      <td>Envoy Air</td>\n",
       "      <td>LIT</td>\n",
       "      <td>ORD</td>\n",
       "      <td>False</td>\n",
       "      <td>False</td>\n",
       "      <td>1212</td>\n",
       "      <td>1200.0</td>\n",
       "      <td>0.0</td>\n",
       "      <td>-12.0</td>\n",
       "      <td>...</td>\n",
       "      <td>Chicago, IL</td>\n",
       "      <td>IL</td>\n",
       "      <td>17</td>\n",
       "      <td>Illinois</td>\n",
       "      <td>41</td>\n",
       "      <td>1200-1259</td>\n",
       "      <td>1405</td>\n",
       "      <td>-17.0</td>\n",
       "      <td>1400-1459</td>\n",
       "      <td>3</td>\n",
       "    </tr>\n",
       "    <tr>\n",
       "      <th>2</th>\n",
       "      <td>2019-04-03</td>\n",
       "      <td>Envoy Air</td>\n",
       "      <td>LIT</td>\n",
       "      <td>ORD</td>\n",
       "      <td>False</td>\n",
       "      <td>False</td>\n",
       "      <td>1212</td>\n",
       "      <td>1203.0</td>\n",
       "      <td>0.0</td>\n",
       "      <td>-9.0</td>\n",
       "      <td>...</td>\n",
       "      <td>Chicago, IL</td>\n",
       "      <td>IL</td>\n",
       "      <td>17</td>\n",
       "      <td>Illinois</td>\n",
       "      <td>41</td>\n",
       "      <td>1200-1259</td>\n",
       "      <td>1405</td>\n",
       "      <td>-23.0</td>\n",
       "      <td>1400-1459</td>\n",
       "      <td>3</td>\n",
       "    </tr>\n",
       "    <tr>\n",
       "      <th>3</th>\n",
       "      <td>2019-04-04</td>\n",
       "      <td>Envoy Air</td>\n",
       "      <td>LIT</td>\n",
       "      <td>ORD</td>\n",
       "      <td>False</td>\n",
       "      <td>False</td>\n",
       "      <td>1212</td>\n",
       "      <td>1435.0</td>\n",
       "      <td>143.0</td>\n",
       "      <td>143.0</td>\n",
       "      <td>...</td>\n",
       "      <td>Chicago, IL</td>\n",
       "      <td>IL</td>\n",
       "      <td>17</td>\n",
       "      <td>Illinois</td>\n",
       "      <td>41</td>\n",
       "      <td>1200-1259</td>\n",
       "      <td>1405</td>\n",
       "      <td>136.0</td>\n",
       "      <td>1400-1459</td>\n",
       "      <td>3</td>\n",
       "    </tr>\n",
       "    <tr>\n",
       "      <th>4</th>\n",
       "      <td>2019-04-05</td>\n",
       "      <td>Envoy Air</td>\n",
       "      <td>LIT</td>\n",
       "      <td>ORD</td>\n",
       "      <td>False</td>\n",
       "      <td>False</td>\n",
       "      <td>1212</td>\n",
       "      <td>1216.0</td>\n",
       "      <td>4.0</td>\n",
       "      <td>4.0</td>\n",
       "      <td>...</td>\n",
       "      <td>Chicago, IL</td>\n",
       "      <td>IL</td>\n",
       "      <td>17</td>\n",
       "      <td>Illinois</td>\n",
       "      <td>41</td>\n",
       "      <td>1200-1259</td>\n",
       "      <td>1405</td>\n",
       "      <td>5.0</td>\n",
       "      <td>1400-1459</td>\n",
       "      <td>3</td>\n",
       "    </tr>\n",
       "  </tbody>\n",
       "</table>\n",
       "<p>5 rows × 51 columns</p>\n",
       "</div>"
      ],
      "text/plain": [
       "   flightdate    airline origin dest  cancelled  diverted  crsdeptime  \\\n",
       "0  2019-04-01  Envoy Air    LIT  ORD      False     False        1212   \n",
       "1  2019-04-02  Envoy Air    LIT  ORD      False     False        1212   \n",
       "2  2019-04-03  Envoy Air    LIT  ORD      False     False        1212   \n",
       "3  2019-04-04  Envoy Air    LIT  ORD      False     False        1212   \n",
       "4  2019-04-05  Envoy Air    LIT  ORD      False     False        1212   \n",
       "\n",
       "   deptime  depdelayminutes  depdelay  ...  destcityname  deststate  \\\n",
       "0   1209.0              0.0      -3.0  ...   Chicago, IL         IL   \n",
       "1   1200.0              0.0     -12.0  ...   Chicago, IL         IL   \n",
       "2   1203.0              0.0      -9.0  ...   Chicago, IL         IL   \n",
       "3   1435.0            143.0     143.0  ...   Chicago, IL         IL   \n",
       "4   1216.0              4.0       4.0  ...   Chicago, IL         IL   \n",
       "\n",
       "   deststatefips  deststatename  destwac  deptimeblk  crsarrtime  arrdelay  \\\n",
       "0             17       Illinois       41   1200-1259        1405     -15.0   \n",
       "1             17       Illinois       41   1200-1259        1405     -17.0   \n",
       "2             17       Illinois       41   1200-1259        1405     -23.0   \n",
       "3             17       Illinois       41   1200-1259        1405     136.0   \n",
       "4             17       Illinois       41   1200-1259        1405       5.0   \n",
       "\n",
       "   arrtimeblk  distancegroup  \n",
       "0   1400-1459              3  \n",
       "1   1400-1459              3  \n",
       "2   1400-1459              3  \n",
       "3   1400-1459              3  \n",
       "4   1400-1459              3  \n",
       "\n",
       "[5 rows x 51 columns]"
      ]
     },
     "execution_count": 48,
     "metadata": {},
     "output_type": "execute_result"
    }
   ],
   "source": [
    "df2_cancellation_f=df2_cancellation_f.drop(columns=['tail_number','taxiout','wheelsoff','wheelson','taxiin','depdel15','departuredelaygroups','arrdel15','arrivaldelaygroups','divairportlandings'])\n",
    "df2_cancellation_f.head()"
   ]
  },
  {
   "cell_type": "markdown",
   "metadata": {},
   "source": [
    "### 5. Check for datatypes"
   ]
  },
  {
   "cell_type": "code",
   "execution_count": 49,
   "metadata": {},
   "outputs": [
    {
     "name": "stdout",
     "output_type": "stream",
     "text": [
      "<class 'pandas.core.frame.DataFrame'>\n",
      "Index: 7917264 entries, 0 to 8091683\n",
      "Data columns (total 51 columns):\n",
      " #   Column                                   Dtype  \n",
      "---  ------                                   -----  \n",
      " 0   flightdate                               object \n",
      " 1   airline                                  object \n",
      " 2   origin                                   object \n",
      " 3   dest                                     object \n",
      " 4   cancelled                                bool   \n",
      " 5   diverted                                 bool   \n",
      " 6   crsdeptime                               int64  \n",
      " 7   deptime                                  float64\n",
      " 8   depdelayminutes                          float64\n",
      " 9   depdelay                                 float64\n",
      " 10  arrtime                                  float64\n",
      " 11  arrdelayminutes                          float64\n",
      " 12  airtime                                  float64\n",
      " 13  crselapsedtime                           float64\n",
      " 14  actualelapsedtime                        float64\n",
      " 15  distance                                 float64\n",
      " 16  year                                     int64  \n",
      " 17  quarter                                  int64  \n",
      " 18  month                                    int64  \n",
      " 19  dayofmonth                               int64  \n",
      " 20  dayofweek                                int64  \n",
      " 21  marketing_airline_network                object \n",
      " 22  operated_or_branded_code_share_partners  object \n",
      " 23  dot_id_marketing_airline                 int64  \n",
      " 24  iata_code_marketing_airline              object \n",
      " 25  flight_number_marketing_airline          int64  \n",
      " 26  operating_airline                        object \n",
      " 27  dot_id_operating_airline                 int64  \n",
      " 28  iata_code_operating_airline              object \n",
      " 29  flight_number_operating_airline          int64  \n",
      " 30  originairportid                          int64  \n",
      " 31  originairportseqid                       int64  \n",
      " 32  origincitymarketid                       int64  \n",
      " 33  origincityname                           object \n",
      " 34  originstate                              object \n",
      " 35  originstatefips                          int64  \n",
      " 36  originstatename                          object \n",
      " 37  originwac                                int64  \n",
      " 38  destairportid                            int64  \n",
      " 39  destairportseqid                         int64  \n",
      " 40  destcitymarketid                         int64  \n",
      " 41  destcityname                             object \n",
      " 42  deststate                                object \n",
      " 43  deststatefips                            int64  \n",
      " 44  deststatename                            object \n",
      " 45  destwac                                  int64  \n",
      " 46  deptimeblk                               object \n",
      " 47  crsarrtime                               int64  \n",
      " 48  arrdelay                                 float64\n",
      " 49  arrtimeblk                               object \n",
      " 50  distancegroup                            int64  \n",
      "dtypes: bool(2), float64(10), int64(22), object(17)\n",
      "memory usage: 3.0+ GB\n"
     ]
    }
   ],
   "source": [
    "df2_cancellation_f.info()"
   ]
  },
  {
   "cell_type": "code",
   "execution_count": 50,
   "metadata": {},
   "outputs": [
    {
     "name": "stdout",
     "output_type": "stream",
     "text": [
      "<class 'pandas.core.frame.DataFrame'>\n",
      "Index: 7917264 entries, 0 to 8091683\n",
      "Data columns (total 51 columns):\n",
      " #   Column                                   Dtype         \n",
      "---  ------                                   -----         \n",
      " 0   flightdate                               datetime64[ns]\n",
      " 1   airline                                  object        \n",
      " 2   origin                                   object        \n",
      " 3   dest                                     object        \n",
      " 4   cancelled                                bool          \n",
      " 5   diverted                                 bool          \n",
      " 6   crsdeptime                               int64         \n",
      " 7   deptime                                  float64       \n",
      " 8   depdelayminutes                          float64       \n",
      " 9   depdelay                                 float64       \n",
      " 10  arrtime                                  float64       \n",
      " 11  arrdelayminutes                          float64       \n",
      " 12  airtime                                  float64       \n",
      " 13  crselapsedtime                           float64       \n",
      " 14  actualelapsedtime                        float64       \n",
      " 15  distance                                 float64       \n",
      " 16  year                                     int64         \n",
      " 17  quarter                                  int64         \n",
      " 18  month                                    int64         \n",
      " 19  dayofmonth                               int64         \n",
      " 20  dayofweek                                int64         \n",
      " 21  marketing_airline_network                object        \n",
      " 22  operated_or_branded_code_share_partners  object        \n",
      " 23  dot_id_marketing_airline                 int64         \n",
      " 24  iata_code_marketing_airline              object        \n",
      " 25  flight_number_marketing_airline          int64         \n",
      " 26  operating_airline                        object        \n",
      " 27  dot_id_operating_airline                 int64         \n",
      " 28  iata_code_operating_airline              object        \n",
      " 29  flight_number_operating_airline          int64         \n",
      " 30  originairportid                          int64         \n",
      " 31  originairportseqid                       int64         \n",
      " 32  origincitymarketid                       int64         \n",
      " 33  origincityname                           object        \n",
      " 34  originstate                              object        \n",
      " 35  originstatefips                          int64         \n",
      " 36  originstatename                          object        \n",
      " 37  originwac                                int64         \n",
      " 38  destairportid                            int64         \n",
      " 39  destairportseqid                         int64         \n",
      " 40  destcitymarketid                         int64         \n",
      " 41  destcityname                             object        \n",
      " 42  deststate                                object        \n",
      " 43  deststatefips                            int64         \n",
      " 44  deststatename                            object        \n",
      " 45  destwac                                  int64         \n",
      " 46  deptimeblk                               object        \n",
      " 47  crsarrtime                               int64         \n",
      " 48  arrdelay                                 float64       \n",
      " 49  arrtimeblk                               object        \n",
      " 50  distancegroup                            int64         \n",
      "dtypes: bool(2), datetime64[ns](1), float64(10), int64(22), object(16)\n",
      "memory usage: 3.0+ GB\n"
     ]
    }
   ],
   "source": [
    "#convert the datatype \n",
    "df2_cancellation_f['flightdate']=pd.to_datetime(df2_cancellation_f['flightdate'])\n",
    "df2_cancellation_f.info()"
   ]
  },
  {
   "cell_type": "markdown",
   "metadata": {},
   "source": [
    "### 6. Check for Duplicates"
   ]
  },
  {
   "cell_type": "code",
   "execution_count": 51,
   "metadata": {},
   "outputs": [
    {
     "data": {
      "text/plain": [
       "0"
      ]
     },
     "execution_count": 51,
     "metadata": {},
     "output_type": "execute_result"
    }
   ],
   "source": [
    "#check for duplicate entries\n",
    "duplicate_rows_2 = df2_cancellation_f.duplicated().sum()\n",
    "duplicate_rows_2"
   ]
  },
  {
   "cell_type": "markdown",
   "metadata": {},
   "source": [
    "## Data Overview"
   ]
  },
  {
   "cell_type": "markdown",
   "metadata": {},
   "source": [
    "* ### Year 2020"
   ]
  },
  {
   "cell_type": "code",
   "execution_count": 52,
   "metadata": {},
   "outputs": [
    {
     "data": {
      "text/html": [
       "<div>\n",
       "<style scoped>\n",
       "    .dataframe tbody tr th:only-of-type {\n",
       "        vertical-align: middle;\n",
       "    }\n",
       "\n",
       "    .dataframe tbody tr th {\n",
       "        vertical-align: top;\n",
       "    }\n",
       "\n",
       "    .dataframe thead th {\n",
       "        text-align: right;\n",
       "    }\n",
       "</style>\n",
       "<table border=\"1\" class=\"dataframe\">\n",
       "  <thead>\n",
       "    <tr style=\"text-align: right;\">\n",
       "      <th></th>\n",
       "      <th>FlightDate</th>\n",
       "      <th>Airline</th>\n",
       "      <th>Origin</th>\n",
       "      <th>Dest</th>\n",
       "      <th>Cancelled</th>\n",
       "      <th>Diverted</th>\n",
       "      <th>CRSDepTime</th>\n",
       "      <th>DepTime</th>\n",
       "      <th>DepDelayMinutes</th>\n",
       "      <th>DepDelay</th>\n",
       "      <th>...</th>\n",
       "      <th>WheelsOff</th>\n",
       "      <th>WheelsOn</th>\n",
       "      <th>TaxiIn</th>\n",
       "      <th>CRSArrTime</th>\n",
       "      <th>ArrDelay</th>\n",
       "      <th>ArrDel15</th>\n",
       "      <th>ArrivalDelayGroups</th>\n",
       "      <th>ArrTimeBlk</th>\n",
       "      <th>DistanceGroup</th>\n",
       "      <th>DivAirportLandings</th>\n",
       "    </tr>\n",
       "  </thead>\n",
       "  <tbody>\n",
       "    <tr>\n",
       "      <th>0</th>\n",
       "      <td>2020-09-01</td>\n",
       "      <td>Comair Inc.</td>\n",
       "      <td>PHL</td>\n",
       "      <td>DAY</td>\n",
       "      <td>False</td>\n",
       "      <td>False</td>\n",
       "      <td>1905</td>\n",
       "      <td>1858.0</td>\n",
       "      <td>0.0</td>\n",
       "      <td>-7.0</td>\n",
       "      <td>...</td>\n",
       "      <td>1914.0</td>\n",
       "      <td>2030.0</td>\n",
       "      <td>4.0</td>\n",
       "      <td>2056</td>\n",
       "      <td>-22.0</td>\n",
       "      <td>0.0</td>\n",
       "      <td>-2.0</td>\n",
       "      <td>2000-2059</td>\n",
       "      <td>2</td>\n",
       "      <td>0.0</td>\n",
       "    </tr>\n",
       "    <tr>\n",
       "      <th>1</th>\n",
       "      <td>2020-09-02</td>\n",
       "      <td>Comair Inc.</td>\n",
       "      <td>PHL</td>\n",
       "      <td>DAY</td>\n",
       "      <td>False</td>\n",
       "      <td>False</td>\n",
       "      <td>1905</td>\n",
       "      <td>1858.0</td>\n",
       "      <td>0.0</td>\n",
       "      <td>-7.0</td>\n",
       "      <td>...</td>\n",
       "      <td>1914.0</td>\n",
       "      <td>2022.0</td>\n",
       "      <td>5.0</td>\n",
       "      <td>2056</td>\n",
       "      <td>-29.0</td>\n",
       "      <td>0.0</td>\n",
       "      <td>-2.0</td>\n",
       "      <td>2000-2059</td>\n",
       "      <td>2</td>\n",
       "      <td>0.0</td>\n",
       "    </tr>\n",
       "    <tr>\n",
       "      <th>2</th>\n",
       "      <td>2020-09-03</td>\n",
       "      <td>Comair Inc.</td>\n",
       "      <td>PHL</td>\n",
       "      <td>DAY</td>\n",
       "      <td>False</td>\n",
       "      <td>False</td>\n",
       "      <td>1905</td>\n",
       "      <td>1855.0</td>\n",
       "      <td>0.0</td>\n",
       "      <td>-10.0</td>\n",
       "      <td>...</td>\n",
       "      <td>2000.0</td>\n",
       "      <td>2117.0</td>\n",
       "      <td>5.0</td>\n",
       "      <td>2056</td>\n",
       "      <td>26.0</td>\n",
       "      <td>1.0</td>\n",
       "      <td>1.0</td>\n",
       "      <td>2000-2059</td>\n",
       "      <td>2</td>\n",
       "      <td>0.0</td>\n",
       "    </tr>\n",
       "    <tr>\n",
       "      <th>3</th>\n",
       "      <td>2020-09-04</td>\n",
       "      <td>Comair Inc.</td>\n",
       "      <td>PHL</td>\n",
       "      <td>DAY</td>\n",
       "      <td>False</td>\n",
       "      <td>False</td>\n",
       "      <td>1905</td>\n",
       "      <td>1857.0</td>\n",
       "      <td>0.0</td>\n",
       "      <td>-8.0</td>\n",
       "      <td>...</td>\n",
       "      <td>1910.0</td>\n",
       "      <td>2023.0</td>\n",
       "      <td>4.0</td>\n",
       "      <td>2056</td>\n",
       "      <td>-29.0</td>\n",
       "      <td>0.0</td>\n",
       "      <td>-2.0</td>\n",
       "      <td>2000-2059</td>\n",
       "      <td>2</td>\n",
       "      <td>0.0</td>\n",
       "    </tr>\n",
       "    <tr>\n",
       "      <th>4</th>\n",
       "      <td>2020-09-05</td>\n",
       "      <td>Comair Inc.</td>\n",
       "      <td>PHL</td>\n",
       "      <td>DAY</td>\n",
       "      <td>False</td>\n",
       "      <td>False</td>\n",
       "      <td>1905</td>\n",
       "      <td>1856.0</td>\n",
       "      <td>0.0</td>\n",
       "      <td>-9.0</td>\n",
       "      <td>...</td>\n",
       "      <td>1910.0</td>\n",
       "      <td>2022.0</td>\n",
       "      <td>4.0</td>\n",
       "      <td>2056</td>\n",
       "      <td>-30.0</td>\n",
       "      <td>0.0</td>\n",
       "      <td>-2.0</td>\n",
       "      <td>2000-2059</td>\n",
       "      <td>2</td>\n",
       "      <td>0.0</td>\n",
       "    </tr>\n",
       "  </tbody>\n",
       "</table>\n",
       "<p>5 rows × 61 columns</p>\n",
       "</div>"
      ],
      "text/plain": [
       "   FlightDate      Airline Origin Dest  Cancelled  Diverted  CRSDepTime  \\\n",
       "0  2020-09-01  Comair Inc.    PHL  DAY      False     False        1905   \n",
       "1  2020-09-02  Comair Inc.    PHL  DAY      False     False        1905   \n",
       "2  2020-09-03  Comair Inc.    PHL  DAY      False     False        1905   \n",
       "3  2020-09-04  Comair Inc.    PHL  DAY      False     False        1905   \n",
       "4  2020-09-05  Comair Inc.    PHL  DAY      False     False        1905   \n",
       "\n",
       "   DepTime  DepDelayMinutes  DepDelay  ...  WheelsOff  WheelsOn  TaxiIn  \\\n",
       "0   1858.0              0.0      -7.0  ...     1914.0    2030.0     4.0   \n",
       "1   1858.0              0.0      -7.0  ...     1914.0    2022.0     5.0   \n",
       "2   1855.0              0.0     -10.0  ...     2000.0    2117.0     5.0   \n",
       "3   1857.0              0.0      -8.0  ...     1910.0    2023.0     4.0   \n",
       "4   1856.0              0.0      -9.0  ...     1910.0    2022.0     4.0   \n",
       "\n",
       "   CRSArrTime  ArrDelay  ArrDel15  ArrivalDelayGroups  ArrTimeBlk  \\\n",
       "0        2056     -22.0       0.0                -2.0   2000-2059   \n",
       "1        2056     -29.0       0.0                -2.0   2000-2059   \n",
       "2        2056      26.0       1.0                 1.0   2000-2059   \n",
       "3        2056     -29.0       0.0                -2.0   2000-2059   \n",
       "4        2056     -30.0       0.0                -2.0   2000-2059   \n",
       "\n",
       "   DistanceGroup  DivAirportLandings  \n",
       "0              2                 0.0  \n",
       "1              2                 0.0  \n",
       "2              2                 0.0  \n",
       "3              2                 0.0  \n",
       "4              2                 0.0  \n",
       "\n",
       "[5 rows x 61 columns]"
      ]
     },
     "execution_count": 52,
     "metadata": {},
     "output_type": "execute_result"
    }
   ],
   "source": [
    "#read csv file\n",
    "df3=pd.read_csv('/Users/saaijeeshsn/Data Mining project/Combined_Flights_2020.csv')\n",
    "df3.head()"
   ]
  },
  {
   "cell_type": "code",
   "execution_count": 53,
   "metadata": {},
   "outputs": [
    {
     "data": {
      "text/plain": [
       "(5022397, 61)"
      ]
     },
     "execution_count": 53,
     "metadata": {},
     "output_type": "execute_result"
    }
   ],
   "source": [
    "#find its shape\n",
    "df3.shape"
   ]
  },
  {
   "cell_type": "code",
   "execution_count": 54,
   "metadata": {},
   "outputs": [
    {
     "data": {
      "text/plain": [
       "Index(['FlightDate', 'Airline', 'Origin', 'Dest', 'Cancelled', 'Diverted',\n",
       "       'CRSDepTime', 'DepTime', 'DepDelayMinutes', 'DepDelay', 'ArrTime',\n",
       "       'ArrDelayMinutes', 'AirTime', 'CRSElapsedTime', 'ActualElapsedTime',\n",
       "       'Distance', 'Year', 'Quarter', 'Month', 'DayofMonth', 'DayOfWeek',\n",
       "       'Marketing_Airline_Network', 'Operated_or_Branded_Code_Share_Partners',\n",
       "       'DOT_ID_Marketing_Airline', 'IATA_Code_Marketing_Airline',\n",
       "       'Flight_Number_Marketing_Airline', 'Operating_Airline',\n",
       "       'DOT_ID_Operating_Airline', 'IATA_Code_Operating_Airline',\n",
       "       'Tail_Number', 'Flight_Number_Operating_Airline', 'OriginAirportID',\n",
       "       'OriginAirportSeqID', 'OriginCityMarketID', 'OriginCityName',\n",
       "       'OriginState', 'OriginStateFips', 'OriginStateName', 'OriginWac',\n",
       "       'DestAirportID', 'DestAirportSeqID', 'DestCityMarketID', 'DestCityName',\n",
       "       'DestState', 'DestStateFips', 'DestStateName', 'DestWac', 'DepDel15',\n",
       "       'DepartureDelayGroups', 'DepTimeBlk', 'TaxiOut', 'WheelsOff',\n",
       "       'WheelsOn', 'TaxiIn', 'CRSArrTime', 'ArrDelay', 'ArrDel15',\n",
       "       'ArrivalDelayGroups', 'ArrTimeBlk', 'DistanceGroup',\n",
       "       'DivAirportLandings'],\n",
       "      dtype='object')"
      ]
     },
     "execution_count": 54,
     "metadata": {},
     "output_type": "execute_result"
    }
   ],
   "source": [
    "#display the column names\n",
    "df3.columns"
   ]
  },
  {
   "cell_type": "markdown",
   "metadata": {},
   "source": [
    "## Data Preprocessing"
   ]
  },
  {
   "cell_type": "markdown",
   "metadata": {},
   "source": [
    "### 1. Rename columns to lower case for better readability"
   ]
  },
  {
   "cell_type": "code",
   "execution_count": 55,
   "metadata": {},
   "outputs": [
    {
     "data": {
      "text/plain": [
       "Index(['flightdate', 'airline', 'origin', 'dest', 'cancelled', 'diverted',\n",
       "       'crsdeptime', 'deptime', 'depdelayminutes', 'depdelay', 'arrtime',\n",
       "       'arrdelayminutes', 'airtime', 'crselapsedtime', 'actualelapsedtime',\n",
       "       'distance', 'year', 'quarter', 'month', 'dayofmonth', 'dayofweek',\n",
       "       'marketing_airline_network', 'operated_or_branded_code_share_partners',\n",
       "       'dot_id_marketing_airline', 'iata_code_marketing_airline',\n",
       "       'flight_number_marketing_airline', 'operating_airline',\n",
       "       'dot_id_operating_airline', 'iata_code_operating_airline',\n",
       "       'tail_number', 'flight_number_operating_airline', 'originairportid',\n",
       "       'originairportseqid', 'origincitymarketid', 'origincityname',\n",
       "       'originstate', 'originstatefips', 'originstatename', 'originwac',\n",
       "       'destairportid', 'destairportseqid', 'destcitymarketid', 'destcityname',\n",
       "       'deststate', 'deststatefips', 'deststatename', 'destwac', 'depdel15',\n",
       "       'departuredelaygroups', 'deptimeblk', 'taxiout', 'wheelsoff',\n",
       "       'wheelson', 'taxiin', 'crsarrtime', 'arrdelay', 'arrdel15',\n",
       "       'arrivaldelaygroups', 'arrtimeblk', 'distancegroup',\n",
       "       'divairportlandings'],\n",
       "      dtype='object')"
      ]
     },
     "execution_count": 55,
     "metadata": {},
     "output_type": "execute_result"
    }
   ],
   "source": [
    "#rename columns\n",
    "df3.columns = df3.columns.str.lower()\n",
    "df3.columns"
   ]
  },
  {
   "cell_type": "markdown",
   "metadata": {},
   "source": [
    "### 2. Filter the data for flights that weren't cancelled and not diverted."
   ]
  },
  {
   "cell_type": "code",
   "execution_count": 56,
   "metadata": {},
   "outputs": [
    {
     "data": {
      "text/html": [
       "<div>\n",
       "<style scoped>\n",
       "    .dataframe tbody tr th:only-of-type {\n",
       "        vertical-align: middle;\n",
       "    }\n",
       "\n",
       "    .dataframe tbody tr th {\n",
       "        vertical-align: top;\n",
       "    }\n",
       "\n",
       "    .dataframe thead th {\n",
       "        text-align: right;\n",
       "    }\n",
       "</style>\n",
       "<table border=\"1\" class=\"dataframe\">\n",
       "  <thead>\n",
       "    <tr style=\"text-align: right;\">\n",
       "      <th></th>\n",
       "      <th>flightdate</th>\n",
       "      <th>airline</th>\n",
       "      <th>origin</th>\n",
       "      <th>dest</th>\n",
       "      <th>cancelled</th>\n",
       "      <th>diverted</th>\n",
       "      <th>crsdeptime</th>\n",
       "      <th>deptime</th>\n",
       "      <th>depdelayminutes</th>\n",
       "      <th>depdelay</th>\n",
       "      <th>...</th>\n",
       "      <th>wheelsoff</th>\n",
       "      <th>wheelson</th>\n",
       "      <th>taxiin</th>\n",
       "      <th>crsarrtime</th>\n",
       "      <th>arrdelay</th>\n",
       "      <th>arrdel15</th>\n",
       "      <th>arrivaldelaygroups</th>\n",
       "      <th>arrtimeblk</th>\n",
       "      <th>distancegroup</th>\n",
       "      <th>divairportlandings</th>\n",
       "    </tr>\n",
       "  </thead>\n",
       "  <tbody>\n",
       "    <tr>\n",
       "      <th>0</th>\n",
       "      <td>2020-09-01</td>\n",
       "      <td>Comair Inc.</td>\n",
       "      <td>PHL</td>\n",
       "      <td>DAY</td>\n",
       "      <td>False</td>\n",
       "      <td>False</td>\n",
       "      <td>1905</td>\n",
       "      <td>1858.0</td>\n",
       "      <td>0.0</td>\n",
       "      <td>-7.0</td>\n",
       "      <td>...</td>\n",
       "      <td>1914.0</td>\n",
       "      <td>2030.0</td>\n",
       "      <td>4.0</td>\n",
       "      <td>2056</td>\n",
       "      <td>-22.0</td>\n",
       "      <td>0.0</td>\n",
       "      <td>-2.0</td>\n",
       "      <td>2000-2059</td>\n",
       "      <td>2</td>\n",
       "      <td>0.0</td>\n",
       "    </tr>\n",
       "    <tr>\n",
       "      <th>1</th>\n",
       "      <td>2020-09-02</td>\n",
       "      <td>Comair Inc.</td>\n",
       "      <td>PHL</td>\n",
       "      <td>DAY</td>\n",
       "      <td>False</td>\n",
       "      <td>False</td>\n",
       "      <td>1905</td>\n",
       "      <td>1858.0</td>\n",
       "      <td>0.0</td>\n",
       "      <td>-7.0</td>\n",
       "      <td>...</td>\n",
       "      <td>1914.0</td>\n",
       "      <td>2022.0</td>\n",
       "      <td>5.0</td>\n",
       "      <td>2056</td>\n",
       "      <td>-29.0</td>\n",
       "      <td>0.0</td>\n",
       "      <td>-2.0</td>\n",
       "      <td>2000-2059</td>\n",
       "      <td>2</td>\n",
       "      <td>0.0</td>\n",
       "    </tr>\n",
       "    <tr>\n",
       "      <th>2</th>\n",
       "      <td>2020-09-03</td>\n",
       "      <td>Comair Inc.</td>\n",
       "      <td>PHL</td>\n",
       "      <td>DAY</td>\n",
       "      <td>False</td>\n",
       "      <td>False</td>\n",
       "      <td>1905</td>\n",
       "      <td>1855.0</td>\n",
       "      <td>0.0</td>\n",
       "      <td>-10.0</td>\n",
       "      <td>...</td>\n",
       "      <td>2000.0</td>\n",
       "      <td>2117.0</td>\n",
       "      <td>5.0</td>\n",
       "      <td>2056</td>\n",
       "      <td>26.0</td>\n",
       "      <td>1.0</td>\n",
       "      <td>1.0</td>\n",
       "      <td>2000-2059</td>\n",
       "      <td>2</td>\n",
       "      <td>0.0</td>\n",
       "    </tr>\n",
       "    <tr>\n",
       "      <th>3</th>\n",
       "      <td>2020-09-04</td>\n",
       "      <td>Comair Inc.</td>\n",
       "      <td>PHL</td>\n",
       "      <td>DAY</td>\n",
       "      <td>False</td>\n",
       "      <td>False</td>\n",
       "      <td>1905</td>\n",
       "      <td>1857.0</td>\n",
       "      <td>0.0</td>\n",
       "      <td>-8.0</td>\n",
       "      <td>...</td>\n",
       "      <td>1910.0</td>\n",
       "      <td>2023.0</td>\n",
       "      <td>4.0</td>\n",
       "      <td>2056</td>\n",
       "      <td>-29.0</td>\n",
       "      <td>0.0</td>\n",
       "      <td>-2.0</td>\n",
       "      <td>2000-2059</td>\n",
       "      <td>2</td>\n",
       "      <td>0.0</td>\n",
       "    </tr>\n",
       "    <tr>\n",
       "      <th>4</th>\n",
       "      <td>2020-09-05</td>\n",
       "      <td>Comair Inc.</td>\n",
       "      <td>PHL</td>\n",
       "      <td>DAY</td>\n",
       "      <td>False</td>\n",
       "      <td>False</td>\n",
       "      <td>1905</td>\n",
       "      <td>1856.0</td>\n",
       "      <td>0.0</td>\n",
       "      <td>-9.0</td>\n",
       "      <td>...</td>\n",
       "      <td>1910.0</td>\n",
       "      <td>2022.0</td>\n",
       "      <td>4.0</td>\n",
       "      <td>2056</td>\n",
       "      <td>-30.0</td>\n",
       "      <td>0.0</td>\n",
       "      <td>-2.0</td>\n",
       "      <td>2000-2059</td>\n",
       "      <td>2</td>\n",
       "      <td>0.0</td>\n",
       "    </tr>\n",
       "  </tbody>\n",
       "</table>\n",
       "<p>5 rows × 61 columns</p>\n",
       "</div>"
      ],
      "text/plain": [
       "   flightdate      airline origin dest  cancelled  diverted  crsdeptime  \\\n",
       "0  2020-09-01  Comair Inc.    PHL  DAY      False     False        1905   \n",
       "1  2020-09-02  Comair Inc.    PHL  DAY      False     False        1905   \n",
       "2  2020-09-03  Comair Inc.    PHL  DAY      False     False        1905   \n",
       "3  2020-09-04  Comair Inc.    PHL  DAY      False     False        1905   \n",
       "4  2020-09-05  Comair Inc.    PHL  DAY      False     False        1905   \n",
       "\n",
       "   deptime  depdelayminutes  depdelay  ...  wheelsoff  wheelson  taxiin  \\\n",
       "0   1858.0              0.0      -7.0  ...     1914.0    2030.0     4.0   \n",
       "1   1858.0              0.0      -7.0  ...     1914.0    2022.0     5.0   \n",
       "2   1855.0              0.0     -10.0  ...     2000.0    2117.0     5.0   \n",
       "3   1857.0              0.0      -8.0  ...     1910.0    2023.0     4.0   \n",
       "4   1856.0              0.0      -9.0  ...     1910.0    2022.0     4.0   \n",
       "\n",
       "   crsarrtime  arrdelay  arrdel15  arrivaldelaygroups  arrtimeblk  \\\n",
       "0        2056     -22.0       0.0                -2.0   2000-2059   \n",
       "1        2056     -29.0       0.0                -2.0   2000-2059   \n",
       "2        2056      26.0       1.0                 1.0   2000-2059   \n",
       "3        2056     -29.0       0.0                -2.0   2000-2059   \n",
       "4        2056     -30.0       0.0                -2.0   2000-2059   \n",
       "\n",
       "   distancegroup  divairportlandings  \n",
       "0              2                 0.0  \n",
       "1              2                 0.0  \n",
       "2              2                 0.0  \n",
       "3              2                 0.0  \n",
       "4              2                 0.0  \n",
       "\n",
       "[5 rows x 61 columns]"
      ]
     },
     "execution_count": 56,
     "metadata": {},
     "output_type": "execute_result"
    }
   ],
   "source": [
    "df3_cancellation_f = df3[(df3['cancelled'] == False) & (df3['diverted'] == False)]\n",
    "df3_cancellation_f.head(5)"
   ]
  },
  {
   "cell_type": "markdown",
   "metadata": {},
   "source": [
    "### 3. Check for missing values"
   ]
  },
  {
   "cell_type": "code",
   "execution_count": 57,
   "metadata": {},
   "outputs": [
    {
     "data": {
      "text/plain": [
       "flightdate             0\n",
       "airline                0\n",
       "origin                 0\n",
       "dest                   0\n",
       "cancelled              0\n",
       "                      ..\n",
       "arrdel15               1\n",
       "arrivaldelaygroups     1\n",
       "arrtimeblk             0\n",
       "distancegroup          0\n",
       "divairportlandings    87\n",
       "Length: 61, dtype: int64"
      ]
     },
     "execution_count": 57,
     "metadata": {},
     "output_type": "execute_result"
    }
   ],
   "source": [
    "#check for missing values\n",
    "df3_cancellation_f.isnull().sum()"
   ]
  },
  {
   "cell_type": "code",
   "execution_count": 58,
   "metadata": {},
   "outputs": [
    {
     "data": {
      "text/plain": [
       "arrtime                1\n",
       "arrdelayminutes        1\n",
       "airtime                1\n",
       "actualelapsedtime      1\n",
       "wheelson               1\n",
       "taxiin                 1\n",
       "arrdelay               1\n",
       "arrdel15               1\n",
       "arrivaldelaygroups     1\n",
       "divairportlandings    87\n",
       "dtype: int64"
      ]
     },
     "execution_count": 58,
     "metadata": {},
     "output_type": "execute_result"
    }
   ],
   "source": [
    "#check for null entries\n",
    "filter_null_counts_3 = df3_cancellation_f.isnull().sum()\n",
    "\n",
    "#filter the columns with null entries\n",
    "filter_columns_with_null_3 = filter_null_counts_3[filter_null_counts_3 > 0]\n",
    "\n",
    "#display the column names\n",
    "filter_columns_with_null_3"
   ]
  },
  {
   "cell_type": "markdown",
   "metadata": {},
   "source": [
    "### Removing unnecessary columns"
   ]
  },
  {
   "cell_type": "code",
   "execution_count": 59,
   "metadata": {},
   "outputs": [
    {
     "data": {
      "text/html": [
       "<div>\n",
       "<style scoped>\n",
       "    .dataframe tbody tr th:only-of-type {\n",
       "        vertical-align: middle;\n",
       "    }\n",
       "\n",
       "    .dataframe tbody tr th {\n",
       "        vertical-align: top;\n",
       "    }\n",
       "\n",
       "    .dataframe thead th {\n",
       "        text-align: right;\n",
       "    }\n",
       "</style>\n",
       "<table border=\"1\" class=\"dataframe\">\n",
       "  <thead>\n",
       "    <tr style=\"text-align: right;\">\n",
       "      <th></th>\n",
       "      <th>flightdate</th>\n",
       "      <th>airline</th>\n",
       "      <th>origin</th>\n",
       "      <th>dest</th>\n",
       "      <th>cancelled</th>\n",
       "      <th>diverted</th>\n",
       "      <th>crsdeptime</th>\n",
       "      <th>deptime</th>\n",
       "      <th>depdelayminutes</th>\n",
       "      <th>depdelay</th>\n",
       "      <th>...</th>\n",
       "      <th>destcityname</th>\n",
       "      <th>deststate</th>\n",
       "      <th>deststatefips</th>\n",
       "      <th>deststatename</th>\n",
       "      <th>destwac</th>\n",
       "      <th>deptimeblk</th>\n",
       "      <th>crsarrtime</th>\n",
       "      <th>arrdelay</th>\n",
       "      <th>arrtimeblk</th>\n",
       "      <th>distancegroup</th>\n",
       "    </tr>\n",
       "  </thead>\n",
       "  <tbody>\n",
       "    <tr>\n",
       "      <th>0</th>\n",
       "      <td>2020-09-01</td>\n",
       "      <td>Comair Inc.</td>\n",
       "      <td>PHL</td>\n",
       "      <td>DAY</td>\n",
       "      <td>False</td>\n",
       "      <td>False</td>\n",
       "      <td>1905</td>\n",
       "      <td>1858.0</td>\n",
       "      <td>0.0</td>\n",
       "      <td>-7.0</td>\n",
       "      <td>...</td>\n",
       "      <td>Dayton, OH</td>\n",
       "      <td>OH</td>\n",
       "      <td>39</td>\n",
       "      <td>Ohio</td>\n",
       "      <td>44</td>\n",
       "      <td>1900-1959</td>\n",
       "      <td>2056</td>\n",
       "      <td>-22.0</td>\n",
       "      <td>2000-2059</td>\n",
       "      <td>2</td>\n",
       "    </tr>\n",
       "    <tr>\n",
       "      <th>1</th>\n",
       "      <td>2020-09-02</td>\n",
       "      <td>Comair Inc.</td>\n",
       "      <td>PHL</td>\n",
       "      <td>DAY</td>\n",
       "      <td>False</td>\n",
       "      <td>False</td>\n",
       "      <td>1905</td>\n",
       "      <td>1858.0</td>\n",
       "      <td>0.0</td>\n",
       "      <td>-7.0</td>\n",
       "      <td>...</td>\n",
       "      <td>Dayton, OH</td>\n",
       "      <td>OH</td>\n",
       "      <td>39</td>\n",
       "      <td>Ohio</td>\n",
       "      <td>44</td>\n",
       "      <td>1900-1959</td>\n",
       "      <td>2056</td>\n",
       "      <td>-29.0</td>\n",
       "      <td>2000-2059</td>\n",
       "      <td>2</td>\n",
       "    </tr>\n",
       "    <tr>\n",
       "      <th>2</th>\n",
       "      <td>2020-09-03</td>\n",
       "      <td>Comair Inc.</td>\n",
       "      <td>PHL</td>\n",
       "      <td>DAY</td>\n",
       "      <td>False</td>\n",
       "      <td>False</td>\n",
       "      <td>1905</td>\n",
       "      <td>1855.0</td>\n",
       "      <td>0.0</td>\n",
       "      <td>-10.0</td>\n",
       "      <td>...</td>\n",
       "      <td>Dayton, OH</td>\n",
       "      <td>OH</td>\n",
       "      <td>39</td>\n",
       "      <td>Ohio</td>\n",
       "      <td>44</td>\n",
       "      <td>1900-1959</td>\n",
       "      <td>2056</td>\n",
       "      <td>26.0</td>\n",
       "      <td>2000-2059</td>\n",
       "      <td>2</td>\n",
       "    </tr>\n",
       "    <tr>\n",
       "      <th>3</th>\n",
       "      <td>2020-09-04</td>\n",
       "      <td>Comair Inc.</td>\n",
       "      <td>PHL</td>\n",
       "      <td>DAY</td>\n",
       "      <td>False</td>\n",
       "      <td>False</td>\n",
       "      <td>1905</td>\n",
       "      <td>1857.0</td>\n",
       "      <td>0.0</td>\n",
       "      <td>-8.0</td>\n",
       "      <td>...</td>\n",
       "      <td>Dayton, OH</td>\n",
       "      <td>OH</td>\n",
       "      <td>39</td>\n",
       "      <td>Ohio</td>\n",
       "      <td>44</td>\n",
       "      <td>1900-1959</td>\n",
       "      <td>2056</td>\n",
       "      <td>-29.0</td>\n",
       "      <td>2000-2059</td>\n",
       "      <td>2</td>\n",
       "    </tr>\n",
       "    <tr>\n",
       "      <th>4</th>\n",
       "      <td>2020-09-05</td>\n",
       "      <td>Comair Inc.</td>\n",
       "      <td>PHL</td>\n",
       "      <td>DAY</td>\n",
       "      <td>False</td>\n",
       "      <td>False</td>\n",
       "      <td>1905</td>\n",
       "      <td>1856.0</td>\n",
       "      <td>0.0</td>\n",
       "      <td>-9.0</td>\n",
       "      <td>...</td>\n",
       "      <td>Dayton, OH</td>\n",
       "      <td>OH</td>\n",
       "      <td>39</td>\n",
       "      <td>Ohio</td>\n",
       "      <td>44</td>\n",
       "      <td>1900-1959</td>\n",
       "      <td>2056</td>\n",
       "      <td>-30.0</td>\n",
       "      <td>2000-2059</td>\n",
       "      <td>2</td>\n",
       "    </tr>\n",
       "  </tbody>\n",
       "</table>\n",
       "<p>5 rows × 51 columns</p>\n",
       "</div>"
      ],
      "text/plain": [
       "   flightdate      airline origin dest  cancelled  diverted  crsdeptime  \\\n",
       "0  2020-09-01  Comair Inc.    PHL  DAY      False     False        1905   \n",
       "1  2020-09-02  Comair Inc.    PHL  DAY      False     False        1905   \n",
       "2  2020-09-03  Comair Inc.    PHL  DAY      False     False        1905   \n",
       "3  2020-09-04  Comair Inc.    PHL  DAY      False     False        1905   \n",
       "4  2020-09-05  Comair Inc.    PHL  DAY      False     False        1905   \n",
       "\n",
       "   deptime  depdelayminutes  depdelay  ...  destcityname  deststate  \\\n",
       "0   1858.0              0.0      -7.0  ...    Dayton, OH         OH   \n",
       "1   1858.0              0.0      -7.0  ...    Dayton, OH         OH   \n",
       "2   1855.0              0.0     -10.0  ...    Dayton, OH         OH   \n",
       "3   1857.0              0.0      -8.0  ...    Dayton, OH         OH   \n",
       "4   1856.0              0.0      -9.0  ...    Dayton, OH         OH   \n",
       "\n",
       "   deststatefips  deststatename  destwac  deptimeblk  crsarrtime  arrdelay  \\\n",
       "0             39           Ohio       44   1900-1959        2056     -22.0   \n",
       "1             39           Ohio       44   1900-1959        2056     -29.0   \n",
       "2             39           Ohio       44   1900-1959        2056      26.0   \n",
       "3             39           Ohio       44   1900-1959        2056     -29.0   \n",
       "4             39           Ohio       44   1900-1959        2056     -30.0   \n",
       "\n",
       "   arrtimeblk  distancegroup  \n",
       "0   2000-2059              2  \n",
       "1   2000-2059              2  \n",
       "2   2000-2059              2  \n",
       "3   2000-2059              2  \n",
       "4   2000-2059              2  \n",
       "\n",
       "[5 rows x 51 columns]"
      ]
     },
     "execution_count": 59,
     "metadata": {},
     "output_type": "execute_result"
    }
   ],
   "source": [
    "df3_cancellation_f=df3_cancellation_f.drop(columns=['tail_number','taxiout','wheelsoff','wheelson','taxiin','depdel15','departuredelaygroups','arrdel15','arrivaldelaygroups','divairportlandings'])\n",
    "df3_cancellation_f.head()"
   ]
  },
  {
   "cell_type": "code",
   "execution_count": 60,
   "metadata": {},
   "outputs": [
    {
     "data": {
      "text/plain": [
       "arrtime              1\n",
       "arrdelayminutes      1\n",
       "airtime              1\n",
       "actualelapsedtime    1\n",
       "arrdelay             1\n",
       "dtype: int64"
      ]
     },
     "execution_count": 60,
     "metadata": {},
     "output_type": "execute_result"
    }
   ],
   "source": [
    "#check for null entries\n",
    "filter_null_counts_3 = df3_cancellation_f.isnull().sum()\n",
    "\n",
    "#filter the columns with null entries\n",
    "filter_columns_with_null_3 = filter_null_counts_3[filter_null_counts_3 > 0]\n",
    "\n",
    "#display the column names\n",
    "filter_columns_with_null_3"
   ]
  },
  {
   "cell_type": "code",
   "execution_count": 61,
   "metadata": {},
   "outputs": [],
   "source": [
    "# Drop rows with missing values in the specified columns\n",
    "df3_cancellation_f.dropna(subset=['arrtime','arrdelayminutes','airtime','actualelapsedtime','arrdelay'], inplace=True)"
   ]
  },
  {
   "cell_type": "markdown",
   "metadata": {},
   "source": [
    "### 4. Check for datatypes"
   ]
  },
  {
   "cell_type": "code",
   "execution_count": 62,
   "metadata": {},
   "outputs": [
    {
     "name": "stdout",
     "output_type": "stream",
     "text": [
      "<class 'pandas.core.frame.DataFrame'>\n",
      "Index: 4712930 entries, 0 to 5022396\n",
      "Data columns (total 51 columns):\n",
      " #   Column                                   Dtype  \n",
      "---  ------                                   -----  \n",
      " 0   flightdate                               object \n",
      " 1   airline                                  object \n",
      " 2   origin                                   object \n",
      " 3   dest                                     object \n",
      " 4   cancelled                                bool   \n",
      " 5   diverted                                 bool   \n",
      " 6   crsdeptime                               int64  \n",
      " 7   deptime                                  float64\n",
      " 8   depdelayminutes                          float64\n",
      " 9   depdelay                                 float64\n",
      " 10  arrtime                                  float64\n",
      " 11  arrdelayminutes                          float64\n",
      " 12  airtime                                  float64\n",
      " 13  crselapsedtime                           float64\n",
      " 14  actualelapsedtime                        float64\n",
      " 15  distance                                 float64\n",
      " 16  year                                     int64  \n",
      " 17  quarter                                  int64  \n",
      " 18  month                                    int64  \n",
      " 19  dayofmonth                               int64  \n",
      " 20  dayofweek                                int64  \n",
      " 21  marketing_airline_network                object \n",
      " 22  operated_or_branded_code_share_partners  object \n",
      " 23  dot_id_marketing_airline                 int64  \n",
      " 24  iata_code_marketing_airline              object \n",
      " 25  flight_number_marketing_airline          int64  \n",
      " 26  operating_airline                        object \n",
      " 27  dot_id_operating_airline                 int64  \n",
      " 28  iata_code_operating_airline              object \n",
      " 29  flight_number_operating_airline          int64  \n",
      " 30  originairportid                          int64  \n",
      " 31  originairportseqid                       int64  \n",
      " 32  origincitymarketid                       int64  \n",
      " 33  origincityname                           object \n",
      " 34  originstate                              object \n",
      " 35  originstatefips                          int64  \n",
      " 36  originstatename                          object \n",
      " 37  originwac                                int64  \n",
      " 38  destairportid                            int64  \n",
      " 39  destairportseqid                         int64  \n",
      " 40  destcitymarketid                         int64  \n",
      " 41  destcityname                             object \n",
      " 42  deststate                                object \n",
      " 43  deststatefips                            int64  \n",
      " 44  deststatename                            object \n",
      " 45  destwac                                  int64  \n",
      " 46  deptimeblk                               object \n",
      " 47  crsarrtime                               int64  \n",
      " 48  arrdelay                                 float64\n",
      " 49  arrtimeblk                               object \n",
      " 50  distancegroup                            int64  \n",
      "dtypes: bool(2), float64(10), int64(22), object(17)\n",
      "memory usage: 1.8+ GB\n"
     ]
    }
   ],
   "source": [
    "df3_cancellation_f.info()"
   ]
  },
  {
   "cell_type": "code",
   "execution_count": 63,
   "metadata": {},
   "outputs": [
    {
     "name": "stdout",
     "output_type": "stream",
     "text": [
      "<class 'pandas.core.frame.DataFrame'>\n",
      "Index: 4712930 entries, 0 to 5022396\n",
      "Data columns (total 51 columns):\n",
      " #   Column                                   Dtype         \n",
      "---  ------                                   -----         \n",
      " 0   flightdate                               datetime64[ns]\n",
      " 1   airline                                  object        \n",
      " 2   origin                                   object        \n",
      " 3   dest                                     object        \n",
      " 4   cancelled                                bool          \n",
      " 5   diverted                                 bool          \n",
      " 6   crsdeptime                               int64         \n",
      " 7   deptime                                  float64       \n",
      " 8   depdelayminutes                          float64       \n",
      " 9   depdelay                                 float64       \n",
      " 10  arrtime                                  float64       \n",
      " 11  arrdelayminutes                          float64       \n",
      " 12  airtime                                  float64       \n",
      " 13  crselapsedtime                           float64       \n",
      " 14  actualelapsedtime                        float64       \n",
      " 15  distance                                 float64       \n",
      " 16  year                                     int64         \n",
      " 17  quarter                                  int64         \n",
      " 18  month                                    int64         \n",
      " 19  dayofmonth                               int64         \n",
      " 20  dayofweek                                int64         \n",
      " 21  marketing_airline_network                object        \n",
      " 22  operated_or_branded_code_share_partners  object        \n",
      " 23  dot_id_marketing_airline                 int64         \n",
      " 24  iata_code_marketing_airline              object        \n",
      " 25  flight_number_marketing_airline          int64         \n",
      " 26  operating_airline                        object        \n",
      " 27  dot_id_operating_airline                 int64         \n",
      " 28  iata_code_operating_airline              object        \n",
      " 29  flight_number_operating_airline          int64         \n",
      " 30  originairportid                          int64         \n",
      " 31  originairportseqid                       int64         \n",
      " 32  origincitymarketid                       int64         \n",
      " 33  origincityname                           object        \n",
      " 34  originstate                              object        \n",
      " 35  originstatefips                          int64         \n",
      " 36  originstatename                          object        \n",
      " 37  originwac                                int64         \n",
      " 38  destairportid                            int64         \n",
      " 39  destairportseqid                         int64         \n",
      " 40  destcitymarketid                         int64         \n",
      " 41  destcityname                             object        \n",
      " 42  deststate                                object        \n",
      " 43  deststatefips                            int64         \n",
      " 44  deststatename                            object        \n",
      " 45  destwac                                  int64         \n",
      " 46  deptimeblk                               object        \n",
      " 47  crsarrtime                               int64         \n",
      " 48  arrdelay                                 float64       \n",
      " 49  arrtimeblk                               object        \n",
      " 50  distancegroup                            int64         \n",
      "dtypes: bool(2), datetime64[ns](1), float64(10), int64(22), object(16)\n",
      "memory usage: 1.8+ GB\n"
     ]
    }
   ],
   "source": [
    "#convert the datatype \n",
    "df3_cancellation_f['flightdate']=pd.to_datetime(df3_cancellation_f['flightdate'])\n",
    "df3_cancellation_f.info()"
   ]
  },
  {
   "cell_type": "markdown",
   "metadata": {},
   "source": [
    "### 5. Check for Duplicates"
   ]
  },
  {
   "cell_type": "code",
   "execution_count": 64,
   "metadata": {},
   "outputs": [
    {
     "data": {
      "text/plain": [
       "0"
      ]
     },
     "execution_count": 64,
     "metadata": {},
     "output_type": "execute_result"
    }
   ],
   "source": [
    "#check for duplicate entries\n",
    "duplicate_rows_3 = df3_cancellation_f.duplicated().sum()\n",
    "duplicate_rows_3"
   ]
  },
  {
   "cell_type": "markdown",
   "metadata": {},
   "source": [
    "## Merged Dataset of three years"
   ]
  },
  {
   "cell_type": "code",
   "execution_count": 65,
   "metadata": {},
   "outputs": [
    {
     "data": {
      "text/html": [
       "<div>\n",
       "<style scoped>\n",
       "    .dataframe tbody tr th:only-of-type {\n",
       "        vertical-align: middle;\n",
       "    }\n",
       "\n",
       "    .dataframe tbody tr th {\n",
       "        vertical-align: top;\n",
       "    }\n",
       "\n",
       "    .dataframe thead th {\n",
       "        text-align: right;\n",
       "    }\n",
       "</style>\n",
       "<table border=\"1\" class=\"dataframe\">\n",
       "  <thead>\n",
       "    <tr style=\"text-align: right;\">\n",
       "      <th></th>\n",
       "      <th>flightdate</th>\n",
       "      <th>airline</th>\n",
       "      <th>origin</th>\n",
       "      <th>dest</th>\n",
       "      <th>cancelled</th>\n",
       "      <th>diverted</th>\n",
       "      <th>crsdeptime</th>\n",
       "      <th>deptime</th>\n",
       "      <th>depdelayminutes</th>\n",
       "      <th>depdelay</th>\n",
       "      <th>...</th>\n",
       "      <th>destcityname</th>\n",
       "      <th>deststate</th>\n",
       "      <th>deststatefips</th>\n",
       "      <th>deststatename</th>\n",
       "      <th>destwac</th>\n",
       "      <th>deptimeblk</th>\n",
       "      <th>crsarrtime</th>\n",
       "      <th>arrdelay</th>\n",
       "      <th>arrtimeblk</th>\n",
       "      <th>distancegroup</th>\n",
       "    </tr>\n",
       "  </thead>\n",
       "  <tbody>\n",
       "    <tr>\n",
       "      <th>0</th>\n",
       "      <td>2018-01-23</td>\n",
       "      <td>Endeavor Air Inc.</td>\n",
       "      <td>ABY</td>\n",
       "      <td>ATL</td>\n",
       "      <td>False</td>\n",
       "      <td>False</td>\n",
       "      <td>1202</td>\n",
       "      <td>1157.0</td>\n",
       "      <td>0.0</td>\n",
       "      <td>-5.0</td>\n",
       "      <td>...</td>\n",
       "      <td>Atlanta, GA</td>\n",
       "      <td>GA</td>\n",
       "      <td>13</td>\n",
       "      <td>Georgia</td>\n",
       "      <td>34</td>\n",
       "      <td>1200-1259</td>\n",
       "      <td>1304</td>\n",
       "      <td>-8.0</td>\n",
       "      <td>1300-1359</td>\n",
       "      <td>1</td>\n",
       "    </tr>\n",
       "    <tr>\n",
       "      <th>1</th>\n",
       "      <td>2018-01-24</td>\n",
       "      <td>Endeavor Air Inc.</td>\n",
       "      <td>ABY</td>\n",
       "      <td>ATL</td>\n",
       "      <td>False</td>\n",
       "      <td>False</td>\n",
       "      <td>1202</td>\n",
       "      <td>1157.0</td>\n",
       "      <td>0.0</td>\n",
       "      <td>-5.0</td>\n",
       "      <td>...</td>\n",
       "      <td>Atlanta, GA</td>\n",
       "      <td>GA</td>\n",
       "      <td>13</td>\n",
       "      <td>Georgia</td>\n",
       "      <td>34</td>\n",
       "      <td>1200-1259</td>\n",
       "      <td>1304</td>\n",
       "      <td>-6.0</td>\n",
       "      <td>1300-1359</td>\n",
       "      <td>1</td>\n",
       "    </tr>\n",
       "    <tr>\n",
       "      <th>2</th>\n",
       "      <td>2018-01-25</td>\n",
       "      <td>Endeavor Air Inc.</td>\n",
       "      <td>ABY</td>\n",
       "      <td>ATL</td>\n",
       "      <td>False</td>\n",
       "      <td>False</td>\n",
       "      <td>1202</td>\n",
       "      <td>1153.0</td>\n",
       "      <td>0.0</td>\n",
       "      <td>-9.0</td>\n",
       "      <td>...</td>\n",
       "      <td>Atlanta, GA</td>\n",
       "      <td>GA</td>\n",
       "      <td>13</td>\n",
       "      <td>Georgia</td>\n",
       "      <td>34</td>\n",
       "      <td>1200-1259</td>\n",
       "      <td>1304</td>\n",
       "      <td>-2.0</td>\n",
       "      <td>1300-1359</td>\n",
       "      <td>1</td>\n",
       "    </tr>\n",
       "    <tr>\n",
       "      <th>3</th>\n",
       "      <td>2018-01-26</td>\n",
       "      <td>Endeavor Air Inc.</td>\n",
       "      <td>ABY</td>\n",
       "      <td>ATL</td>\n",
       "      <td>False</td>\n",
       "      <td>False</td>\n",
       "      <td>1202</td>\n",
       "      <td>1150.0</td>\n",
       "      <td>0.0</td>\n",
       "      <td>-12.0</td>\n",
       "      <td>...</td>\n",
       "      <td>Atlanta, GA</td>\n",
       "      <td>GA</td>\n",
       "      <td>13</td>\n",
       "      <td>Georgia</td>\n",
       "      <td>34</td>\n",
       "      <td>1200-1259</td>\n",
       "      <td>1304</td>\n",
       "      <td>-11.0</td>\n",
       "      <td>1300-1359</td>\n",
       "      <td>1</td>\n",
       "    </tr>\n",
       "    <tr>\n",
       "      <th>4</th>\n",
       "      <td>2018-01-27</td>\n",
       "      <td>Endeavor Air Inc.</td>\n",
       "      <td>ABY</td>\n",
       "      <td>ATL</td>\n",
       "      <td>False</td>\n",
       "      <td>False</td>\n",
       "      <td>1400</td>\n",
       "      <td>1355.0</td>\n",
       "      <td>0.0</td>\n",
       "      <td>-5.0</td>\n",
       "      <td>...</td>\n",
       "      <td>Atlanta, GA</td>\n",
       "      <td>GA</td>\n",
       "      <td>13</td>\n",
       "      <td>Georgia</td>\n",
       "      <td>34</td>\n",
       "      <td>1400-1459</td>\n",
       "      <td>1500</td>\n",
       "      <td>-1.0</td>\n",
       "      <td>1500-1559</td>\n",
       "      <td>1</td>\n",
       "    </tr>\n",
       "  </tbody>\n",
       "</table>\n",
       "<p>5 rows × 51 columns</p>\n",
       "</div>"
      ],
      "text/plain": [
       "  flightdate            airline origin dest  cancelled  diverted  crsdeptime  \\\n",
       "0 2018-01-23  Endeavor Air Inc.    ABY  ATL      False     False        1202   \n",
       "1 2018-01-24  Endeavor Air Inc.    ABY  ATL      False     False        1202   \n",
       "2 2018-01-25  Endeavor Air Inc.    ABY  ATL      False     False        1202   \n",
       "3 2018-01-26  Endeavor Air Inc.    ABY  ATL      False     False        1202   \n",
       "4 2018-01-27  Endeavor Air Inc.    ABY  ATL      False     False        1400   \n",
       "\n",
       "   deptime  depdelayminutes  depdelay  ...  destcityname  deststate  \\\n",
       "0   1157.0              0.0      -5.0  ...   Atlanta, GA         GA   \n",
       "1   1157.0              0.0      -5.0  ...   Atlanta, GA         GA   \n",
       "2   1153.0              0.0      -9.0  ...   Atlanta, GA         GA   \n",
       "3   1150.0              0.0     -12.0  ...   Atlanta, GA         GA   \n",
       "4   1355.0              0.0      -5.0  ...   Atlanta, GA         GA   \n",
       "\n",
       "   deststatefips  deststatename  destwac  deptimeblk  crsarrtime  arrdelay  \\\n",
       "0             13        Georgia       34   1200-1259        1304      -8.0   \n",
       "1             13        Georgia       34   1200-1259        1304      -6.0   \n",
       "2             13        Georgia       34   1200-1259        1304      -2.0   \n",
       "3             13        Georgia       34   1200-1259        1304     -11.0   \n",
       "4             13        Georgia       34   1400-1459        1500      -1.0   \n",
       "\n",
       "   arrtimeblk  distancegroup  \n",
       "0   1300-1359              1  \n",
       "1   1300-1359              1  \n",
       "2   1300-1359              1  \n",
       "3   1300-1359              1  \n",
       "4   1500-1559              1  \n",
       "\n",
       "[5 rows x 51 columns]"
      ]
     },
     "execution_count": 65,
     "metadata": {},
     "output_type": "execute_result"
    }
   ],
   "source": [
    "#concatenate df1,df2,df3,df4 and df5 together into a single dataframe\n",
    "merged_df_3 = pd.concat([df1_cancellation_f, df2_cancellation_f,df3_cancellation_f], ignore_index=True)\n",
    "merged_df_3.head()"
   ]
  },
  {
   "cell_type": "code",
   "execution_count": 66,
   "metadata": {},
   "outputs": [
    {
     "data": {
      "text/plain": [
       "(18217380, 51)"
      ]
     },
     "execution_count": 66,
     "metadata": {},
     "output_type": "execute_result"
    }
   ],
   "source": [
    "#find its shape\n",
    "merged_df_3.shape"
   ]
  },
  {
   "cell_type": "code",
   "execution_count": 67,
   "metadata": {},
   "outputs": [
    {
     "data": {
      "text/plain": [
       "Index(['flightdate', 'airline', 'origin', 'dest', 'cancelled', 'diverted',\n",
       "       'crsdeptime', 'deptime', 'depdelayminutes', 'depdelay', 'arrtime',\n",
       "       'arrdelayminutes', 'airtime', 'crselapsedtime', 'actualelapsedtime',\n",
       "       'distance', 'year', 'quarter', 'month', 'dayofmonth', 'dayofweek',\n",
       "       'marketing_airline_network', 'operated_or_branded_code_share_partners',\n",
       "       'dot_id_marketing_airline', 'iata_code_marketing_airline',\n",
       "       'flight_number_marketing_airline', 'operating_airline',\n",
       "       'dot_id_operating_airline', 'iata_code_operating_airline',\n",
       "       'flight_number_operating_airline', 'originairportid',\n",
       "       'originairportseqid', 'origincitymarketid', 'origincityname',\n",
       "       'originstate', 'originstatefips', 'originstatename', 'originwac',\n",
       "       'destairportid', 'destairportseqid', 'destcitymarketid', 'destcityname',\n",
       "       'deststate', 'deststatefips', 'deststatename', 'destwac', 'deptimeblk',\n",
       "       'crsarrtime', 'arrdelay', 'arrtimeblk', 'distancegroup'],\n",
       "      dtype='object')"
      ]
     },
     "execution_count": 67,
     "metadata": {},
     "output_type": "execute_result"
    }
   ],
   "source": [
    "merged_df_3.columns"
   ]
  },
  {
   "cell_type": "code",
   "execution_count": 68,
   "metadata": {},
   "outputs": [
    {
     "data": {
      "text/plain": [
       "flightdate                                 0\n",
       "airline                                    0\n",
       "origin                                     0\n",
       "dest                                       0\n",
       "cancelled                                  0\n",
       "diverted                                   0\n",
       "crsdeptime                                 0\n",
       "deptime                                    0\n",
       "depdelayminutes                            0\n",
       "depdelay                                   0\n",
       "arrtime                                    0\n",
       "arrdelayminutes                            0\n",
       "airtime                                    0\n",
       "crselapsedtime                             0\n",
       "actualelapsedtime                          0\n",
       "distance                                   0\n",
       "year                                       0\n",
       "quarter                                    0\n",
       "month                                      0\n",
       "dayofmonth                                 0\n",
       "dayofweek                                  0\n",
       "marketing_airline_network                  0\n",
       "operated_or_branded_code_share_partners    0\n",
       "dot_id_marketing_airline                   0\n",
       "iata_code_marketing_airline                0\n",
       "flight_number_marketing_airline            0\n",
       "operating_airline                          0\n",
       "dot_id_operating_airline                   0\n",
       "iata_code_operating_airline                0\n",
       "flight_number_operating_airline            0\n",
       "originairportid                            0\n",
       "originairportseqid                         0\n",
       "origincitymarketid                         0\n",
       "origincityname                             0\n",
       "originstate                                0\n",
       "originstatefips                            0\n",
       "originstatename                            0\n",
       "originwac                                  0\n",
       "destairportid                              0\n",
       "destairportseqid                           0\n",
       "destcitymarketid                           0\n",
       "destcityname                               0\n",
       "deststate                                  0\n",
       "deststatefips                              0\n",
       "deststatename                              0\n",
       "destwac                                    0\n",
       "deptimeblk                                 0\n",
       "crsarrtime                                 0\n",
       "arrdelay                                   0\n",
       "arrtimeblk                                 0\n",
       "distancegroup                              0\n",
       "dtype: int64"
      ]
     },
     "execution_count": 68,
     "metadata": {},
     "output_type": "execute_result"
    }
   ],
   "source": [
    "merged_df_3.isnull().sum()"
   ]
  },
  {
   "cell_type": "code",
   "execution_count": 69,
   "metadata": {},
   "outputs": [
    {
     "data": {
      "text/plain": [
       "Series([], dtype: int64)"
      ]
     },
     "execution_count": 69,
     "metadata": {},
     "output_type": "execute_result"
    }
   ],
   "source": [
    "#check for null entries\n",
    "filter_null_counts_4 = merged_df_3.isnull().sum()\n",
    "\n",
    "#filter the columns with null entries\n",
    "filter_columns_with_null_4 = filter_null_counts_4[filter_null_counts_4 > 0]\n",
    "\n",
    "#display the column names\n",
    "filter_columns_with_null_4"
   ]
  },
  {
   "cell_type": "code",
   "execution_count": 70,
   "metadata": {},
   "outputs": [],
   "source": [
    "merged_df_3.to_csv('/Users/saaijeeshsn/Data Mining project/Merged_data.csv')"
   ]
  },
  {
   "cell_type": "markdown",
   "metadata": {},
   "source": [
    "## Data from an API"
   ]
  },
  {
   "cell_type": "code",
   "execution_count": 71,
   "metadata": {},
   "outputs": [
    {
     "data": {
      "text/html": [
       "<div>\n",
       "<style scoped>\n",
       "    .dataframe tbody tr th:only-of-type {\n",
       "        vertical-align: middle;\n",
       "    }\n",
       "\n",
       "    .dataframe tbody tr th {\n",
       "        vertical-align: top;\n",
       "    }\n",
       "\n",
       "    .dataframe thead th {\n",
       "        text-align: right;\n",
       "    }\n",
       "</style>\n",
       "<table border=\"1\" class=\"dataframe\">\n",
       "  <thead>\n",
       "    <tr style=\"text-align: right;\">\n",
       "      <th></th>\n",
       "      <th>origin</th>\n",
       "      <th>date</th>\n",
       "      <th>temp</th>\n",
       "      <th>dew</th>\n",
       "      <th>min_temp</th>\n",
       "      <th>max_temp</th>\n",
       "      <th>sp_humid</th>\n",
       "      <th>rel_humid</th>\n",
       "      <th>precip</th>\n",
       "      <th>wspeed_10m</th>\n",
       "      <th>wdirection_10m</th>\n",
       "      <th>wspeed_50m</th>\n",
       "      <th>wdirection_50m</th>\n",
       "    </tr>\n",
       "  </thead>\n",
       "  <tbody>\n",
       "    <tr>\n",
       "      <th>0</th>\n",
       "      <td>DEN</td>\n",
       "      <td>2018-01-01</td>\n",
       "      <td>9.28</td>\n",
       "      <td>-11.18</td>\n",
       "      <td>-11.24</td>\n",
       "      <td>-1.95</td>\n",
       "      <td>1.77</td>\n",
       "      <td>81.00</td>\n",
       "      <td>0.00</td>\n",
       "      <td>3.27</td>\n",
       "      <td>100.38</td>\n",
       "      <td>3.48</td>\n",
       "      <td>100.81</td>\n",
       "    </tr>\n",
       "    <tr>\n",
       "      <th>1</th>\n",
       "      <td>DEN</td>\n",
       "      <td>2018-01-02</td>\n",
       "      <td>16.18</td>\n",
       "      <td>-13.67</td>\n",
       "      <td>-12.00</td>\n",
       "      <td>4.18</td>\n",
       "      <td>1.40</td>\n",
       "      <td>66.06</td>\n",
       "      <td>0.01</td>\n",
       "      <td>5.35</td>\n",
       "      <td>146.31</td>\n",
       "      <td>6.78</td>\n",
       "      <td>130.69</td>\n",
       "    </tr>\n",
       "    <tr>\n",
       "      <th>2</th>\n",
       "      <td>DEN</td>\n",
       "      <td>2018-01-03</td>\n",
       "      <td>15.35</td>\n",
       "      <td>-15.13</td>\n",
       "      <td>-5.77</td>\n",
       "      <td>9.58</td>\n",
       "      <td>1.28</td>\n",
       "      <td>31.69</td>\n",
       "      <td>0.00</td>\n",
       "      <td>3.43</td>\n",
       "      <td>212.12</td>\n",
       "      <td>5.35</td>\n",
       "      <td>212.75</td>\n",
       "    </tr>\n",
       "    <tr>\n",
       "      <th>3</th>\n",
       "      <td>DEN</td>\n",
       "      <td>2018-01-04</td>\n",
       "      <td>10.71</td>\n",
       "      <td>-10.07</td>\n",
       "      <td>-2.56</td>\n",
       "      <td>8.15</td>\n",
       "      <td>2.01</td>\n",
       "      <td>43.75</td>\n",
       "      <td>0.01</td>\n",
       "      <td>3.79</td>\n",
       "      <td>258.75</td>\n",
       "      <td>5.77</td>\n",
       "      <td>258.25</td>\n",
       "    </tr>\n",
       "    <tr>\n",
       "      <th>4</th>\n",
       "      <td>DEN</td>\n",
       "      <td>2018-01-05</td>\n",
       "      <td>12.71</td>\n",
       "      <td>-8.99</td>\n",
       "      <td>-1.90</td>\n",
       "      <td>10.81</td>\n",
       "      <td>2.20</td>\n",
       "      <td>43.38</td>\n",
       "      <td>0.00</td>\n",
       "      <td>3.02</td>\n",
       "      <td>210.88</td>\n",
       "      <td>6.42</td>\n",
       "      <td>211.44</td>\n",
       "    </tr>\n",
       "  </tbody>\n",
       "</table>\n",
       "</div>"
      ],
      "text/plain": [
       "  origin        date   temp    dew  min_temp  max_temp  sp_humid  rel_humid  \\\n",
       "0    DEN  2018-01-01   9.28 -11.18    -11.24     -1.95      1.77      81.00   \n",
       "1    DEN  2018-01-02  16.18 -13.67    -12.00      4.18      1.40      66.06   \n",
       "2    DEN  2018-01-03  15.35 -15.13     -5.77      9.58      1.28      31.69   \n",
       "3    DEN  2018-01-04  10.71 -10.07     -2.56      8.15      2.01      43.75   \n",
       "4    DEN  2018-01-05  12.71  -8.99     -1.90     10.81      2.20      43.38   \n",
       "\n",
       "   precip  wspeed_10m  wdirection_10m  wspeed_50m  wdirection_50m  \n",
       "0    0.00        3.27          100.38        3.48          100.81  \n",
       "1    0.01        5.35          146.31        6.78          130.69  \n",
       "2    0.00        3.43          212.12        5.35          212.75  \n",
       "3    0.01        3.79          258.75        5.77          258.25  \n",
       "4    0.00        3.02          210.88        6.42          211.44  "
      ]
     },
     "execution_count": 71,
     "metadata": {},
     "output_type": "execute_result"
    }
   ],
   "source": [
    "#load data from an api (calling the stored csv file)\n",
    "api_weather_data=pd.read_csv('/Users/saaijeeshsn/Data Mining project/weather_data.csv')\n",
    "api_weather_data.head()"
   ]
  },
  {
   "cell_type": "markdown",
   "metadata": {},
   "source": [
    "## Merge API and CSV file"
   ]
  },
  {
   "cell_type": "markdown",
   "metadata": {},
   "source": [
    "### Lets focus on the major cities and drop the remaining rows "
   ]
  },
  {
   "cell_type": "code",
   "execution_count": 72,
   "metadata": {},
   "outputs": [
    {
     "data": {
      "text/html": [
       "<div>\n",
       "<style scoped>\n",
       "    .dataframe tbody tr th:only-of-type {\n",
       "        vertical-align: middle;\n",
       "    }\n",
       "\n",
       "    .dataframe tbody tr th {\n",
       "        vertical-align: top;\n",
       "    }\n",
       "\n",
       "    .dataframe thead th {\n",
       "        text-align: right;\n",
       "    }\n",
       "</style>\n",
       "<table border=\"1\" class=\"dataframe\">\n",
       "  <thead>\n",
       "    <tr style=\"text-align: right;\">\n",
       "      <th></th>\n",
       "      <th>flightdate</th>\n",
       "      <th>airline</th>\n",
       "      <th>origin</th>\n",
       "      <th>dest</th>\n",
       "      <th>cancelled</th>\n",
       "      <th>diverted</th>\n",
       "      <th>crsdeptime</th>\n",
       "      <th>deptime</th>\n",
       "      <th>depdelayminutes</th>\n",
       "      <th>depdelay</th>\n",
       "      <th>...</th>\n",
       "      <th>destcityname</th>\n",
       "      <th>deststate</th>\n",
       "      <th>deststatefips</th>\n",
       "      <th>deststatename</th>\n",
       "      <th>destwac</th>\n",
       "      <th>deptimeblk</th>\n",
       "      <th>crsarrtime</th>\n",
       "      <th>arrdelay</th>\n",
       "      <th>arrtimeblk</th>\n",
       "      <th>distancegroup</th>\n",
       "    </tr>\n",
       "  </thead>\n",
       "  <tbody>\n",
       "    <tr>\n",
       "      <th>0</th>\n",
       "      <td>2018-01-13</td>\n",
       "      <td>Endeavor Air Inc.</td>\n",
       "      <td>MSP</td>\n",
       "      <td>CLT</td>\n",
       "      <td>False</td>\n",
       "      <td>False</td>\n",
       "      <td>1925</td>\n",
       "      <td>1923.0</td>\n",
       "      <td>0.0</td>\n",
       "      <td>-2.0</td>\n",
       "      <td>...</td>\n",
       "      <td>Charlotte, NC</td>\n",
       "      <td>NC</td>\n",
       "      <td>37</td>\n",
       "      <td>North Carolina</td>\n",
       "      <td>36</td>\n",
       "      <td>1900-1959</td>\n",
       "      <td>2257</td>\n",
       "      <td>0.0</td>\n",
       "      <td>2200-2259</td>\n",
       "      <td>4</td>\n",
       "    </tr>\n",
       "    <tr>\n",
       "      <th>1</th>\n",
       "      <td>2018-01-01</td>\n",
       "      <td>Endeavor Air Inc.</td>\n",
       "      <td>DCA</td>\n",
       "      <td>JFK</td>\n",
       "      <td>False</td>\n",
       "      <td>False</td>\n",
       "      <td>900</td>\n",
       "      <td>949.0</td>\n",
       "      <td>49.0</td>\n",
       "      <td>49.0</td>\n",
       "      <td>...</td>\n",
       "      <td>New York, NY</td>\n",
       "      <td>NY</td>\n",
       "      <td>36</td>\n",
       "      <td>New York</td>\n",
       "      <td>22</td>\n",
       "      <td>0900-0959</td>\n",
       "      <td>1023</td>\n",
       "      <td>36.0</td>\n",
       "      <td>1000-1059</td>\n",
       "      <td>1</td>\n",
       "    </tr>\n",
       "    <tr>\n",
       "      <th>2</th>\n",
       "      <td>2018-01-01</td>\n",
       "      <td>Endeavor Air Inc.</td>\n",
       "      <td>ORD</td>\n",
       "      <td>ATL</td>\n",
       "      <td>False</td>\n",
       "      <td>False</td>\n",
       "      <td>1515</td>\n",
       "      <td>1509.0</td>\n",
       "      <td>0.0</td>\n",
       "      <td>-6.0</td>\n",
       "      <td>...</td>\n",
       "      <td>Atlanta, GA</td>\n",
       "      <td>GA</td>\n",
       "      <td>13</td>\n",
       "      <td>Georgia</td>\n",
       "      <td>34</td>\n",
       "      <td>1500-1559</td>\n",
       "      <td>1822</td>\n",
       "      <td>-14.0</td>\n",
       "      <td>1800-1859</td>\n",
       "      <td>3</td>\n",
       "    </tr>\n",
       "    <tr>\n",
       "      <th>3</th>\n",
       "      <td>2018-01-06</td>\n",
       "      <td>Endeavor Air Inc.</td>\n",
       "      <td>IAD</td>\n",
       "      <td>JFK</td>\n",
       "      <td>False</td>\n",
       "      <td>False</td>\n",
       "      <td>640</td>\n",
       "      <td>636.0</td>\n",
       "      <td>0.0</td>\n",
       "      <td>-4.0</td>\n",
       "      <td>...</td>\n",
       "      <td>New York, NY</td>\n",
       "      <td>NY</td>\n",
       "      <td>36</td>\n",
       "      <td>New York</td>\n",
       "      <td>22</td>\n",
       "      <td>0600-0659</td>\n",
       "      <td>808</td>\n",
       "      <td>-11.0</td>\n",
       "      <td>0800-0859</td>\n",
       "      <td>1</td>\n",
       "    </tr>\n",
       "    <tr>\n",
       "      <th>4</th>\n",
       "      <td>2018-01-13</td>\n",
       "      <td>Endeavor Air Inc.</td>\n",
       "      <td>IAD</td>\n",
       "      <td>JFK</td>\n",
       "      <td>False</td>\n",
       "      <td>False</td>\n",
       "      <td>640</td>\n",
       "      <td>637.0</td>\n",
       "      <td>0.0</td>\n",
       "      <td>-3.0</td>\n",
       "      <td>...</td>\n",
       "      <td>New York, NY</td>\n",
       "      <td>NY</td>\n",
       "      <td>36</td>\n",
       "      <td>New York</td>\n",
       "      <td>22</td>\n",
       "      <td>0600-0659</td>\n",
       "      <td>808</td>\n",
       "      <td>32.0</td>\n",
       "      <td>0800-0859</td>\n",
       "      <td>1</td>\n",
       "    </tr>\n",
       "  </tbody>\n",
       "</table>\n",
       "<p>5 rows × 51 columns</p>\n",
       "</div>"
      ],
      "text/plain": [
       "  flightdate            airline origin dest  cancelled  diverted  crsdeptime  \\\n",
       "0 2018-01-13  Endeavor Air Inc.    MSP  CLT      False     False        1925   \n",
       "1 2018-01-01  Endeavor Air Inc.    DCA  JFK      False     False         900   \n",
       "2 2018-01-01  Endeavor Air Inc.    ORD  ATL      False     False        1515   \n",
       "3 2018-01-06  Endeavor Air Inc.    IAD  JFK      False     False         640   \n",
       "4 2018-01-13  Endeavor Air Inc.    IAD  JFK      False     False         640   \n",
       "\n",
       "   deptime  depdelayminutes  depdelay  ...   destcityname  deststate  \\\n",
       "0   1923.0              0.0      -2.0  ...  Charlotte, NC         NC   \n",
       "1    949.0             49.0      49.0  ...   New York, NY         NY   \n",
       "2   1509.0              0.0      -6.0  ...    Atlanta, GA         GA   \n",
       "3    636.0              0.0      -4.0  ...   New York, NY         NY   \n",
       "4    637.0              0.0      -3.0  ...   New York, NY         NY   \n",
       "\n",
       "   deststatefips   deststatename  destwac  deptimeblk  crsarrtime  arrdelay  \\\n",
       "0             37  North Carolina       36   1900-1959        2257       0.0   \n",
       "1             36        New York       22   0900-0959        1023      36.0   \n",
       "2             13         Georgia       34   1500-1559        1822     -14.0   \n",
       "3             36        New York       22   0600-0659         808     -11.0   \n",
       "4             36        New York       22   0600-0659         808      32.0   \n",
       "\n",
       "   arrtimeblk  distancegroup  \n",
       "0   2200-2259              4  \n",
       "1   1000-1059              1  \n",
       "2   1800-1859              3  \n",
       "3   0800-0859              1  \n",
       "4   0800-0859              1  \n",
       "\n",
       "[5 rows x 51 columns]"
      ]
     },
     "execution_count": 72,
     "metadata": {},
     "output_type": "execute_result"
    }
   ],
   "source": [
    "# Define the list of airport codes\n",
    "airport_codes = ['DEN', 'ORD', 'ATL', 'DFW', 'JFK', 'LAX', 'CLT', 'DCA', 'IAD', 'SEA', 'SFO', 'LAS', 'MSP', 'BOS', 'PDX', 'OGG', 'HNL']\n",
    "\n",
    "# Filter rows based on the 'origin' or 'dest' columns\n",
    "merged_df_3 = merged_df_3[merged_df_3['origin'].isin(airport_codes) & merged_df_3['dest'].isin(airport_codes)].reset_index(drop=True)\n",
    "\n",
    "# Display the first few rows of the DataFrame\n",
    "merged_df_3.head()"
   ]
  },
  {
   "cell_type": "code",
   "execution_count": 73,
   "metadata": {},
   "outputs": [],
   "source": [
    "#rename column for merging\n",
    "merged_df_3.rename(columns={'flightdate': 'date'}, inplace=True)"
   ]
  },
  {
   "cell_type": "code",
   "execution_count": 77,
   "metadata": {},
   "outputs": [],
   "source": [
    "#convert the datatype\n",
    "api_weather_data['date']=pd.to_datetime(api_weather_data['date'])"
   ]
  },
  {
   "cell_type": "markdown",
   "metadata": {},
   "source": [
    "### Merge the weather data with departure city"
   ]
  },
  {
   "cell_type": "code",
   "execution_count": 78,
   "metadata": {},
   "outputs": [
    {
     "data": {
      "text/html": [
       "<div>\n",
       "<style scoped>\n",
       "    .dataframe tbody tr th:only-of-type {\n",
       "        vertical-align: middle;\n",
       "    }\n",
       "\n",
       "    .dataframe tbody tr th {\n",
       "        vertical-align: top;\n",
       "    }\n",
       "\n",
       "    .dataframe thead th {\n",
       "        text-align: right;\n",
       "    }\n",
       "</style>\n",
       "<table border=\"1\" class=\"dataframe\">\n",
       "  <thead>\n",
       "    <tr style=\"text-align: right;\">\n",
       "      <th></th>\n",
       "      <th>date</th>\n",
       "      <th>airline</th>\n",
       "      <th>origin</th>\n",
       "      <th>dest</th>\n",
       "      <th>cancelled</th>\n",
       "      <th>diverted</th>\n",
       "      <th>crsdeptime</th>\n",
       "      <th>deptime</th>\n",
       "      <th>depdelayminutes</th>\n",
       "      <th>depdelay</th>\n",
       "      <th>...</th>\n",
       "      <th>dep_dew</th>\n",
       "      <th>dep_min_temp</th>\n",
       "      <th>dep_max_temp</th>\n",
       "      <th>dep_sp_humid</th>\n",
       "      <th>dep_rel_humid</th>\n",
       "      <th>dep_precip</th>\n",
       "      <th>dep_wspeed_10m</th>\n",
       "      <th>dep_wdirection_10m</th>\n",
       "      <th>dep_wspeed_50m</th>\n",
       "      <th>dep_wdirection_50m</th>\n",
       "    </tr>\n",
       "  </thead>\n",
       "  <tbody>\n",
       "    <tr>\n",
       "      <th>0</th>\n",
       "      <td>2018-01-13</td>\n",
       "      <td>Endeavor Air Inc.</td>\n",
       "      <td>MSP</td>\n",
       "      <td>CLT</td>\n",
       "      <td>False</td>\n",
       "      <td>False</td>\n",
       "      <td>1925</td>\n",
       "      <td>1923.0</td>\n",
       "      <td>0.0</td>\n",
       "      <td>-2.0</td>\n",
       "      <td>...</td>\n",
       "      <td>-23.69</td>\n",
       "      <td>-26.10</td>\n",
       "      <td>-16.19</td>\n",
       "      <td>0.43</td>\n",
       "      <td>86.50</td>\n",
       "      <td>0.0</td>\n",
       "      <td>4.39</td>\n",
       "      <td>311.12</td>\n",
       "      <td>6.04</td>\n",
       "      <td>311.56</td>\n",
       "    </tr>\n",
       "    <tr>\n",
       "      <th>1</th>\n",
       "      <td>2018-01-01</td>\n",
       "      <td>Endeavor Air Inc.</td>\n",
       "      <td>DCA</td>\n",
       "      <td>JFK</td>\n",
       "      <td>False</td>\n",
       "      <td>False</td>\n",
       "      <td>900</td>\n",
       "      <td>949.0</td>\n",
       "      <td>49.0</td>\n",
       "      <td>49.0</td>\n",
       "      <td>...</td>\n",
       "      <td>-13.92</td>\n",
       "      <td>-11.65</td>\n",
       "      <td>-5.54</td>\n",
       "      <td>1.16</td>\n",
       "      <td>67.44</td>\n",
       "      <td>0.0</td>\n",
       "      <td>2.95</td>\n",
       "      <td>320.50</td>\n",
       "      <td>2.91</td>\n",
       "      <td>321.38</td>\n",
       "    </tr>\n",
       "    <tr>\n",
       "      <th>2</th>\n",
       "      <td>2018-01-01</td>\n",
       "      <td>Endeavor Air Inc.</td>\n",
       "      <td>ORD</td>\n",
       "      <td>ATL</td>\n",
       "      <td>False</td>\n",
       "      <td>False</td>\n",
       "      <td>1515</td>\n",
       "      <td>1509.0</td>\n",
       "      <td>0.0</td>\n",
       "      <td>-6.0</td>\n",
       "      <td>...</td>\n",
       "      <td>-21.78</td>\n",
       "      <td>-23.64</td>\n",
       "      <td>-14.93</td>\n",
       "      <td>0.55</td>\n",
       "      <td>85.50</td>\n",
       "      <td>0.0</td>\n",
       "      <td>2.68</td>\n",
       "      <td>304.94</td>\n",
       "      <td>2.72</td>\n",
       "      <td>306.25</td>\n",
       "    </tr>\n",
       "    <tr>\n",
       "      <th>3</th>\n",
       "      <td>2018-01-06</td>\n",
       "      <td>Endeavor Air Inc.</td>\n",
       "      <td>IAD</td>\n",
       "      <td>JFK</td>\n",
       "      <td>False</td>\n",
       "      <td>False</td>\n",
       "      <td>640</td>\n",
       "      <td>636.0</td>\n",
       "      <td>0.0</td>\n",
       "      <td>-4.0</td>\n",
       "      <td>...</td>\n",
       "      <td>-18.63</td>\n",
       "      <td>-13.87</td>\n",
       "      <td>-8.94</td>\n",
       "      <td>0.73</td>\n",
       "      <td>52.50</td>\n",
       "      <td>0.0</td>\n",
       "      <td>2.70</td>\n",
       "      <td>300.00</td>\n",
       "      <td>1.93</td>\n",
       "      <td>300.50</td>\n",
       "    </tr>\n",
       "    <tr>\n",
       "      <th>4</th>\n",
       "      <td>2018-01-13</td>\n",
       "      <td>Endeavor Air Inc.</td>\n",
       "      <td>IAD</td>\n",
       "      <td>JFK</td>\n",
       "      <td>False</td>\n",
       "      <td>False</td>\n",
       "      <td>640</td>\n",
       "      <td>637.0</td>\n",
       "      <td>0.0</td>\n",
       "      <td>-3.0</td>\n",
       "      <td>...</td>\n",
       "      <td>-0.37</td>\n",
       "      <td>-5.29</td>\n",
       "      <td>14.56</td>\n",
       "      <td>4.82</td>\n",
       "      <td>75.00</td>\n",
       "      <td>21.2</td>\n",
       "      <td>7.30</td>\n",
       "      <td>276.25</td>\n",
       "      <td>6.57</td>\n",
       "      <td>277.12</td>\n",
       "    </tr>\n",
       "  </tbody>\n",
       "</table>\n",
       "<p>5 rows × 62 columns</p>\n",
       "</div>"
      ],
      "text/plain": [
       "        date            airline origin dest  cancelled  diverted  crsdeptime  \\\n",
       "0 2018-01-13  Endeavor Air Inc.    MSP  CLT      False     False        1925   \n",
       "1 2018-01-01  Endeavor Air Inc.    DCA  JFK      False     False         900   \n",
       "2 2018-01-01  Endeavor Air Inc.    ORD  ATL      False     False        1515   \n",
       "3 2018-01-06  Endeavor Air Inc.    IAD  JFK      False     False         640   \n",
       "4 2018-01-13  Endeavor Air Inc.    IAD  JFK      False     False         640   \n",
       "\n",
       "   deptime  depdelayminutes  depdelay  ...  dep_dew  dep_min_temp  \\\n",
       "0   1923.0              0.0      -2.0  ...   -23.69        -26.10   \n",
       "1    949.0             49.0      49.0  ...   -13.92        -11.65   \n",
       "2   1509.0              0.0      -6.0  ...   -21.78        -23.64   \n",
       "3    636.0              0.0      -4.0  ...   -18.63        -13.87   \n",
       "4    637.0              0.0      -3.0  ...    -0.37         -5.29   \n",
       "\n",
       "   dep_max_temp  dep_sp_humid  dep_rel_humid  dep_precip  dep_wspeed_10m  \\\n",
       "0        -16.19          0.43          86.50         0.0            4.39   \n",
       "1         -5.54          1.16          67.44         0.0            2.95   \n",
       "2        -14.93          0.55          85.50         0.0            2.68   \n",
       "3         -8.94          0.73          52.50         0.0            2.70   \n",
       "4         14.56          4.82          75.00        21.2            7.30   \n",
       "\n",
       "   dep_wdirection_10m  dep_wspeed_50m  dep_wdirection_50m  \n",
       "0              311.12            6.04              311.56  \n",
       "1              320.50            2.91              321.38  \n",
       "2              304.94            2.72              306.25  \n",
       "3              300.00            1.93              300.50  \n",
       "4              276.25            6.57              277.12  \n",
       "\n",
       "[5 rows x 62 columns]"
      ]
     },
     "execution_count": 78,
     "metadata": {},
     "output_type": "execute_result"
    }
   ],
   "source": [
    "# Merge the DataFrames\n",
    "merged_df_1 = pd.merge(merged_df_3, api_weather_data, on=['origin', 'date'], how='left')\n",
    "\n",
    "columns_to_rename = {\n",
    "    'temp': 'dep_temp',\n",
    "    'dew': 'dep_dew',\n",
    "    'min_temp': 'dep_min_temp',\n",
    "    'max_temp': 'dep_max_temp',\n",
    "    'sp_humid': 'dep_sp_humid',\n",
    "    'rel_humid': 'dep_rel_humid',\n",
    "    'precip': 'dep_precip',\n",
    "    'wspeed_10m': 'dep_wspeed_10m',\n",
    "    'wdirection_10m': 'dep_wdirection_10m',\n",
    "    'wspeed_50m': 'dep_wspeed_50m',\n",
    "    'wdirection_50m': 'dep_wdirection_50m'\n",
    "}\n",
    "\n",
    "# Rename the selected columns\n",
    "merged_df_1.rename(columns=columns_to_rename, inplace=True)\n",
    "\n",
    "# Display the DataFrame\n",
    "merged_df_1.head()"
   ]
  },
  {
   "cell_type": "markdown",
   "metadata": {},
   "source": [
    "### Merge the weather data with arrival city"
   ]
  },
  {
   "cell_type": "code",
   "execution_count": 79,
   "metadata": {},
   "outputs": [
    {
     "data": {
      "text/html": [
       "<div>\n",
       "<style scoped>\n",
       "    .dataframe tbody tr th:only-of-type {\n",
       "        vertical-align: middle;\n",
       "    }\n",
       "\n",
       "    .dataframe tbody tr th {\n",
       "        vertical-align: top;\n",
       "    }\n",
       "\n",
       "    .dataframe thead th {\n",
       "        text-align: right;\n",
       "    }\n",
       "</style>\n",
       "<table border=\"1\" class=\"dataframe\">\n",
       "  <thead>\n",
       "    <tr style=\"text-align: right;\">\n",
       "      <th></th>\n",
       "      <th>date</th>\n",
       "      <th>airline</th>\n",
       "      <th>origin</th>\n",
       "      <th>dest</th>\n",
       "      <th>cancelled</th>\n",
       "      <th>diverted</th>\n",
       "      <th>crsdeptime</th>\n",
       "      <th>deptime</th>\n",
       "      <th>depdelayminutes</th>\n",
       "      <th>depdelay</th>\n",
       "      <th>...</th>\n",
       "      <th>arr_dew</th>\n",
       "      <th>arr_min_temp</th>\n",
       "      <th>arr_max_temp</th>\n",
       "      <th>arr_sp_humid</th>\n",
       "      <th>arr_rel_humid</th>\n",
       "      <th>arr_precip</th>\n",
       "      <th>arr_wspeed_10m</th>\n",
       "      <th>arr_wdirection_10m</th>\n",
       "      <th>arr_wspeed_50m</th>\n",
       "      <th>arr_wdirection_50m</th>\n",
       "    </tr>\n",
       "  </thead>\n",
       "  <tbody>\n",
       "    <tr>\n",
       "      <th>0</th>\n",
       "      <td>2018-01-13</td>\n",
       "      <td>Endeavor Air Inc.</td>\n",
       "      <td>MSP</td>\n",
       "      <td>CLT</td>\n",
       "      <td>False</td>\n",
       "      <td>False</td>\n",
       "      <td>1925</td>\n",
       "      <td>1923.0</td>\n",
       "      <td>0.0</td>\n",
       "      <td>-2.0</td>\n",
       "      <td>...</td>\n",
       "      <td>-1.00</td>\n",
       "      <td>-0.62</td>\n",
       "      <td>14.38</td>\n",
       "      <td>4.09</td>\n",
       "      <td>67.62</td>\n",
       "      <td>1.32</td>\n",
       "      <td>2.64</td>\n",
       "      <td>305.81</td>\n",
       "      <td>1.88</td>\n",
       "      <td>307.25</td>\n",
       "    </tr>\n",
       "    <tr>\n",
       "      <th>1</th>\n",
       "      <td>2018-01-01</td>\n",
       "      <td>Endeavor Air Inc.</td>\n",
       "      <td>DCA</td>\n",
       "      <td>JFK</td>\n",
       "      <td>False</td>\n",
       "      <td>False</td>\n",
       "      <td>900</td>\n",
       "      <td>949.0</td>\n",
       "      <td>49.0</td>\n",
       "      <td>49.0</td>\n",
       "      <td>...</td>\n",
       "      <td>-10.32</td>\n",
       "      <td>-11.31</td>\n",
       "      <td>-6.06</td>\n",
       "      <td>1.65</td>\n",
       "      <td>94.31</td>\n",
       "      <td>0.03</td>\n",
       "      <td>0.70</td>\n",
       "      <td>326.44</td>\n",
       "      <td>1.05</td>\n",
       "      <td>326.62</td>\n",
       "    </tr>\n",
       "    <tr>\n",
       "      <th>2</th>\n",
       "      <td>2018-01-01</td>\n",
       "      <td>Endeavor Air Inc.</td>\n",
       "      <td>ORD</td>\n",
       "      <td>ATL</td>\n",
       "      <td>False</td>\n",
       "      <td>False</td>\n",
       "      <td>1515</td>\n",
       "      <td>1509.0</td>\n",
       "      <td>0.0</td>\n",
       "      <td>-6.0</td>\n",
       "      <td>...</td>\n",
       "      <td>-11.18</td>\n",
       "      <td>-7.10</td>\n",
       "      <td>-0.31</td>\n",
       "      <td>1.53</td>\n",
       "      <td>57.00</td>\n",
       "      <td>0.00</td>\n",
       "      <td>1.87</td>\n",
       "      <td>284.81</td>\n",
       "      <td>3.02</td>\n",
       "      <td>286.50</td>\n",
       "    </tr>\n",
       "    <tr>\n",
       "      <th>3</th>\n",
       "      <td>2018-01-06</td>\n",
       "      <td>Endeavor Air Inc.</td>\n",
       "      <td>IAD</td>\n",
       "      <td>JFK</td>\n",
       "      <td>False</td>\n",
       "      <td>False</td>\n",
       "      <td>640</td>\n",
       "      <td>636.0</td>\n",
       "      <td>0.0</td>\n",
       "      <td>-4.0</td>\n",
       "      <td>...</td>\n",
       "      <td>-11.14</td>\n",
       "      <td>-10.60</td>\n",
       "      <td>-8.61</td>\n",
       "      <td>1.53</td>\n",
       "      <td>93.75</td>\n",
       "      <td>0.17</td>\n",
       "      <td>2.52</td>\n",
       "      <td>293.75</td>\n",
       "      <td>3.39</td>\n",
       "      <td>294.00</td>\n",
       "    </tr>\n",
       "    <tr>\n",
       "      <th>4</th>\n",
       "      <td>2018-01-13</td>\n",
       "      <td>Endeavor Air Inc.</td>\n",
       "      <td>IAD</td>\n",
       "      <td>JFK</td>\n",
       "      <td>False</td>\n",
       "      <td>False</td>\n",
       "      <td>640</td>\n",
       "      <td>637.0</td>\n",
       "      <td>0.0</td>\n",
       "      <td>-3.0</td>\n",
       "      <td>...</td>\n",
       "      <td>2.69</td>\n",
       "      <td>-2.82</td>\n",
       "      <td>10.01</td>\n",
       "      <td>5.13</td>\n",
       "      <td>87.88</td>\n",
       "      <td>30.52</td>\n",
       "      <td>4.45</td>\n",
       "      <td>254.56</td>\n",
       "      <td>5.02</td>\n",
       "      <td>255.25</td>\n",
       "    </tr>\n",
       "  </tbody>\n",
       "</table>\n",
       "<p>5 rows × 73 columns</p>\n",
       "</div>"
      ],
      "text/plain": [
       "        date            airline origin dest  cancelled  diverted  crsdeptime  \\\n",
       "0 2018-01-13  Endeavor Air Inc.    MSP  CLT      False     False        1925   \n",
       "1 2018-01-01  Endeavor Air Inc.    DCA  JFK      False     False         900   \n",
       "2 2018-01-01  Endeavor Air Inc.    ORD  ATL      False     False        1515   \n",
       "3 2018-01-06  Endeavor Air Inc.    IAD  JFK      False     False         640   \n",
       "4 2018-01-13  Endeavor Air Inc.    IAD  JFK      False     False         640   \n",
       "\n",
       "   deptime  depdelayminutes  depdelay  ...  arr_dew  arr_min_temp  \\\n",
       "0   1923.0              0.0      -2.0  ...    -1.00         -0.62   \n",
       "1    949.0             49.0      49.0  ...   -10.32        -11.31   \n",
       "2   1509.0              0.0      -6.0  ...   -11.18         -7.10   \n",
       "3    636.0              0.0      -4.0  ...   -11.14        -10.60   \n",
       "4    637.0              0.0      -3.0  ...     2.69         -2.82   \n",
       "\n",
       "   arr_max_temp  arr_sp_humid  arr_rel_humid  arr_precip  arr_wspeed_10m  \\\n",
       "0         14.38          4.09          67.62        1.32            2.64   \n",
       "1         -6.06          1.65          94.31        0.03            0.70   \n",
       "2         -0.31          1.53          57.00        0.00            1.87   \n",
       "3         -8.61          1.53          93.75        0.17            2.52   \n",
       "4         10.01          5.13          87.88       30.52            4.45   \n",
       "\n",
       "   arr_wdirection_10m  arr_wspeed_50m  arr_wdirection_50m  \n",
       "0              305.81            1.88              307.25  \n",
       "1              326.44            1.05              326.62  \n",
       "2              284.81            3.02              286.50  \n",
       "3              293.75            3.39              294.00  \n",
       "4              254.56            5.02              255.25  \n",
       "\n",
       "[5 rows x 73 columns]"
      ]
     },
     "execution_count": 79,
     "metadata": {},
     "output_type": "execute_result"
    }
   ],
   "source": [
    "# Rename the columns in api_weather_data\n",
    "api_weather_data_renamed = api_weather_data.rename(columns={'origin': 'dest'})\n",
    "\n",
    "# Merge the two DataFrames\n",
    "merged_df = pd.merge(merged_df_1, api_weather_data_renamed, on=['dest', 'date'], how='left')\n",
    "\n",
    "columns_to_rename = {\n",
    "    'temp': 'arr_temp',\n",
    "    'dew': 'arr_dew',\n",
    "    'min_temp': 'arr_min_temp',\n",
    "    'max_temp': 'arr_max_temp',\n",
    "    'sp_humid': 'arr_sp_humid',\n",
    "    'rel_humid': 'arr_rel_humid',\n",
    "    'precip': 'arr_precip',\n",
    "    'wspeed_10m': 'arr_wspeed_10m',\n",
    "    'wdirection_10m': 'arr_wdirection_10m',\n",
    "    'wspeed_50m': 'arr_wspeed_50m',\n",
    "    'wdirection_50m': 'arr_wdirection_50m'\n",
    "}\n",
    "\n",
    "# Rename the selected columns\n",
    "merged_df.rename(columns=columns_to_rename, inplace=True)\n",
    "\n",
    "# Display the DataFrame\n",
    "merged_df.head()"
   ]
  },
  {
   "cell_type": "code",
   "execution_count": 80,
   "metadata": {},
   "outputs": [
    {
     "data": {
      "text/plain": [
       "(2231828, 73)"
      ]
     },
     "execution_count": 80,
     "metadata": {},
     "output_type": "execute_result"
    }
   ],
   "source": [
    "#find its shape\n",
    "merged_df.shape"
   ]
  },
  {
   "cell_type": "code",
   "execution_count": 100,
   "metadata": {},
   "outputs": [
    {
     "data": {
      "text/plain": [
       "Index(['date', 'airline', 'origin', 'dest', 'cancelled', 'diverted',\n",
       "       'crsdeptime', 'deptime', 'depdelayminutes', 'depdelay', 'arrtime',\n",
       "       'arrdelayminutes', 'airtime', 'crselapsedtime', 'actualelapsedtime',\n",
       "       'distance', 'year', 'quarter', 'month', 'dayofmonth', 'dayofweek',\n",
       "       'marketing_airline_network', 'operated_or_branded_code_share_partners',\n",
       "       'dot_id_marketing_airline', 'iata_code_marketing_airline',\n",
       "       'flight_number_marketing_airline', 'operating_airline',\n",
       "       'dot_id_operating_airline', 'iata_code_operating_airline',\n",
       "       'flight_number_operating_airline', 'originairportid',\n",
       "       'originairportseqid', 'origincitymarketid', 'origincityname',\n",
       "       'originstate', 'originstatefips', 'originstatename', 'originwac',\n",
       "       'destairportid', 'destairportseqid', 'destcitymarketid', 'destcityname',\n",
       "       'deststate', 'deststatefips', 'deststatename', 'destwac', 'deptimeblk',\n",
       "       'crsarrtime', 'arrdelay', 'arrtimeblk', 'distancegroup', 'dep_temp',\n",
       "       'dep_dew', 'dep_min_temp', 'dep_max_temp', 'dep_sp_humid',\n",
       "       'dep_rel_humid', 'dep_precip', 'dep_wspeed_10m', 'dep_wdirection_10m',\n",
       "       'dep_wspeed_50m', 'dep_wdirection_50m', 'arr_temp', 'arr_dew',\n",
       "       'arr_min_temp', 'arr_max_temp', 'arr_sp_humid', 'arr_rel_humid',\n",
       "       'arr_precip', 'arr_wspeed_10m', 'arr_wdirection_10m', 'arr_wspeed_50m',\n",
       "       'arr_wdirection_50m', 'Time Block', 'Delay Group', 'Season'],\n",
       "      dtype='object')"
      ]
     },
     "execution_count": 100,
     "metadata": {},
     "output_type": "execute_result"
    }
   ],
   "source": [
    "#find its column name\n",
    "merged_df.columns"
   ]
  },
  {
   "cell_type": "code",
   "execution_count": 81,
   "metadata": {},
   "outputs": [],
   "source": [
    "merged_df.to_csv('Final_merged.csv')"
   ]
  },
  {
   "cell_type": "markdown",
   "metadata": {},
   "source": [
    "## Exploratory Data Analysis"
   ]
  },
  {
   "cell_type": "markdown",
   "metadata": {},
   "source": [
    "#### 1. What are the busiest origin and destination airports in terms of the number of flights?"
   ]
  },
  {
   "cell_type": "code",
   "execution_count": 84,
   "metadata": {},
   "outputs": [
    {
     "data": {
      "image/png": "[encoded data removed]",
      "text/plain": [
       "<Figure size 1400x600 with 2 Axes>"
      ]
     },
     "metadata": {},
     "output_type": "display_data"
    }
   ],
   "source": [
    "# Group the data by origin airport and count the number of flights\n",
    "origin_counts = merged_df.groupby('origincityname')['date'].count().reset_index()\n",
    "origin_counts.columns = ['Airport', 'Total Flights from Origin']\n",
    "\n",
    "# Group the data by destination airport and count the number of flights\n",
    "dest_counts = merged_df.groupby('destcityname')['date'].count().reset_index()\n",
    "dest_counts.columns = ['Airport', 'Total Flights to Destination']\n",
    "\n",
    "# Sort the airport counts in descending order\n",
    "origin_counts = origin_counts.sort_values(by='Total Flights from Origin', ascending=False)\n",
    "dest_counts = dest_counts.sort_values(by='Total Flights to Destination', ascending=False)\n",
    "\n",
    "# Select the top 5 busiest origin and destination airports\n",
    "top_5_origin = origin_counts.head(5)\n",
    "top_5_dest = dest_counts.head(5)\n",
    "\n",
    "# Calculate total number of flights\n",
    "total_flights_origin = top_5_origin['Total Flights from Origin'].sum()\n",
    "total_flights_dest = top_5_dest['Total Flights to Destination'].sum()\n",
    "\n",
    "# Calculate total number of flights across all origin and destination airports\n",
    "total_flights_overall = merged_df['date'].count()\n",
    "\n",
    "# Plot the data\n",
    "plt.figure(figsize=(14, 6))\n",
    "\n",
    "plt.subplot(1, 2, 1)\n",
    "bars_origin = plt.bar(top_5_origin['Airport'], top_5_origin['Total Flights from Origin'], color='skyblue')\n",
    "plt.xlabel('Origin Airport')\n",
    "plt.ylabel('Number of Flights')\n",
    "plt.title('Top 5 Busiest Origin Airports')\n",
    "plt.xticks(rotation=90, ha='right')\n",
    "\n",
    "# Add percentage labels above each bar\n",
    "for bar in bars_origin:\n",
    "    percentage = (bar.get_height() / total_flights_overall) * 100\n",
    "    plt.text(bar.get_x() + bar.get_width() / 2, bar.get_height() - 0.01 * total_flights_overall,\n",
    "             f\"{percentage:.2f}%\", ha='center', va='top')\n",
    "\n",
    "plt.subplot(1, 2, 2)\n",
    "bars_dest = plt.bar(top_5_dest['Airport'], top_5_dest['Total Flights to Destination'], color='orange')\n",
    "plt.xlabel('Destination Airport')\n",
    "plt.ylabel('Number of Flights')\n",
    "plt.title('Top 5 Busiest Destination Airports')\n",
    "plt.xticks(rotation=90, ha='right')\n",
    "\n",
    "# Add percentage labels above each bar\n",
    "for bar in bars_dest:\n",
    "    percentage = (bar.get_height() / total_flights_overall) * 100\n",
    "    plt.text(bar.get_x() + bar.get_width() / 2, bar.get_height() - 0.01 * total_flights_overall,\n",
    "             f\"{percentage:.2f}%\", ha='center', va='top')\n",
    "\n",
    "plt.tight_layout()\n",
    "plt.show()\n",
    "\n"
   ]
  },
  {
   "cell_type": "markdown",
   "metadata": {},
   "source": [
    "#### 2. How does the distribution of flight traffic vary among the top 10 busiest airports across different states in the United States?"
   ]
  },
  {
   "cell_type": "code",
   "execution_count": 86,
   "metadata": {},
   "outputs": [
    {
     "data": {
      "application/vnd.plotly.v1+json": {
       "config": {
        "plotlyServerURL": "https://plot.ly"
       },
       "data": [
        {
         "geo": "geo",
         "hovertemplate": "<b>%{hovertext}</b><br><br>Airport=Los Angeles, CA<br>Total Flights from Origin=%{marker.size}<br>State=%{location}<extra></extra>",
         "hovertext": [
          "Los Angeles, CA"
         ],
         "legendgroup": "Los Angeles, CA",
         "locationmode": "USA-states",
         "locations": [
          "CA"
         ],
         "marker": {
          "color": "#636efa",
          "size": [
           255221
          ],
          "sizemode": "area",
          "sizeref": 102.0884,
          "symbol": "circle"
         },
         "mode": "markers",
         "name": "Los Angeles, CA",
         "showlegend": true,
         "type": "scattergeo"
        },
        {
         "geo": "geo",
         "hovertemplate": "<b>%{hovertext}</b><br><br>Airport=San Francisco, CA<br>Total Flights from Origin=%{marker.size}<br>State=%{location}<extra></extra>",
         "hovertext": [
          "San Francisco, CA"
         ],
         "legendgroup": "San Francisco, CA",
         "locationmode": "USA-states",
         "locations": [
          "CA"
         ],
         "marker": {
          "color": "#EF553B",
          "size": [
           198299
          ],
          "sizemode": "area",
          "sizeref": 102.0884,
          "symbol": "circle"
         },
         "mode": "markers",
         "name": "San Francisco, CA",
         "showlegend": true,
         "type": "scattergeo"
        },
        {
         "geo": "geo",
         "hovertemplate": "<b>%{hovertext}</b><br><br>Airport=Chicago, IL<br>Total Flights from Origin=%{marker.size}<br>State=%{location}<extra></extra>",
         "hovertext": [
          "Chicago, IL"
         ],
         "legendgroup": "Chicago, IL",
         "locationmode": "USA-states",
         "locations": [
          "IL"
         ],
         "marker": {
          "color": "#00cc96",
          "size": [
           187423
          ],
          "sizemode": "area",
          "sizeref": 102.0884,
          "symbol": "circle"
         },
         "mode": "markers",
         "name": "Chicago, IL",
         "showlegend": true,
         "type": "scattergeo"
        },
        {
         "geo": "geo",
         "hovertemplate": "<b>%{hovertext}</b><br><br>Airport=Denver, CO<br>Total Flights from Origin=%{marker.size}<br>State=%{location}<extra></extra>",
         "hovertext": [
          "Denver, CO"
         ],
         "legendgroup": "Denver, CO",
         "locationmode": "USA-states",
         "locations": [
          "CO"
         ],
         "marker": {
          "color": "#ab63fa",
          "size": [
           173446
          ],
          "sizemode": "area",
          "sizeref": 102.0884,
          "symbol": "circle"
         },
         "mode": "markers",
         "name": "Denver, CO",
         "showlegend": true,
         "type": "scattergeo"
        },
        {
         "geo": "geo",
         "hovertemplate": "<b>%{hovertext}</b><br><br>Airport=Seattle, WA<br>Total Flights from Origin=%{marker.size}<br>State=%{location}<extra></extra>",
         "hovertext": [
          "Seattle, WA"
         ],
         "legendgroup": "Seattle, WA",
         "locationmode": "USA-states",
         "locations": [
          "WA"
         ],
         "marker": {
          "color": "#FFA15A",
          "size": [
           168361
          ],
          "sizemode": "area",
          "sizeref": 102.0884,
          "symbol": "circle"
         },
         "mode": "markers",
         "name": "Seattle, WA",
         "showlegend": true,
         "type": "scattergeo"
        },
        {
         "geo": "geo",
         "hovertemplate": "<b>%{hovertext}</b><br><br>Airport=Atlanta, GA<br>Total Flights from Origin=%{marker.size}<br>State=%{location}<extra></extra>",
         "hovertext": [
          "Atlanta, GA"
         ],
         "legendgroup": "Atlanta, GA",
         "locationmode": "USA-states",
         "locations": [
          "GA"
         ],
         "marker": {
          "color": "#19d3f3",
          "size": [
           161589
          ],
          "sizemode": "area",
          "sizeref": 102.0884,
          "symbol": "circle"
         },
         "mode": "markers",
         "name": "Atlanta, GA",
         "showlegend": true,
         "type": "scattergeo"
        },
        {
         "geo": "geo",
         "hovertemplate": "<b>%{hovertext}</b><br><br>Airport=Washington, DC<br>Total Flights from Origin=%{marker.size}<br>State=%{location}<extra></extra>",
         "hovertext": [
          "Washington, DC"
         ],
         "legendgroup": "Washington, DC",
         "locationmode": "USA-states",
         "locations": [
          "DC"
         ],
         "marker": {
          "color": "#FF6692",
          "size": [
           158475
          ],
          "sizemode": "area",
          "sizeref": 102.0884,
          "symbol": "circle"
         },
         "mode": "markers",
         "name": "Washington, DC",
         "showlegend": true,
         "type": "scattergeo"
        },
        {
         "geo": "geo",
         "hovertemplate": "<b>%{hovertext}</b><br><br>Airport=Las Vegas, NV<br>Total Flights from Origin=%{marker.size}<br>State=%{location}<extra></extra>",
         "hovertext": [
          "Las Vegas, NV"
         ],
         "legendgroup": "Las Vegas, NV",
         "locationmode": "USA-states",
         "locations": [
          "NV"
         ],
         "marker": {
          "color": "#B6E880",
          "size": [
           153600
          ],
          "sizemode": "area",
          "sizeref": 102.0884,
          "symbol": "circle"
         },
         "mode": "markers",
         "name": "Las Vegas, NV",
         "showlegend": true,
         "type": "scattergeo"
        },
        {
         "geo": "geo",
         "hovertemplate": "<b>%{hovertext}</b><br><br>Airport=Dallas/Fort Worth, TX<br>Total Flights from Origin=%{marker.size}<br>State=%{location}<extra></extra>",
         "hovertext": [
          "Dallas/Fort Worth, TX"
         ],
         "legendgroup": "Dallas/Fort Worth, TX",
         "locationmode": "USA-states",
         "locations": [
          "TX"
         ],
         "marker": {
          "color": "#FF97FF",
          "size": [
           136618
          ],
          "sizemode": "area",
          "sizeref": 102.0884,
          "symbol": "circle"
         },
         "mode": "markers",
         "name": "Dallas/Fort Worth, TX",
         "showlegend": true,
         "type": "scattergeo"
        },
        {
         "geo": "geo",
         "hovertemplate": "<b>%{hovertext}</b><br><br>Airport=Boston, MA<br>Total Flights from Origin=%{marker.size}<br>State=%{location}<extra></extra>",
         "hovertext": [
          "Boston, MA"
         ],
         "legendgroup": "Boston, MA",
         "locationmode": "USA-states",
         "locations": [
          "MA"
         ],
         "marker": {
          "color": "#FECB52",
          "size": [
           130201
          ],
          "sizemode": "area",
          "sizeref": 102.0884,
          "symbol": "circle"
         },
         "mode": "markers",
         "name": "Boston, MA",
         "showlegend": true,
         "type": "scattergeo"
        }
       ],
       "layout": {
        "geo": {
         "center": {},
         "domain": {
          "x": [
           0,
           1
          ],
          "y": [
           0,
           1
          ]
         },
         "scope": "usa"
        },
        "height": 800,
        "legend": {
         "itemsizing": "constant",
         "title": {
          "text": "Airport"
         },
         "tracegroupgap": 0
        },
        "template": {
         "data": {
          "bar": [
           {
            "error_x": {
             "color": "#2a3f5f"
            },
            "error_y": {
             "color": "#2a3f5f"
            },
            "marker": {
             "line": {
              "color": "#E5ECF6",
              "width": 0.5
             },
             "pattern": {
              "fillmode": "overlay",
              "size": 10,
              "solidity": 0.2
             }
            },
            "type": "bar"
           }
          ],
          "barpolar": [
           {
            "marker": {
             "line": {
              "color": "#E5ECF6",
              "width": 0.5
             },
             "pattern": {
              "fillmode": "overlay",
              "size": 10,
              "solidity": 0.2
             }
            },
            "type": "barpolar"
           }
          ],
          "carpet": [
           {
            "aaxis": {
             "endlinecolor": "#2a3f5f",
             "gridcolor": "white",
             "linecolor": "white",
             "minorgridcolor": "white",
             "startlinecolor": "#2a3f5f"
            },
            "baxis": {
             "endlinecolor": "#2a3f5f",
             "gridcolor": "white",
             "linecolor": "white",
             "minorgridcolor": "white",
             "startlinecolor": "#2a3f5f"
            },
            "type": "carpet"
           }
          ],
          "choropleth": [
           {
            "colorbar": {
             "outlinewidth": 0,
             "ticks": ""
            },
            "type": "choropleth"
           }
          ],
          "contour": [
           {
            "colorbar": {
             "outlinewidth": 0,
             "ticks": ""
            },
            "colorscale": [
             [
              0,
              "#0d0887"
             ],
             [
              0.1111111111111111,
              "#46039f"
             ],
             [
              0.2222222222222222,
              "#7201a8"
             ],
             [
              0.3333333333333333,
              "#9c179e"
             ],
             [
              0.4444444444444444,
              "#bd3786"
             ],
             [
              0.5555555555555556,
              "#d8576b"
             ],
             [
              0.6666666666666666,
              "#ed7953"
             ],
             [
              0.7777777777777778,
              "#fb9f3a"
             ],
             [
              0.8888888888888888,
              "#fdca26"
             ],
             [
              1,
              "#f0f921"
             ]
            ],
            "type": "contour"
           }
          ],
          "contourcarpet": [
           {
            "colorbar": {
             "outlinewidth": 0,
             "ticks": ""
            },
            "type": "contourcarpet"
           }
          ],
          "heatmap": [
           {
            "colorbar": {
             "outlinewidth": 0,
             "ticks": ""
            },
            "colorscale": [
             [
              0,
              "#0d0887"
             ],
             [
              0.1111111111111111,
              "#46039f"
             ],
             [
              0.2222222222222222,
              "#7201a8"
             ],
             [
              0.3333333333333333,
              "#9c179e"
             ],
             [
              0.4444444444444444,
              "#bd3786"
             ],
             [
              0.5555555555555556,
              "#d8576b"
             ],
             [
              0.6666666666666666,
              "#ed7953"
             ],
             [
              0.7777777777777778,
              "#fb9f3a"
             ],
             [
              0.8888888888888888,
              "#fdca26"
             ],
             [
              1,
              "#f0f921"
             ]
            ],
            "type": "heatmap"
           }
          ],
          "heatmapgl": [
           {
            "colorbar": {
             "outlinewidth": 0,
             "ticks": ""
            },
            "colorscale": [
             [
              0,
              "#0d0887"
             ],
             [
              0.1111111111111111,
              "#46039f"
             ],
             [
              0.2222222222222222,
              "#7201a8"
             ],
             [
              0.3333333333333333,
              "#9c179e"
             ],
             [
              0.4444444444444444,
              "#bd3786"
             ],
             [
              0.5555555555555556,
              "#d8576b"
             ],
             [
              0.6666666666666666,
              "#ed7953"
             ],
             [
              0.7777777777777778,
              "#fb9f3a"
             ],
             [
              0.8888888888888888,
              "#fdca26"
             ],
             [
              1,
              "#f0f921"
             ]
            ],
            "type": "heatmapgl"
           }
          ],
          "histogram": [
           {
            "marker": {
             "pattern": {
              "fillmode": "overlay",
              "size": 10,
              "solidity": 0.2
             }
            },
            "type": "histogram"
           }
          ],
          "histogram2d": [
           {
            "colorbar": {
             "outlinewidth": 0,
             "ticks": ""
            },
            "colorscale": [
             [
              0,
              "#0d0887"
             ],
             [
              0.1111111111111111,
              "#46039f"
             ],
             [
              0.2222222222222222,
              "#7201a8"
             ],
             [
              0.3333333333333333,
              "#9c179e"
             ],
             [
              0.4444444444444444,
              "#bd3786"
             ],
             [
              0.5555555555555556,
              "#d8576b"
             ],
             [
              0.6666666666666666,
              "#ed7953"
             ],
             [
              0.7777777777777778,
              "#fb9f3a"
             ],
             [
              0.8888888888888888,
              "#fdca26"
             ],
             [
              1,
              "#f0f921"
             ]
            ],
            "type": "histogram2d"
           }
          ],
          "histogram2dcontour": [
           {
            "colorbar": {
             "outlinewidth": 0,
             "ticks": ""
            },
            "colorscale": [
             [
              0,
              "#0d0887"
             ],
             [
              0.1111111111111111,
              "#46039f"
             ],
             [
              0.2222222222222222,
              "#7201a8"
             ],
             [
              0.3333333333333333,
              "#9c179e"
             ],
             [
              0.4444444444444444,
              "#bd3786"
             ],
             [
              0.5555555555555556,
              "#d8576b"
             ],
             [
              0.6666666666666666,
              "#ed7953"
             ],
             [
              0.7777777777777778,
              "#fb9f3a"
             ],
             [
              0.8888888888888888,
              "#fdca26"
             ],
             [
              1,
              "#f0f921"
             ]
            ],
            "type": "histogram2dcontour"
           }
          ],
          "mesh3d": [
           {
            "colorbar": {
             "outlinewidth": 0,
             "ticks": ""
            },
            "type": "mesh3d"
           }
          ],
          "parcoords": [
           {
            "line": {
             "colorbar": {
              "outlinewidth": 0,
              "ticks": ""
             }
            },
            "type": "parcoords"
           }
          ],
          "pie": [
           {
            "automargin": true,
            "type": "pie"
           }
          ],
          "scatter": [
           {
            "fillpattern": {
             "fillmode": "overlay",
             "size": 10,
             "solidity": 0.2
            },
            "type": "scatter"
           }
          ],
          "scatter3d": [
           {
            "line": {
             "colorbar": {
              "outlinewidth": 0,
              "ticks": ""
             }
            },
            "marker": {
             "colorbar": {
              "outlinewidth": 0,
              "ticks": ""
             }
            },
            "type": "scatter3d"
           }
          ],
          "scattercarpet": [
           {
            "marker": {
             "colorbar": {
              "outlinewidth": 0,
              "ticks": ""
             }
            },
            "type": "scattercarpet"
           }
          ],
          "scattergeo": [
           {
            "marker": {
             "colorbar": {
              "outlinewidth": 0,
              "ticks": ""
             }
            },
            "type": "scattergeo"
           }
          ],
          "scattergl": [
           {
            "marker": {
             "colorbar": {
              "outlinewidth": 0,
              "ticks": ""
             }
            },
            "type": "scattergl"
           }
          ],
          "scattermapbox": [
           {
            "marker": {
             "colorbar": {
              "outlinewidth": 0,
              "ticks": ""
             }
            },
            "type": "scattermapbox"
           }
          ],
          "scatterpolar": [
           {
            "marker": {
             "colorbar": {
              "outlinewidth": 0,
              "ticks": ""
             }
            },
            "type": "scatterpolar"
           }
          ],
          "scatterpolargl": [
           {
            "marker": {
             "colorbar": {
              "outlinewidth": 0,
              "ticks": ""
             }
            },
            "type": "scatterpolargl"
           }
          ],
          "scatterternary": [
           {
            "marker": {
             "colorbar": {
              "outlinewidth": 0,
              "ticks": ""
             }
            },
            "type": "scatterternary"
           }
          ],
          "surface": [
           {
            "colorbar": {
             "outlinewidth": 0,
             "ticks": ""
            },
            "colorscale": [
             [
              0,
              "#0d0887"
             ],
             [
              0.1111111111111111,
              "#46039f"
             ],
             [
              0.2222222222222222,
              "#7201a8"
             ],
             [
              0.3333333333333333,
              "#9c179e"
             ],
             [
              0.4444444444444444,
              "#bd3786"
             ],
             [
              0.5555555555555556,
              "#d8576b"
             ],
             [
              0.6666666666666666,
              "#ed7953"
             ],
             [
              0.7777777777777778,
              "#fb9f3a"
             ],
             [
              0.8888888888888888,
              "#fdca26"
             ],
             [
              1,
              "#f0f921"
             ]
            ],
            "type": "surface"
           }
          ],
          "table": [
           {
            "cells": {
             "fill": {
              "color": "#EBF0F8"
             },
             "line": {
              "color": "white"
             }
            },
            "header": {
             "fill": {
              "color": "#C8D4E3"
             },
             "line": {
              "color": "white"
             }
            },
            "type": "table"
           }
          ]
         },
         "layout": {
          "annotationdefaults": {
           "arrowcolor": "#2a3f5f",
           "arrowhead": 0,
           "arrowwidth": 1
          },
          "autotypenumbers": "strict",
          "coloraxis": {
           "colorbar": {
            "outlinewidth": 0,
            "ticks": ""
           }
          },
          "colorscale": {
           "diverging": [
            [
             0,
             "#8e0152"
            ],
            [
             0.1,
             "#c51b7d"
            ],
            [
             0.2,
             "#de77ae"
            ],
            [
             0.3,
             "#f1b6da"
            ],
            [
             0.4,
             "#fde0ef"
            ],
            [
             0.5,
             "#f7f7f7"
            ],
            [
             0.6,
             "#e6f5d0"
            ],
            [
             0.7,
             "#b8e186"
            ],
            [
             0.8,
             "#7fbc41"
            ],
            [
             0.9,
             "#4d9221"
            ],
            [
             1,
             "#276419"
            ]
           ],
           "sequential": [
            [
             0,
             "#0d0887"
            ],
            [
             0.1111111111111111,
             "#46039f"
            ],
            [
             0.2222222222222222,
             "#7201a8"
            ],
            [
             0.3333333333333333,
             "#9c179e"
            ],
            [
             0.4444444444444444,
             "#bd3786"
            ],
            [
             0.5555555555555556,
             "#d8576b"
            ],
            [
             0.6666666666666666,
             "#ed7953"
            ],
            [
             0.7777777777777778,
             "#fb9f3a"
            ],
            [
             0.8888888888888888,
             "#fdca26"
            ],
            [
             1,
             "#f0f921"
            ]
           ],
           "sequentialminus": [
            [
             0,
             "#0d0887"
            ],
            [
             0.1111111111111111,
             "#46039f"
            ],
            [
             0.2222222222222222,
             "#7201a8"
            ],
            [
             0.3333333333333333,
             "#9c179e"
            ],
            [
             0.4444444444444444,
             "#bd3786"
            ],
            [
             0.5555555555555556,
             "#d8576b"
            ],
            [
             0.6666666666666666,
             "#ed7953"
            ],
            [
             0.7777777777777778,
             "#fb9f3a"
            ],
            [
             0.8888888888888888,
             "#fdca26"
            ],
            [
             1,
             "#f0f921"
            ]
           ]
          },
          "colorway": [
           "#636efa",
           "#EF553B",
           "#00cc96",
           "#ab63fa",
           "#FFA15A",
           "#19d3f3",
           "#FF6692",
           "#B6E880",
           "#FF97FF",
           "#FECB52"
          ],
          "font": {
           "color": "#2a3f5f"
          },
          "geo": {
           "bgcolor": "white",
           "lakecolor": "white",
           "landcolor": "#E5ECF6",
           "showlakes": true,
           "showland": true,
           "subunitcolor": "white"
          },
          "hoverlabel": {
           "align": "left"
          },
          "hovermode": "closest",
          "mapbox": {
           "style": "light"
          },
          "paper_bgcolor": "white",
          "plot_bgcolor": "#E5ECF6",
          "polar": {
           "angularaxis": {
            "gridcolor": "white",
            "linecolor": "white",
            "ticks": ""
           },
           "bgcolor": "#E5ECF6",
           "radialaxis": {
            "gridcolor": "white",
            "linecolor": "white",
            "ticks": ""
           }
          },
          "scene": {
           "xaxis": {
            "backgroundcolor": "#E5ECF6",
            "gridcolor": "white",
            "gridwidth": 2,
            "linecolor": "white",
            "showbackground": true,
            "ticks": "",
            "zerolinecolor": "white"
           },
           "yaxis": {
            "backgroundcolor": "#E5ECF6",
            "gridcolor": "white",
            "gridwidth": 2,
            "linecolor": "white",
            "showbackground": true,
            "ticks": "",
            "zerolinecolor": "white"
           },
           "zaxis": {
            "backgroundcolor": "#E5ECF6",
            "gridcolor": "white",
            "gridwidth": 2,
            "linecolor": "white",
            "showbackground": true,
            "ticks": "",
            "zerolinecolor": "white"
           }
          },
          "shapedefaults": {
           "line": {
            "color": "#2a3f5f"
           }
          },
          "ternary": {
           "aaxis": {
            "gridcolor": "white",
            "linecolor": "white",
            "ticks": ""
           },
           "baxis": {
            "gridcolor": "white",
            "linecolor": "white",
            "ticks": ""
           },
           "bgcolor": "#E5ECF6",
           "caxis": {
            "gridcolor": "white",
            "linecolor": "white",
            "ticks": ""
           }
          },
          "title": {
           "x": 0.05
          },
          "xaxis": {
           "automargin": true,
           "gridcolor": "white",
           "linecolor": "white",
           "ticks": "",
           "title": {
            "standoff": 15
           },
           "zerolinecolor": "white",
           "zerolinewidth": 2
          },
          "yaxis": {
           "automargin": true,
           "gridcolor": "white",
           "linecolor": "white",
           "ticks": "",
           "title": {
            "standoff": 15
           },
           "zerolinecolor": "white",
           "zerolinewidth": 2
          }
         }
        },
        "title": {
         "text": "Top 10 Busiest Airports"
        },
        "width": 1200
       }
      }
     },
     "metadata": {},
     "output_type": "display_data"
    }
   ],
   "source": [
    "import plotly.express as px\n",
    "origin_counts = merged_df.groupby('origincityname')['date'].count().reset_index()\n",
    "origin_counts.columns = ['Airport', 'Total Flights from Origin']\n",
    "origin_counts = origin_counts.sort_values(by='Total Flights from Origin', ascending=False)\n",
    "Top_10=origin_counts.head(10)\n",
    "Top_10\n",
    "pd.options.display.float_format = '{:.0f}'.format\n",
    "Top_10\n",
    "\n",
    "airport_states = {\n",
    "    'Los Angeles, CA': 'CA',\n",
    "    'San Francisco, CA': 'CA',\n",
    "    'Chicago, IL': 'IL',\n",
    "    'Denver, CO': 'CO',\n",
    "    'Seattle, WA': 'WA',\n",
    "    'Atlanta, GA': 'GA',\n",
    "    'Washington, DC': 'DC',\n",
    "    'Las Vegas, NV': 'NV',\n",
    "    'Dallas/Fort Worth, TX': 'TX',\n",
    "    'Boston, MA': 'MA'\n",
    "}\n",
    "\n",
    "# Add a new column to the DataFrame with the state codes\n",
    "Top_10['State'] = Top_10['Airport'].map(airport_states)\n",
    "\n",
    "fig = px.scatter_geo(Top_10, \n",
    "                     locations='State',  # Use the State column with state codes\n",
    "                     locationmode='USA-states', \n",
    "                     color='Airport',\n",
    "                     size='Total Flights from Origin',\n",
    "                     hover_name='Airport',\n",
    "                     title='Top 10 Busiest Airports',\n",
    "                     color_continuous_scale='viridis',\n",
    "                     size_max=50)\n",
    "\n",
    "fig.update_geos(scope='usa')\n",
    "fig.update_layout(height=800, width=1200)\n",
    "fig.show()"
   ]
  },
  {
   "cell_type": "markdown",
   "metadata": {},
   "source": [
    "#### 3. What are the most common departure time blocks for flights?"
   ]
  },
  {
   "cell_type": "code",
   "execution_count": 88,
   "metadata": {},
   "outputs": [
    {
     "data": {
      "image/png": "[encoded data removed]",
      "text/plain": [
       "<Figure size 640x480 with 1 Axes>"
      ]
     },
     "metadata": {},
     "output_type": "display_data"
    }
   ],
   "source": [
    "# Define time blocks\n",
    "time_blocks = {\n",
    "    'Morning': (0, 600),       \n",
    "    'Midday': (600, 1200),     \n",
    "    'Afternoon': (1200, 1800), \n",
    "    'Evening': (1800, 2400)    \n",
    "}\n",
    "\n",
    "# Convert departure times to integers for easier comparison\n",
    "merged_df['deptime'] = merged_df['deptime'].astype(int)\n",
    "\n",
    "# Create a new column to store the time block for each flight\n",
    "merged_df['Time Block'] = pd.cut(merged_df['deptime'], \n",
    "                                 bins=[block[0] for block in time_blocks.values()] + [2400],\n",
    "                                 labels=list(time_blocks.keys()))\n",
    "\n",
    "# Count the number of flights in each time block\n",
    "time_block_counts = merged_df['Time Block'].value_counts()\n",
    "\n",
    "# Calculate the percentage of flights in each time block\n",
    "total_flights = time_block_counts.sum()\n",
    "time_block_percentages = (time_block_counts / total_flights) * 100\n",
    "\n",
    "# Define the order of time blocks for plotting\n",
    "time_block_order = ['Morning', 'Midday', 'Afternoon', 'Evening']\n",
    "\n",
    "# Plot the data\n",
    "bars = plt.bar(time_block_order, time_block_counts.reindex(time_block_order, fill_value=0), color='grey', label='Number of Flights')\n",
    "\n",
    "# Add percentage labels inside the bars\n",
    "for bar, percentage in zip(bars, time_block_percentages.reindex(time_block_order, fill_value=0)):\n",
    "    height = bar.get_height()\n",
    "    plt.text(bar.get_x() + bar.get_width() / 2, height / 2, f\"{percentage:.2f}%\", ha='center', va='center', color='white')\n",
    "\n",
    "plt.xlabel('Time Block')\n",
    "plt.ylabel('Number of Flights')\n",
    "plt.title('Number of Flights by Time Block')\n",
    "plt.xticks(rotation=45, ha='right')\n",
    "plt.tight_layout()\n",
    "plt.show()\n"
   ]
  },
  {
   "cell_type": "markdown",
   "metadata": {},
   "source": [
    "#### 4. Which airlines are experiencing the maximum departure delays?"
   ]
  },
  {
   "cell_type": "code",
   "execution_count": 89,
   "metadata": {},
   "outputs": [
    {
     "data": {
      "image/png": "[encoded data removed]",
      "text/plain": [
       "<Figure size 1000x800 with 1 Axes>"
      ]
     },
     "metadata": {},
     "output_type": "display_data"
    }
   ],
   "source": [
    "import seaborn as sns\n",
    "# Get the top 5 airlines with the highest average departure delays\n",
    "top_5_airlines = merged_df.groupby('airline')['depdelayminutes'].mean().nlargest(5).index\n",
    "\n",
    "# Filter the data for flights operated by the top 5 airlines\n",
    "merged_top_5_airlines = merged_df[merged_df['airline'].isin(top_5_airlines)]\n",
    "\n",
    "# Create horizontal box plots for departure delay by the top 5 airlines\n",
    "plt.figure(figsize=(10, 8))\n",
    "sns.boxplot(y='airline', x='depdelay', data=merged_top_5_airlines, order=top_5_airlines)\n",
    "plt.title('Airlines with Highest Departure Delays')\n",
    "plt.xlabel('Departure Delay (minutes)')\n",
    "plt.ylabel('Airline') # Adjust the x-axis limits as needed\n",
    "plt.tight_layout()\n",
    "plt.show()\n"
   ]
  },
  {
   "cell_type": "markdown",
   "metadata": {},
   "source": [
    "#### 5. What are the top 5 most common flight routes, and how do they compare in terms of frequency of occurrence?"
   ]
  },
  {
   "cell_type": "code",
   "execution_count": 90,
   "metadata": {},
   "outputs": [
    {
     "data": {
      "image/png": "[encoded data removed]",
      "text/plain": [
       "<Figure size 800x800 with 1 Axes>"
      ]
     },
     "metadata": {},
     "output_type": "display_data"
    }
   ],
   "source": [
    "# Group the data by destination city and arrival city, then count the number of flights for each route\n",
    "route_counts = merged_df.groupby(['destcityname', 'origincityname']).size().reset_index(name='Flight Count')\n",
    "\n",
    "# Sort the routes by the number of flights in descending order\n",
    "route_counts = route_counts.sort_values(by='Flight Count', ascending=False)\n",
    "\n",
    "# Select the top 5 most common flight routes\n",
    "top_5_routes = route_counts.head(5)\n",
    "\n",
    "# Calculate the total number of flights across all routes\n",
    "total_flights = route_counts['Flight Count'].sum()\n",
    "\n",
    "# Plot the data as a pie chart\n",
    "plt.figure(figsize=(8, 8))\n",
    "labels = [f\"{route} ({count} flights, {count/total_flights*100:.2f}%)\" for route, count in zip(top_5_routes['destcityname'] + ' to ' + top_5_routes['origincityname'], top_5_routes['Flight Count'])]\n",
    "plt.pie(top_5_routes['Flight Count'], labels=labels, autopct='%1.1f%%', startangle=140)\n",
    "plt.title('Top 5 Most Common Flight Routes')\n",
    "plt.axis('equal')  # Equal aspect ratio ensures that pie is drawn as a circle.\n",
    "plt.show()"
   ]
  },
  {
   "cell_type": "markdown",
   "metadata": {},
   "source": [
    "#### 6. How do departure delay patterns vary across the top 5 airlines?"
   ]
  },
  {
   "cell_type": "code",
   "execution_count": 91,
   "metadata": {},
   "outputs": [
    {
     "data": {
      "image/png": "[encoded data removed]",
      "text/plain": [
       "<Figure size 1200x600 with 1 Axes>"
      ]
     },
     "metadata": {},
     "output_type": "display_data"
    }
   ],
   "source": [
    "# Define delay thresholds (in minutes)\n",
    "ontime_threshold = 0  \n",
    "small_delay_threshold = 15  \n",
    "medium_delay_threshold = 30 \n",
    "large_delay_threshold = 60  \n",
    "\n",
    "# Categorize departure delays into delay groups\n",
    "def categorize_delay(departure_delay):\n",
    "    if departure_delay < ontime_threshold:\n",
    "        return 'Early Departure'\n",
    "    elif ontime_threshold <= departure_delay <= small_delay_threshold:\n",
    "        return 'On Time'\n",
    "    elif small_delay_threshold < departure_delay <= medium_delay_threshold:\n",
    "        return 'Small Delay'\n",
    "    elif medium_delay_threshold < departure_delay <= large_delay_threshold:\n",
    "        return 'Medium Delay'\n",
    "    else:\n",
    "        return 'Large Delay'\n",
    "\n",
    "# Apply delay categorization to the data\n",
    "merged_df['Delay Group'] = merged_df['depdelay'].apply(categorize_delay)\n",
    "\n",
    "# Filter data for the top 5 airlines based on the number of flights\n",
    "top_5_airlines = merged_df['airline'].value_counts().head(5).index\n",
    "filtered_data = merged_df[merged_df['airline'].isin(top_5_airlines)]\n",
    "\n",
    "# Group data by delay group and airline, and count the number of flights\n",
    "delay_group_counts = filtered_data.groupby(['airline', 'Delay Group']).size().unstack(fill_value=0)\n",
    "\n",
    "delay_group_counts = delay_group_counts.reindex(top_5_airlines)\n",
    "\n",
    "delay_group_order = ['Early Departure', 'On Time', 'Small Delay', 'Medium Delay', 'Large Delay']\n",
    "\n",
    "# Plot the stacked bar chart with the specified order\n",
    "delay_group_counts.loc[:, delay_group_order].plot(kind='bar', stacked=True, figsize=(12, 6))\n",
    "\n",
    "plt.title('Distribution of Departure Delays for Top 5 Airlines')\n",
    "plt.xlabel('Airline')\n",
    "plt.ylabel('Number of Flights')\n",
    "plt.xticks(rotation=45, ha='right')\n",
    "plt.legend(title='Delay Group')\n",
    "plt.show()\n"
   ]
  },
  {
   "cell_type": "markdown",
   "metadata": {},
   "source": [
    "#### 7. Are there any particular months that experience significantly higher or lower flight activity?"
   ]
  },
  {
   "cell_type": "code",
   "execution_count": 92,
   "metadata": {},
   "outputs": [
    {
     "data": {
      "image/png": "[encoded data removed]",
      "text/plain": [
       "<Figure size 1400x800 with 1 Axes>"
      ]
     },
     "metadata": {},
     "output_type": "display_data"
    }
   ],
   "source": [
    "# Group data by month and count the number of flights\n",
    "monthly_flight_counts = merged_df.groupby('month').size()\n",
    "\n",
    "# Plot the data\n",
    "plt.figure(figsize=(14, 8))\n",
    "plt.plot(monthly_flight_counts, marker='o', linestyle='-')\n",
    "plt.title('Monthly Flight Activity')\n",
    "plt.xlabel('Month')\n",
    "plt.ylabel('Number of Flights')\n",
    "plt.xticks(range(1, 13), ['Jan', 'Feb', 'Mar', 'Apr', 'May', 'Jun', 'Jul', 'Aug', 'Sep', 'Oct', 'Nov', 'Dec'])\n",
    "\n",
    "# Add annotations for each data point\n",
    "for month, count in enumerate(monthly_flight_counts, start=1):\n",
    "    plt.text(month, count, f'{count/1e6:.2f} M', ha='right', va='bottom', fontsize=10)\n",
    "\n",
    "plt.show()\n"
   ]
  },
  {
   "cell_type": "markdown",
   "metadata": {},
   "source": [
    "#### 8. How does the on-time performance of the top 10 airlines compare in terms of both departure and arrival punctuality?"
   ]
  },
  {
   "cell_type": "code",
   "execution_count": 96,
   "metadata": {},
   "outputs": [
    {
     "data": {
      "image/png": "[encoded data removed]",
      "text/plain": [
       "<Figure size 1200x800 with 1 Axes>"
      ]
     },
     "metadata": {},
     "output_type": "display_data"
    }
   ],
   "source": [
    "# Calculate total number of flights for each airline\n",
    "total_flights = merged_df['airline'].value_counts()\n",
    "\n",
    "# Calculate number of on-time departures for each airline\n",
    "ontime_departures = merged_df[merged_df['depdelay'] <= 0].groupby('airline').size()\n",
    "\n",
    "# Calculate number of on-time arrivals for each airline\n",
    "ontime_arrivals = merged_df[merged_df['arrdelay'] <= 0].groupby('airline').size()\n",
    "\n",
    "# Calculate percentage of on-time departures for each airline\n",
    "on_time_departure_percentage = (ontime_departures / total_flights) * 100\n",
    "\n",
    "# Calculate percentage of on-time arrivals for each airline\n",
    "on_time_arrival_percentage = (ontime_arrivals / total_flights) * 100\n",
    "\n",
    "# Create a DataFrame to store the results\n",
    "on_time_performance = pd.DataFrame({\n",
    "    'Airline': total_flights.index,\n",
    "    'On-Time Departure Percentage': on_time_departure_percentage,\n",
    "    'On-Time Arrival Percentage': on_time_arrival_percentage\n",
    "})\n",
    "\n",
    "# Sort the DataFrame based on on-time departure percentage\n",
    "on_time_performance_sorted = on_time_performance.sort_values(by='On-Time Departure Percentage', ascending=False)\n",
    "\n",
    "# Consider only the top 10 airlines based on total flights\n",
    "top_10_airlines_total_flights = total_flights.head(10).index\n",
    "\n",
    "# Filter the on-time performance data for the top 10 airlines\n",
    "top_10_airlines_performance = on_time_performance[on_time_performance['Airline'].isin(top_10_airlines_total_flights)]\n",
    "\n",
    "# Sort the filtered DataFrame based on on-time departure percentage\n",
    "top_10_airlines_performance_sorted = top_10_airlines_performance.sort_values(by='On-Time Departure Percentage', ascending=False)\n",
    "\n",
    "# Set the width of the bars\n",
    "bar_width = 0.4\n",
    "\n",
    "# Set the x-coordinate for the first group of bars\n",
    "index = np.arange(len(top_10_airlines_performance_sorted))\n",
    "\n",
    "# Set the figure size\n",
    "plt.figure(figsize=(12, 8))\n",
    "\n",
    "# Create the first set of bars for on-time departure percentage\n",
    "plt.bar(index - bar_width/2, top_10_airlines_performance_sorted['On-Time Departure Percentage'], bar_width, color='skyblue', label='On-Time Departure Percentage')\n",
    "\n",
    "# Create the second set of bars for on-time arrival percentage\n",
    "plt.bar(index + bar_width/2, top_10_airlines_performance_sorted['On-Time Arrival Percentage'], bar_width, color='salmon', label='On-Time Arrival Percentage')\n",
    "\n",
    "# Annotate each bar with its corresponding percentage value\n",
    "for i in range(len(top_10_airlines_performance_sorted)):\n",
    "    plt.text(i - bar_width/2, top_10_airlines_performance_sorted['On-Time Departure Percentage'].iloc[i] + 1,\n",
    "             f\"{top_10_airlines_performance_sorted['On-Time Departure Percentage'].iloc[i]:.1f}%\", ha='center', va='bottom',fontsize=8)\n",
    "    plt.text(i + bar_width/2, top_10_airlines_performance_sorted['On-Time Arrival Percentage'].iloc[i] + 1,\n",
    "             f\"{top_10_airlines_performance_sorted['On-Time Arrival Percentage'].iloc[i]:.1f}%\", ha='center', va='bottom', fontsize=8)\n",
    "\n",
    "# Set labels and title\n",
    "plt.xlabel('Airline')\n",
    "plt.ylabel('On-Time Percentage')\n",
    "plt.title('Top 10 Airlines by Total Flights: On-Time Performance')\n",
    "plt.xticks(index, top_10_airlines_performance_sorted['Airline'], rotation=45, ha='right')\n",
    "\n",
    "# Show the legend\n",
    "plt.legend(title='Performance')\n",
    "plt.tight_layout()\n",
    "plt.show()\n"
   ]
  },
  {
   "cell_type": "markdown",
   "metadata": {},
   "source": [
    "#### 9. Which season experiences the highest average arrival and departure  delay?"
   ]
  },
  {
   "cell_type": "code",
   "execution_count": 97,
   "metadata": {},
   "outputs": [
    {
     "data": {
      "image/png": "[encoded data removed]",
      "text/plain": [
       "<Figure size 1000x600 with 1 Axes>"
      ]
     },
     "metadata": {},
     "output_type": "display_data"
    }
   ],
   "source": [
    "# Define the season map\n",
    "season_map = {1: 'Winter', 2: 'Winter', 3: 'Spring', 4: 'Spring', 5: 'Spring', \n",
    "              6: 'Summer', 7: 'Summer', 8: 'Summer', 9: 'Fall', 10: 'Fall', \n",
    "              11: 'Fall', 12: 'Winter'}\n",
    "\n",
    "# Add a new column 'Season' to the DataFrame\n",
    "merged_df['Season'] = merged_df['month'].map(season_map)\n",
    "\n",
    "# Group data by season and calculate the average departure and arrival delays for each season\n",
    "season_delay = merged_df.groupby('Season')[['depdelay', 'arrdelay']].mean().reset_index()\n",
    "\n",
    "# Melt the DataFrame to long format for easy plotting\n",
    "melted_df = season_delay.melt(id_vars='Season', var_name='Delay Type', value_name='Average Delay')\n",
    "\n",
    "# Set the figure size\n",
    "plt.figure(figsize=(10, 6))\n",
    "\n",
    "# Create a grouped bar plot\n",
    "ax = sns.barplot(x='Season', y='Average Delay', hue='Delay Type', data=melted_df, palette='viridis')\n",
    "\n",
    "# Annotate each bar with its corresponding average delay value\n",
    "for p in ax.patches:\n",
    "    ax.annotate(f\"{p.get_height():.2f} min\", (p.get_x() + p.get_width() / 2., p.get_height()),\n",
    "                ha='center', va='center', fontsize=10, color='black', xytext=(0, 5),\n",
    "                textcoords='offset points')\n",
    "\n",
    "# Set labels and title\n",
    "plt.xlabel('Season')\n",
    "plt.ylabel('Average Delay (minutes)')\n",
    "plt.title('Average Departure and Arrival Delay by Season')\n",
    "\n",
    "# Show the plot\n",
    "plt.tight_layout()\n",
    "plt.show()"
   ]
  },
  {
   "cell_type": "markdown",
   "metadata": {},
   "source": [
    "#### 10. How does the average delay in departure and arrival times vary across different time blocks?"
   ]
  },
  {
   "cell_type": "code",
   "execution_count": 98,
   "metadata": {},
   "outputs": [
    {
     "data": {
      "image/png": "[encoded data removed]",
      "text/plain": [
       "<Figure size 1000x600 with 1 Axes>"
      ]
     },
     "metadata": {},
     "output_type": "display_data"
    }
   ],
   "source": [
    "avg_dep_delay_by_time_block = merged_df.groupby('deptimeblk')['depdelayminutes'].mean().reset_index()\n",
    "\n",
    "# Calculate average arrival delays by arrival time block\n",
    "avg_arr_delay_by_time_block = merged_df.groupby('arrtimeblk')['arrdelayminutes'].mean().reset_index()\n",
    "\n",
    "# Merge the two DataFrames on time block\n",
    "merged_delay_df = pd.merge(avg_dep_delay_by_time_block, avg_arr_delay_by_time_block, \n",
    "                           left_on='deptimeblk', right_on='arrtimeblk', suffixes=('_dep', '_arr'))\n",
    "\n",
    "# Plot the relationship between departure and arrival time blocks and their average delays\n",
    "plt.figure(figsize=(10, 6))\n",
    "plt.plot(merged_delay_df['deptimeblk'], merged_delay_df['depdelayminutes'], label='Departure Delay', marker='o')\n",
    "plt.plot(merged_delay_df['arrtimeblk'], merged_delay_df['arrdelayminutes'], label='Arrival Delay', marker='o')\n",
    "plt.xlabel('Time Block')\n",
    "plt.ylabel('Average Delay (minutes)')\n",
    "plt.title('Average Departure and Arrival Delays by Time Block')\n",
    "plt.xticks(rotation=45)\n",
    "plt.legend()\n",
    "plt.tight_layout()\n",
    "plt.show()"
   ]
  },
  {
   "cell_type": "code",
   "execution_count": null,
   "metadata": {},
   "outputs": [],
   "source": []
  }
 ],
 "metadata": {
  "kernelspec": {
   "display_name": "base",
   "language": "python",
   "name": "python3"
  },
  "language_info": {
   "codemirror_mode": {
    "name": "ipython",
    "version": 3
   },
   "file_extension": ".py",
   "mimetype": "text/x-python",
   "name": "python",
   "nbconvert_exporter": "python",
   "pygments_lexer": "ipython3",
   "version": "3.11.5"
  }
 },
 "nbformat": 4,
 "nbformat_minor": 2
}
