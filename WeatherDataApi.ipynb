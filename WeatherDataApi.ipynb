{
  "cells": [
    {
      "cell_type": "markdown",
      "metadata": {},
      "source": [
        "## Getting the data from an API"
      ]
    },
    {
      "cell_type": "markdown",
      "metadata": {},
      "source": [
        "**Dataset:** NASA Gov API  \n",
        "\n",
        "**URL:** https://power.larc.nasa.gov/  \n",
        "\n",
        "**API Components:**   \n",
        "* Endpoint - https://power.larc.nasa.gov/api/temporal/daily/point?  \n",
        "* Parameters - start=\"+start_date+\"&end=\"+end_date+\"&latitude=\"+str(lat[i])+\"&longitude=\"+str(lon[i])+\"&community=\"+com+parameters+\"&header=true\"+\"&time-standard=\"+time  \n",
        "\n",
        "**Description:** The API offers climatic data for different cities over a period of time, providing comprehensive information about the temperature, humidity, wind speed, precipitation, and dew.\n",
        "\n"
      ]
    },
    {
      "cell_type": "code",
      "execution_count": 154,
      "metadata": {
        "id": "zHtRpnN6oyYN"
      },
      "outputs": [],
      "source": [
        "#import required libraries\n",
        "import pandas as pd\n",
        "import numpy as np\n",
        "import requests"
      ]
    },
    {
      "cell_type": "code",
      "execution_count": 155,
      "metadata": {
        "id": "qEDdn9V1e-jP"
      },
      "outputs": [],
      "source": [
        "#add parameters for api call\n",
        "start_date=\"20180101\"\n",
        "end_date=\"20201231\"\n",
        "com = \"re\"\n",
        "time=\"utc\"\n",
        "AIR_ID=[\"DEN\", \"ORD\", \"ATL\", \"DFW\", \"JFK\", \"LAX\", \"CLT\", \"DCA\", \"IAD\", \"SEA\", \"SFO\", \"LAS\", \"MSP\", \"BOS\", \"PDX\", \"OGG\", \"HNL\"]\n",
        "lat=[39.8494,41.9796,33.6407,32.8998,40.6413,33.9416,35.2140,38.8512,38.9531,47.4502,37.6213,36.0851,44.8810,42.3656,45.5887,20.8986,21.3187]\n",
        "lon=[-104.6722,-87.9048,-84.4277,-97.0403,-73.7781,-118.4085,-80.9431,-77.0402,-77.4565,-122.3088,-122.3790,-115.1523,-93.2218,-71.0096,-122.5975,-156.4305,-157.9224]\n",
        "parameters=\"&parameters=T2M_RANGE%2CT2MDEW%2CT2M_MIN%2CT2M_MAX%2CQV2M%2CRH2M%2CPRECTOTCORR%2CWS10M_RANGE%2CWD10M%2CWS50M_RANGE%2CWD50M\""
      ]
    },
    {
      "cell_type": "code",
      "execution_count": 156,
      "metadata": {
        "id": "I8u0yYygoj92"
      },
      "outputs": [],
      "source": [
        "#create a list\n",
        "records=[]"
      ]
    },
    {
      "cell_type": "code",
      "execution_count": 157,
      "metadata": {
        "id": "h5eUceGkD2gd"
      },
      "outputs": [],
      "source": [
        "#api call\n",
        "for i in range(len(lat)):\n",
        "  base_url=\"https://power.larc.nasa.gov/api/temporal/daily/point?\"+\"start=\"+start_date+\"&end=\"+end_date+\"&latitude=\"+str(lat[i])+\"&longitude=\"+str(lon[i])+\"&community=\"+com+parameters+\"&header=true\"+\"&time-standard=\"+time\n",
        "  response = requests.get(base_url)\n",
        "  data=response.json()\n",
        "  records.append(data['properties']['parameter'])"
      ]
    },
    {
      "cell_type": "code",
      "execution_count": 158,
      "metadata": {
        "colab": {
          "base_uri": "https://localhost:8080/"
        },
        "id": "BD5UmYF-4BMB",
        "outputId": "e81c3a22-f93c-475e-9f83-aa4323892c2b"
      },
      "outputs": [
        {
          "data": {
            "text/plain": [
              "200"
            ]
          },
          "execution_count": 158,
          "metadata": {},
          "output_type": "execute_result"
        }
      ],
      "source": [
        "#check the response\n",
        "response.status_code"
      ]
    },
    {
      "cell_type": "code",
      "execution_count": 160,
      "metadata": {
        "id": "bOO7Sj4624TB"
      },
      "outputs": [],
      "source": [
        "#create dataframe for each city\n",
        "DEN=pd.DataFrame(records[0])\n",
        "ORD=pd.DataFrame(records[1])\n",
        "ATL=pd.DataFrame(records[2])\n",
        "DFW=pd.DataFrame(records[3])\n",
        "JFK=pd.DataFrame(records[4])\n",
        "LAX=pd.DataFrame(records[5])\n",
        "CLT=pd.DataFrame(records[6])\n",
        "DCA=pd.DataFrame(records[7])\n",
        "IAD=pd.DataFrame(records[8])\n",
        "SEA=pd.DataFrame(records[9])\n",
        "SFO=pd.DataFrame(records[10])\n",
        "LAS=pd.DataFrame(records[11])\n",
        "MSP=pd.DataFrame(records[12])\n",
        "BOS=pd.DataFrame(records[13])\n",
        "PDX=pd.DataFrame(records[14])\n",
        "OGG=pd.DataFrame(records[15])\n",
        "HNL=pd.DataFrame(records[16])"
      ]
    },
    {
      "cell_type": "code",
      "execution_count": 161,
      "metadata": {
        "colab": {
          "base_uri": "https://localhost:8080/",
          "height": 423
        },
        "id": "Ta9h-eO03TVr",
        "outputId": "7752cc72-15c1-4455-c077-5117995549ec"
      },
      "outputs": [
        {
          "data": {
            "text/html": [
              "<div>\n",
              "<style scoped>\n",
              "    .dataframe tbody tr th:only-of-type {\n",
              "        vertical-align: middle;\n",
              "    }\n",
              "\n",
              "    .dataframe tbody tr th {\n",
              "        vertical-align: top;\n",
              "    }\n",
              "\n",
              "    .dataframe thead th {\n",
              "        text-align: right;\n",
              "    }\n",
              "</style>\n",
              "<table border=\"1\" class=\"dataframe\">\n",
              "  <thead>\n",
              "    <tr style=\"text-align: right;\">\n",
              "      <th></th>\n",
              "      <th>T2M_RANGE</th>\n",
              "      <th>T2MDEW</th>\n",
              "      <th>T2M_MIN</th>\n",
              "      <th>T2M_MAX</th>\n",
              "      <th>QV2M</th>\n",
              "      <th>RH2M</th>\n",
              "      <th>PRECTOTCORR</th>\n",
              "      <th>WS10M_RANGE</th>\n",
              "      <th>WD10M</th>\n",
              "      <th>WS50M_RANGE</th>\n",
              "      <th>WD50M</th>\n",
              "    </tr>\n",
              "  </thead>\n",
              "  <tbody>\n",
              "    <tr>\n",
              "      <th>20180101</th>\n",
              "      <td>9.28</td>\n",
              "      <td>-11.18</td>\n",
              "      <td>-11.24</td>\n",
              "      <td>-1.95</td>\n",
              "      <td>1.77</td>\n",
              "      <td>81.00</td>\n",
              "      <td>0.00</td>\n",
              "      <td>3.27</td>\n",
              "      <td>100.38</td>\n",
              "      <td>3.48</td>\n",
              "      <td>100.81</td>\n",
              "    </tr>\n",
              "    <tr>\n",
              "      <th>20180102</th>\n",
              "      <td>16.18</td>\n",
              "      <td>-13.67</td>\n",
              "      <td>-12.00</td>\n",
              "      <td>4.18</td>\n",
              "      <td>1.40</td>\n",
              "      <td>66.06</td>\n",
              "      <td>0.01</td>\n",
              "      <td>5.35</td>\n",
              "      <td>146.31</td>\n",
              "      <td>6.78</td>\n",
              "      <td>130.69</td>\n",
              "    </tr>\n",
              "    <tr>\n",
              "      <th>20180103</th>\n",
              "      <td>15.35</td>\n",
              "      <td>-15.13</td>\n",
              "      <td>-5.77</td>\n",
              "      <td>9.58</td>\n",
              "      <td>1.28</td>\n",
              "      <td>31.69</td>\n",
              "      <td>0.00</td>\n",
              "      <td>3.43</td>\n",
              "      <td>212.12</td>\n",
              "      <td>5.35</td>\n",
              "      <td>212.75</td>\n",
              "    </tr>\n",
              "    <tr>\n",
              "      <th>20180104</th>\n",
              "      <td>10.71</td>\n",
              "      <td>-10.07</td>\n",
              "      <td>-2.56</td>\n",
              "      <td>8.15</td>\n",
              "      <td>2.01</td>\n",
              "      <td>43.75</td>\n",
              "      <td>0.01</td>\n",
              "      <td>3.79</td>\n",
              "      <td>258.75</td>\n",
              "      <td>5.77</td>\n",
              "      <td>258.25</td>\n",
              "    </tr>\n",
              "    <tr>\n",
              "      <th>20180105</th>\n",
              "      <td>12.71</td>\n",
              "      <td>-8.99</td>\n",
              "      <td>-1.90</td>\n",
              "      <td>10.81</td>\n",
              "      <td>2.20</td>\n",
              "      <td>43.38</td>\n",
              "      <td>0.00</td>\n",
              "      <td>3.02</td>\n",
              "      <td>210.88</td>\n",
              "      <td>6.42</td>\n",
              "      <td>211.44</td>\n",
              "    </tr>\n",
              "  </tbody>\n",
              "</table>\n",
              "</div>"
            ],
            "text/plain": [
              "          T2M_RANGE  T2MDEW  T2M_MIN  T2M_MAX  QV2M   RH2M  PRECTOTCORR  \\\n",
              "20180101       9.28  -11.18   -11.24    -1.95  1.77  81.00         0.00   \n",
              "20180102      16.18  -13.67   -12.00     4.18  1.40  66.06         0.01   \n",
              "20180103      15.35  -15.13    -5.77     9.58  1.28  31.69         0.00   \n",
              "20180104      10.71  -10.07    -2.56     8.15  2.01  43.75         0.01   \n",
              "20180105      12.71   -8.99    -1.90    10.81  2.20  43.38         0.00   \n",
              "\n",
              "          WS10M_RANGE   WD10M  WS50M_RANGE   WD50M  \n",
              "20180101         3.27  100.38         3.48  100.81  \n",
              "20180102         5.35  146.31         6.78  130.69  \n",
              "20180103         3.43  212.12         5.35  212.75  \n",
              "20180104         3.79  258.75         5.77  258.25  \n",
              "20180105         3.02  210.88         6.42  211.44  "
            ]
          },
          "execution_count": 161,
          "metadata": {},
          "output_type": "execute_result"
        }
      ],
      "source": [
        "#display for denver city\n",
        "DEN.head()"
      ]
    },
    {
      "cell_type": "markdown",
      "metadata": {},
      "source": [
        "## Data Preprocessing"
      ]
    },
    {
      "cell_type": "markdown",
      "metadata": {},
      "source": [
        "### 1. Rename columns and convert the date column in required format"
      ]
    },
    {
      "cell_type": "code",
      "execution_count": 162,
      "metadata": {
        "id": "znXyPeTRXkFg"
      },
      "outputs": [],
      "source": [
        "#create a function and perform preprocessing\n",
        "def process_dataframe(df, air_id):\n",
        "\n",
        "    df = df.assign(AIR_ID=air_id)\n",
        "\n",
        "    # Convert index to Date column\n",
        "    df[\"Date\"] = df.index\n",
        "    df[\"Date\"] = pd.to_datetime(df[\"Date\"], format='%Y%m%d').dt.strftime('%-m/%-d/%Y')\n",
        "\n",
        "    # Rename columns\n",
        "    df.rename(columns={\n",
        "        'T2M_RANGE': 'Temp',\n",
        "        'T2MDEW': 'Dew',\n",
        "        'T2M_MIN': 'Min_temp',\n",
        "        'T2M_MAX': 'Max_temp',\n",
        "        'QV2M': 'Sp_humid',\n",
        "        'RH2M': 'Rel_humid',\n",
        "        'PRECTOTCORR': 'Precip',\n",
        "        'WS10M_RANGE': 'WSpeed_10m',\n",
        "        'WD10M': 'WDirection_10m',\n",
        "        'WS50M_RANGE': 'WSpeed_50m',\n",
        "        'WD50M': 'WDirection_50m'\n",
        "    }, inplace=True)\n",
        "\n",
        "    # Reorder columns\n",
        "    df = df[['AIR_ID', 'Date', 'Temp', 'Dew', 'Min_temp', 'Max_temp', 'Sp_humid', 'Rel_humid', 'Precip', 'WSpeed_10m', 'WDirection_10m', 'WSpeed_50m', 'WDirection_50m']]\n",
        "\n",
        "    return df"
      ]
    },
    {
      "cell_type": "code",
      "execution_count": 163,
      "metadata": {
        "id": "E6atikGvbaYs"
      },
      "outputs": [],
      "source": [
        "#create a function to pass the air ids\n",
        "def process_multiple_dataframes(dataframes, air_ids):\n",
        "    processed_dataframes = {}\n",
        "    for air_id, df in zip(air_ids, dataframes):\n",
        "        processed_dataframes[air_id] = process_dataframe(df, air_id)\n",
        "    return processed_dataframes"
      ]
    },
    {
      "cell_type": "code",
      "execution_count": 164,
      "metadata": {
        "id": "i07O4f28c_d0"
      },
      "outputs": [],
      "source": [
        "#function call\n",
        "dataframes = [DEN, ORD, ATL, DFW, JFK, LAX, CLT, DCA, IAD, SEA, SFO, LAS, MSP, BOS, PDX, OGG, HNL]\n",
        "processed_dataframes = process_multiple_dataframes(dataframes, AIR_ID)"
      ]
    },
    {
      "cell_type": "code",
      "execution_count": 165,
      "metadata": {
        "id": "YIa0C905ZG5B"
      },
      "outputs": [],
      "source": [
        "DEN_N = processed_dataframes[\"DEN\"]\n",
        "ORD_N = processed_dataframes[\"ORD\"]\n",
        "ATL_N = processed_dataframes[\"ATL\"]\n",
        "DFW_N = processed_dataframes[\"DFW\"]\n",
        "JFK_N = processed_dataframes[\"JFK\"]\n",
        "LAX_N = processed_dataframes[\"LAX\"]\n",
        "CLT_N = processed_dataframes[\"CLT\"]\n",
        "DCA_N = processed_dataframes[\"DCA\"]\n",
        "IAD_N = processed_dataframes[\"IAD\"]\n",
        "SEA_N = processed_dataframes[\"SEA\"]\n",
        "SFO_N = processed_dataframes[\"SFO\"]\n",
        "LAS_N = processed_dataframes[\"LAS\"]\n",
        "MSP_N = processed_dataframes[\"MSP\"]\n",
        "BOS_N = processed_dataframes[\"BOS\"]\n",
        "PDX_N = processed_dataframes[\"PDX\"]\n",
        "OGG_N = processed_dataframes[\"OGG\"]\n",
        "HNL_N = processed_dataframes[\"HNL\"]\n"
      ]
    },
    {
      "cell_type": "code",
      "execution_count": 166,
      "metadata": {
        "colab": {
          "base_uri": "https://localhost:8080/",
          "height": 206
        },
        "id": "nxIEMPRVYqmG",
        "outputId": "8d11a65a-b881-4cab-bbc5-0f31eed3b623"
      },
      "outputs": [
        {
          "data": {
            "text/html": [
              "<div>\n",
              "<style scoped>\n",
              "    .dataframe tbody tr th:only-of-type {\n",
              "        vertical-align: middle;\n",
              "    }\n",
              "\n",
              "    .dataframe tbody tr th {\n",
              "        vertical-align: top;\n",
              "    }\n",
              "\n",
              "    .dataframe thead th {\n",
              "        text-align: right;\n",
              "    }\n",
              "</style>\n",
              "<table border=\"1\" class=\"dataframe\">\n",
              "  <thead>\n",
              "    <tr style=\"text-align: right;\">\n",
              "      <th></th>\n",
              "      <th>AIR_ID</th>\n",
              "      <th>Date</th>\n",
              "      <th>Temp</th>\n",
              "      <th>Dew</th>\n",
              "      <th>Min_temp</th>\n",
              "      <th>Max_temp</th>\n",
              "      <th>Sp_humid</th>\n",
              "      <th>Rel_humid</th>\n",
              "      <th>Precip</th>\n",
              "      <th>WSpeed_10m</th>\n",
              "      <th>WDirection_10m</th>\n",
              "      <th>WSpeed_50m</th>\n",
              "      <th>WDirection_50m</th>\n",
              "    </tr>\n",
              "  </thead>\n",
              "  <tbody>\n",
              "    <tr>\n",
              "      <th>20180101</th>\n",
              "      <td>DEN</td>\n",
              "      <td>1/1/2018</td>\n",
              "      <td>9.28</td>\n",
              "      <td>-11.18</td>\n",
              "      <td>-11.24</td>\n",
              "      <td>-1.95</td>\n",
              "      <td>1.77</td>\n",
              "      <td>81.00</td>\n",
              "      <td>0.00</td>\n",
              "      <td>3.27</td>\n",
              "      <td>100.38</td>\n",
              "      <td>3.48</td>\n",
              "      <td>100.81</td>\n",
              "    </tr>\n",
              "    <tr>\n",
              "      <th>20180102</th>\n",
              "      <td>DEN</td>\n",
              "      <td>1/2/2018</td>\n",
              "      <td>16.18</td>\n",
              "      <td>-13.67</td>\n",
              "      <td>-12.00</td>\n",
              "      <td>4.18</td>\n",
              "      <td>1.40</td>\n",
              "      <td>66.06</td>\n",
              "      <td>0.01</td>\n",
              "      <td>5.35</td>\n",
              "      <td>146.31</td>\n",
              "      <td>6.78</td>\n",
              "      <td>130.69</td>\n",
              "    </tr>\n",
              "    <tr>\n",
              "      <th>20180103</th>\n",
              "      <td>DEN</td>\n",
              "      <td>1/3/2018</td>\n",
              "      <td>15.35</td>\n",
              "      <td>-15.13</td>\n",
              "      <td>-5.77</td>\n",
              "      <td>9.58</td>\n",
              "      <td>1.28</td>\n",
              "      <td>31.69</td>\n",
              "      <td>0.00</td>\n",
              "      <td>3.43</td>\n",
              "      <td>212.12</td>\n",
              "      <td>5.35</td>\n",
              "      <td>212.75</td>\n",
              "    </tr>\n",
              "    <tr>\n",
              "      <th>20180104</th>\n",
              "      <td>DEN</td>\n",
              "      <td>1/4/2018</td>\n",
              "      <td>10.71</td>\n",
              "      <td>-10.07</td>\n",
              "      <td>-2.56</td>\n",
              "      <td>8.15</td>\n",
              "      <td>2.01</td>\n",
              "      <td>43.75</td>\n",
              "      <td>0.01</td>\n",
              "      <td>3.79</td>\n",
              "      <td>258.75</td>\n",
              "      <td>5.77</td>\n",
              "      <td>258.25</td>\n",
              "    </tr>\n",
              "    <tr>\n",
              "      <th>20180105</th>\n",
              "      <td>DEN</td>\n",
              "      <td>1/5/2018</td>\n",
              "      <td>12.71</td>\n",
              "      <td>-8.99</td>\n",
              "      <td>-1.90</td>\n",
              "      <td>10.81</td>\n",
              "      <td>2.20</td>\n",
              "      <td>43.38</td>\n",
              "      <td>0.00</td>\n",
              "      <td>3.02</td>\n",
              "      <td>210.88</td>\n",
              "      <td>6.42</td>\n",
              "      <td>211.44</td>\n",
              "    </tr>\n",
              "  </tbody>\n",
              "</table>\n",
              "</div>"
            ],
            "text/plain": [
              "         AIR_ID      Date   Temp    Dew  Min_temp  Max_temp  Sp_humid  \\\n",
              "20180101    DEN  1/1/2018   9.28 -11.18    -11.24     -1.95      1.77   \n",
              "20180102    DEN  1/2/2018  16.18 -13.67    -12.00      4.18      1.40   \n",
              "20180103    DEN  1/3/2018  15.35 -15.13     -5.77      9.58      1.28   \n",
              "20180104    DEN  1/4/2018  10.71 -10.07     -2.56      8.15      2.01   \n",
              "20180105    DEN  1/5/2018  12.71  -8.99     -1.90     10.81      2.20   \n",
              "\n",
              "          Rel_humid  Precip  WSpeed_10m  WDirection_10m  WSpeed_50m  \\\n",
              "20180101      81.00    0.00        3.27          100.38        3.48   \n",
              "20180102      66.06    0.01        5.35          146.31        6.78   \n",
              "20180103      31.69    0.00        3.43          212.12        5.35   \n",
              "20180104      43.75    0.01        3.79          258.75        5.77   \n",
              "20180105      43.38    0.00        3.02          210.88        6.42   \n",
              "\n",
              "          WDirection_50m  \n",
              "20180101          100.81  \n",
              "20180102          130.69  \n",
              "20180103          212.75  \n",
              "20180104          258.25  \n",
              "20180105          211.44  "
            ]
          },
          "execution_count": 166,
          "metadata": {},
          "output_type": "execute_result"
        }
      ],
      "source": [
        "#processed Denver Weather Data\n",
        "DEN_N = processed_dataframes[\"DEN\"]\n",
        "DEN_N.head()"
      ]
    },
    {
      "cell_type": "code",
      "execution_count": 131,
      "metadata": {
        "id": "zQ0wvxaZUug_"
      },
      "outputs": [],
      "source": [
        "#concatenate different cities into a single dataframe\n",
        "top_16_airports = pd.concat([DEN_N, ORD_N, ATL_N, DFW_N, JFK_N, LAX_N, CLT_N, DCA_N, IAD_N, SEA_N, SFO_N, LAS_N, MSP_N, BOS_N, PDX_N, OGG_N, HNL_N], ignore_index=True)"
      ]
    },
    {
      "cell_type": "code",
      "execution_count": 132,
      "metadata": {
        "colab": {
          "base_uri": "https://localhost:8080/",
          "height": 423
        },
        "id": "ZCHckRTdd0OQ",
        "outputId": "2e1f4f40-dd94-44f3-b8ab-f9c5f6bf98f2"
      },
      "outputs": [
        {
          "data": {
            "text/html": [
              "<div>\n",
              "<style scoped>\n",
              "    .dataframe tbody tr th:only-of-type {\n",
              "        vertical-align: middle;\n",
              "    }\n",
              "\n",
              "    .dataframe tbody tr th {\n",
              "        vertical-align: top;\n",
              "    }\n",
              "\n",
              "    .dataframe thead th {\n",
              "        text-align: right;\n",
              "    }\n",
              "</style>\n",
              "<table border=\"1\" class=\"dataframe\">\n",
              "  <thead>\n",
              "    <tr style=\"text-align: right;\">\n",
              "      <th></th>\n",
              "      <th>AIR_ID</th>\n",
              "      <th>Date</th>\n",
              "      <th>Temp</th>\n",
              "      <th>Dew</th>\n",
              "      <th>Min_temp</th>\n",
              "      <th>Max_temp</th>\n",
              "      <th>Sp_humid</th>\n",
              "      <th>Rel_humid</th>\n",
              "      <th>Precip</th>\n",
              "      <th>WSpeed_10m</th>\n",
              "      <th>WDirection_10m</th>\n",
              "      <th>WSpeed_50m</th>\n",
              "      <th>WDirection_50m</th>\n",
              "    </tr>\n",
              "  </thead>\n",
              "  <tbody>\n",
              "    <tr>\n",
              "      <th>0</th>\n",
              "      <td>DEN</td>\n",
              "      <td>1/1/2018</td>\n",
              "      <td>9.28</td>\n",
              "      <td>-11.18</td>\n",
              "      <td>-11.24</td>\n",
              "      <td>-1.95</td>\n",
              "      <td>1.77</td>\n",
              "      <td>81.00</td>\n",
              "      <td>0.00</td>\n",
              "      <td>3.27</td>\n",
              "      <td>100.38</td>\n",
              "      <td>3.48</td>\n",
              "      <td>100.81</td>\n",
              "    </tr>\n",
              "    <tr>\n",
              "      <th>1</th>\n",
              "      <td>DEN</td>\n",
              "      <td>1/2/2018</td>\n",
              "      <td>16.18</td>\n",
              "      <td>-13.67</td>\n",
              "      <td>-12.00</td>\n",
              "      <td>4.18</td>\n",
              "      <td>1.40</td>\n",
              "      <td>66.06</td>\n",
              "      <td>0.01</td>\n",
              "      <td>5.35</td>\n",
              "      <td>146.31</td>\n",
              "      <td>6.78</td>\n",
              "      <td>130.69</td>\n",
              "    </tr>\n",
              "    <tr>\n",
              "      <th>2</th>\n",
              "      <td>DEN</td>\n",
              "      <td>1/3/2018</td>\n",
              "      <td>15.35</td>\n",
              "      <td>-15.13</td>\n",
              "      <td>-5.77</td>\n",
              "      <td>9.58</td>\n",
              "      <td>1.28</td>\n",
              "      <td>31.69</td>\n",
              "      <td>0.00</td>\n",
              "      <td>3.43</td>\n",
              "      <td>212.12</td>\n",
              "      <td>5.35</td>\n",
              "      <td>212.75</td>\n",
              "    </tr>\n",
              "    <tr>\n",
              "      <th>3</th>\n",
              "      <td>DEN</td>\n",
              "      <td>1/4/2018</td>\n",
              "      <td>10.71</td>\n",
              "      <td>-10.07</td>\n",
              "      <td>-2.56</td>\n",
              "      <td>8.15</td>\n",
              "      <td>2.01</td>\n",
              "      <td>43.75</td>\n",
              "      <td>0.01</td>\n",
              "      <td>3.79</td>\n",
              "      <td>258.75</td>\n",
              "      <td>5.77</td>\n",
              "      <td>258.25</td>\n",
              "    </tr>\n",
              "    <tr>\n",
              "      <th>4</th>\n",
              "      <td>DEN</td>\n",
              "      <td>1/5/2018</td>\n",
              "      <td>12.71</td>\n",
              "      <td>-8.99</td>\n",
              "      <td>-1.90</td>\n",
              "      <td>10.81</td>\n",
              "      <td>2.20</td>\n",
              "      <td>43.38</td>\n",
              "      <td>0.00</td>\n",
              "      <td>3.02</td>\n",
              "      <td>210.88</td>\n",
              "      <td>6.42</td>\n",
              "      <td>211.44</td>\n",
              "    </tr>\n",
              "  </tbody>\n",
              "</table>\n",
              "</div>"
            ],
            "text/plain": [
              "  AIR_ID      Date   Temp    Dew  Min_temp  Max_temp  Sp_humid  Rel_humid  \\\n",
              "0    DEN  1/1/2018   9.28 -11.18    -11.24     -1.95      1.77      81.00   \n",
              "1    DEN  1/2/2018  16.18 -13.67    -12.00      4.18      1.40      66.06   \n",
              "2    DEN  1/3/2018  15.35 -15.13     -5.77      9.58      1.28      31.69   \n",
              "3    DEN  1/4/2018  10.71 -10.07     -2.56      8.15      2.01      43.75   \n",
              "4    DEN  1/5/2018  12.71  -8.99     -1.90     10.81      2.20      43.38   \n",
              "\n",
              "   Precip  WSpeed_10m  WDirection_10m  WSpeed_50m  WDirection_50m  \n",
              "0    0.00        3.27          100.38        3.48          100.81  \n",
              "1    0.01        5.35          146.31        6.78          130.69  \n",
              "2    0.00        3.43          212.12        5.35          212.75  \n",
              "3    0.01        3.79          258.75        5.77          258.25  \n",
              "4    0.00        3.02          210.88        6.42          211.44  "
            ]
          },
          "execution_count": 132,
          "metadata": {},
          "output_type": "execute_result"
        }
      ],
      "source": [
        "#display the dataframe\n",
        "top_16_airports.head()"
      ]
    },
    {
      "cell_type": "markdown",
      "metadata": {},
      "source": [
        "### 2. Rename column names to lower case for better readability"
      ]
    },
    {
      "cell_type": "code",
      "execution_count": 133,
      "metadata": {},
      "outputs": [
        {
          "data": {
            "text/plain": [
              "Index(['air_id', 'date', 'temp', 'dew', 'min_temp', 'max_temp', 'sp_humid',\n",
              "       'rel_humid', 'precip', 'wspeed_10m', 'wdirection_10m', 'wspeed_50m',\n",
              "       'wdirection_50m'],\n",
              "      dtype='object')"
            ]
          },
          "execution_count": 133,
          "metadata": {},
          "output_type": "execute_result"
        }
      ],
      "source": [
        "#rename columns\n",
        "top_16_airports.columns = top_16_airports.columns.str.lower()\n",
        "top_16_airports.columns"
      ]
    },
    {
      "cell_type": "code",
      "execution_count": 134,
      "metadata": {},
      "outputs": [],
      "source": [
        "#rename column name\n",
        "top_16_airports.rename(columns={'air_id': 'origin'}, inplace=True)"
      ]
    },
    {
      "cell_type": "code",
      "execution_count": 135,
      "metadata": {},
      "outputs": [
        {
          "data": {
            "text/html": [
              "<div>\n",
              "<style scoped>\n",
              "    .dataframe tbody tr th:only-of-type {\n",
              "        vertical-align: middle;\n",
              "    }\n",
              "\n",
              "    .dataframe tbody tr th {\n",
              "        vertical-align: top;\n",
              "    }\n",
              "\n",
              "    .dataframe thead th {\n",
              "        text-align: right;\n",
              "    }\n",
              "</style>\n",
              "<table border=\"1\" class=\"dataframe\">\n",
              "  <thead>\n",
              "    <tr style=\"text-align: right;\">\n",
              "      <th></th>\n",
              "      <th>origin</th>\n",
              "      <th>date</th>\n",
              "      <th>temp</th>\n",
              "      <th>dew</th>\n",
              "      <th>min_temp</th>\n",
              "      <th>max_temp</th>\n",
              "      <th>sp_humid</th>\n",
              "      <th>rel_humid</th>\n",
              "      <th>precip</th>\n",
              "      <th>wspeed_10m</th>\n",
              "      <th>wdirection_10m</th>\n",
              "      <th>wspeed_50m</th>\n",
              "      <th>wdirection_50m</th>\n",
              "    </tr>\n",
              "  </thead>\n",
              "  <tbody>\n",
              "    <tr>\n",
              "      <th>0</th>\n",
              "      <td>DEN</td>\n",
              "      <td>1/1/2018</td>\n",
              "      <td>9.28</td>\n",
              "      <td>-11.18</td>\n",
              "      <td>-11.24</td>\n",
              "      <td>-1.95</td>\n",
              "      <td>1.77</td>\n",
              "      <td>81.00</td>\n",
              "      <td>0.00</td>\n",
              "      <td>3.27</td>\n",
              "      <td>100.38</td>\n",
              "      <td>3.48</td>\n",
              "      <td>100.81</td>\n",
              "    </tr>\n",
              "    <tr>\n",
              "      <th>1</th>\n",
              "      <td>DEN</td>\n",
              "      <td>1/2/2018</td>\n",
              "      <td>16.18</td>\n",
              "      <td>-13.67</td>\n",
              "      <td>-12.00</td>\n",
              "      <td>4.18</td>\n",
              "      <td>1.40</td>\n",
              "      <td>66.06</td>\n",
              "      <td>0.01</td>\n",
              "      <td>5.35</td>\n",
              "      <td>146.31</td>\n",
              "      <td>6.78</td>\n",
              "      <td>130.69</td>\n",
              "    </tr>\n",
              "    <tr>\n",
              "      <th>2</th>\n",
              "      <td>DEN</td>\n",
              "      <td>1/3/2018</td>\n",
              "      <td>15.35</td>\n",
              "      <td>-15.13</td>\n",
              "      <td>-5.77</td>\n",
              "      <td>9.58</td>\n",
              "      <td>1.28</td>\n",
              "      <td>31.69</td>\n",
              "      <td>0.00</td>\n",
              "      <td>3.43</td>\n",
              "      <td>212.12</td>\n",
              "      <td>5.35</td>\n",
              "      <td>212.75</td>\n",
              "    </tr>\n",
              "    <tr>\n",
              "      <th>3</th>\n",
              "      <td>DEN</td>\n",
              "      <td>1/4/2018</td>\n",
              "      <td>10.71</td>\n",
              "      <td>-10.07</td>\n",
              "      <td>-2.56</td>\n",
              "      <td>8.15</td>\n",
              "      <td>2.01</td>\n",
              "      <td>43.75</td>\n",
              "      <td>0.01</td>\n",
              "      <td>3.79</td>\n",
              "      <td>258.75</td>\n",
              "      <td>5.77</td>\n",
              "      <td>258.25</td>\n",
              "    </tr>\n",
              "    <tr>\n",
              "      <th>4</th>\n",
              "      <td>DEN</td>\n",
              "      <td>1/5/2018</td>\n",
              "      <td>12.71</td>\n",
              "      <td>-8.99</td>\n",
              "      <td>-1.90</td>\n",
              "      <td>10.81</td>\n",
              "      <td>2.20</td>\n",
              "      <td>43.38</td>\n",
              "      <td>0.00</td>\n",
              "      <td>3.02</td>\n",
              "      <td>210.88</td>\n",
              "      <td>6.42</td>\n",
              "      <td>211.44</td>\n",
              "    </tr>\n",
              "  </tbody>\n",
              "</table>\n",
              "</div>"
            ],
            "text/plain": [
              "  origin      date   temp    dew  min_temp  max_temp  sp_humid  rel_humid  \\\n",
              "0    DEN  1/1/2018   9.28 -11.18    -11.24     -1.95      1.77      81.00   \n",
              "1    DEN  1/2/2018  16.18 -13.67    -12.00      4.18      1.40      66.06   \n",
              "2    DEN  1/3/2018  15.35 -15.13     -5.77      9.58      1.28      31.69   \n",
              "3    DEN  1/4/2018  10.71 -10.07     -2.56      8.15      2.01      43.75   \n",
              "4    DEN  1/5/2018  12.71  -8.99     -1.90     10.81      2.20      43.38   \n",
              "\n",
              "   precip  wspeed_10m  wdirection_10m  wspeed_50m  wdirection_50m  \n",
              "0    0.00        3.27          100.38        3.48          100.81  \n",
              "1    0.01        5.35          146.31        6.78          130.69  \n",
              "2    0.00        3.43          212.12        5.35          212.75  \n",
              "3    0.01        3.79          258.75        5.77          258.25  \n",
              "4    0.00        3.02          210.88        6.42          211.44  "
            ]
          },
          "execution_count": 135,
          "metadata": {},
          "output_type": "execute_result"
        }
      ],
      "source": [
        "#display the dataframe\n",
        "top_16_airports.head()"
      ]
    },
    {
      "cell_type": "markdown",
      "metadata": {},
      "source": [
        "### 3. Check for missing values"
      ]
    },
    {
      "cell_type": "code",
      "execution_count": 136,
      "metadata": {},
      "outputs": [
        {
          "data": {
            "text/plain": [
              "origin            0\n",
              "date              0\n",
              "temp              0\n",
              "dew               0\n",
              "min_temp          0\n",
              "max_temp          0\n",
              "sp_humid          0\n",
              "rel_humid         0\n",
              "precip            0\n",
              "wspeed_10m        0\n",
              "wdirection_10m    0\n",
              "wspeed_50m        0\n",
              "wdirection_50m    0\n",
              "dtype: int64"
            ]
          },
          "execution_count": 136,
          "metadata": {},
          "output_type": "execute_result"
        }
      ],
      "source": [
        "#check missing values\n",
        "top_16_airports.isnull().sum()"
      ]
    },
    {
      "cell_type": "markdown",
      "metadata": {},
      "source": [
        "### 4. Check its datatype"
      ]
    },
    {
      "cell_type": "code",
      "execution_count": 137,
      "metadata": {},
      "outputs": [
        {
          "name": "stdout",
          "output_type": "stream",
          "text": [
            "<class 'pandas.core.frame.DataFrame'>\n",
            "RangeIndex: 18632 entries, 0 to 18631\n",
            "Data columns (total 13 columns):\n",
            " #   Column          Non-Null Count  Dtype  \n",
            "---  ------          --------------  -----  \n",
            " 0   origin          18632 non-null  object \n",
            " 1   date            18632 non-null  object \n",
            " 2   temp            18632 non-null  float64\n",
            " 3   dew             18632 non-null  float64\n",
            " 4   min_temp        18632 non-null  float64\n",
            " 5   max_temp        18632 non-null  float64\n",
            " 6   sp_humid        18632 non-null  float64\n",
            " 7   rel_humid       18632 non-null  float64\n",
            " 8   precip          18632 non-null  float64\n",
            " 9   wspeed_10m      18632 non-null  float64\n",
            " 10  wdirection_10m  18632 non-null  float64\n",
            " 11  wspeed_50m      18632 non-null  float64\n",
            " 12  wdirection_50m  18632 non-null  float64\n",
            "dtypes: float64(11), object(2)\n",
            "memory usage: 1.8+ MB\n"
          ]
        }
      ],
      "source": [
        "#check its type\n",
        "top_16_airports.info()"
      ]
    },
    {
      "cell_type": "code",
      "execution_count": 138,
      "metadata": {},
      "outputs": [],
      "source": [
        "#convert the datatype for date\n",
        "top_16_airports['date'] = pd.to_datetime(top_16_airports['date'])"
      ]
    },
    {
      "cell_type": "code",
      "execution_count": 139,
      "metadata": {},
      "outputs": [
        {
          "name": "stdout",
          "output_type": "stream",
          "text": [
            "<class 'pandas.core.frame.DataFrame'>\n",
            "RangeIndex: 18632 entries, 0 to 18631\n",
            "Data columns (total 13 columns):\n",
            " #   Column          Non-Null Count  Dtype         \n",
            "---  ------          --------------  -----         \n",
            " 0   origin          18632 non-null  object        \n",
            " 1   date            18632 non-null  datetime64[ns]\n",
            " 2   temp            18632 non-null  float64       \n",
            " 3   dew             18632 non-null  float64       \n",
            " 4   min_temp        18632 non-null  float64       \n",
            " 5   max_temp        18632 non-null  float64       \n",
            " 6   sp_humid        18632 non-null  float64       \n",
            " 7   rel_humid       18632 non-null  float64       \n",
            " 8   precip          18632 non-null  float64       \n",
            " 9   wspeed_10m      18632 non-null  float64       \n",
            " 10  wdirection_10m  18632 non-null  float64       \n",
            " 11  wspeed_50m      18632 non-null  float64       \n",
            " 12  wdirection_50m  18632 non-null  float64       \n",
            "dtypes: datetime64[ns](1), float64(11), object(1)\n",
            "memory usage: 1.8+ MB\n"
          ]
        }
      ],
      "source": [
        "#check its type\n",
        "top_16_airports.info()"
      ]
    },
    {
      "cell_type": "code",
      "execution_count": 140,
      "metadata": {},
      "outputs": [
        {
          "data": {
            "text/html": [
              "<div>\n",
              "<style scoped>\n",
              "    .dataframe tbody tr th:only-of-type {\n",
              "        vertical-align: middle;\n",
              "    }\n",
              "\n",
              "    .dataframe tbody tr th {\n",
              "        vertical-align: top;\n",
              "    }\n",
              "\n",
              "    .dataframe thead th {\n",
              "        text-align: right;\n",
              "    }\n",
              "</style>\n",
              "<table border=\"1\" class=\"dataframe\">\n",
              "  <thead>\n",
              "    <tr style=\"text-align: right;\">\n",
              "      <th></th>\n",
              "      <th>origin</th>\n",
              "      <th>date</th>\n",
              "      <th>temp</th>\n",
              "      <th>dew</th>\n",
              "      <th>min_temp</th>\n",
              "      <th>max_temp</th>\n",
              "      <th>sp_humid</th>\n",
              "      <th>rel_humid</th>\n",
              "      <th>precip</th>\n",
              "      <th>wspeed_10m</th>\n",
              "      <th>wdirection_10m</th>\n",
              "      <th>wspeed_50m</th>\n",
              "      <th>wdirection_50m</th>\n",
              "    </tr>\n",
              "  </thead>\n",
              "  <tbody>\n",
              "    <tr>\n",
              "      <th>0</th>\n",
              "      <td>DEN</td>\n",
              "      <td>2018-01-01</td>\n",
              "      <td>9.28</td>\n",
              "      <td>-11.18</td>\n",
              "      <td>-11.24</td>\n",
              "      <td>-1.95</td>\n",
              "      <td>1.77</td>\n",
              "      <td>81.00</td>\n",
              "      <td>0.00</td>\n",
              "      <td>3.27</td>\n",
              "      <td>100.38</td>\n",
              "      <td>3.48</td>\n",
              "      <td>100.81</td>\n",
              "    </tr>\n",
              "    <tr>\n",
              "      <th>1</th>\n",
              "      <td>DEN</td>\n",
              "      <td>2018-01-02</td>\n",
              "      <td>16.18</td>\n",
              "      <td>-13.67</td>\n",
              "      <td>-12.00</td>\n",
              "      <td>4.18</td>\n",
              "      <td>1.40</td>\n",
              "      <td>66.06</td>\n",
              "      <td>0.01</td>\n",
              "      <td>5.35</td>\n",
              "      <td>146.31</td>\n",
              "      <td>6.78</td>\n",
              "      <td>130.69</td>\n",
              "    </tr>\n",
              "    <tr>\n",
              "      <th>2</th>\n",
              "      <td>DEN</td>\n",
              "      <td>2018-01-03</td>\n",
              "      <td>15.35</td>\n",
              "      <td>-15.13</td>\n",
              "      <td>-5.77</td>\n",
              "      <td>9.58</td>\n",
              "      <td>1.28</td>\n",
              "      <td>31.69</td>\n",
              "      <td>0.00</td>\n",
              "      <td>3.43</td>\n",
              "      <td>212.12</td>\n",
              "      <td>5.35</td>\n",
              "      <td>212.75</td>\n",
              "    </tr>\n",
              "    <tr>\n",
              "      <th>3</th>\n",
              "      <td>DEN</td>\n",
              "      <td>2018-01-04</td>\n",
              "      <td>10.71</td>\n",
              "      <td>-10.07</td>\n",
              "      <td>-2.56</td>\n",
              "      <td>8.15</td>\n",
              "      <td>2.01</td>\n",
              "      <td>43.75</td>\n",
              "      <td>0.01</td>\n",
              "      <td>3.79</td>\n",
              "      <td>258.75</td>\n",
              "      <td>5.77</td>\n",
              "      <td>258.25</td>\n",
              "    </tr>\n",
              "    <tr>\n",
              "      <th>4</th>\n",
              "      <td>DEN</td>\n",
              "      <td>2018-01-05</td>\n",
              "      <td>12.71</td>\n",
              "      <td>-8.99</td>\n",
              "      <td>-1.90</td>\n",
              "      <td>10.81</td>\n",
              "      <td>2.20</td>\n",
              "      <td>43.38</td>\n",
              "      <td>0.00</td>\n",
              "      <td>3.02</td>\n",
              "      <td>210.88</td>\n",
              "      <td>6.42</td>\n",
              "      <td>211.44</td>\n",
              "    </tr>\n",
              "  </tbody>\n",
              "</table>\n",
              "</div>"
            ],
            "text/plain": [
              "  origin       date   temp    dew  min_temp  max_temp  sp_humid  rel_humid  \\\n",
              "0    DEN 2018-01-01   9.28 -11.18    -11.24     -1.95      1.77      81.00   \n",
              "1    DEN 2018-01-02  16.18 -13.67    -12.00      4.18      1.40      66.06   \n",
              "2    DEN 2018-01-03  15.35 -15.13     -5.77      9.58      1.28      31.69   \n",
              "3    DEN 2018-01-04  10.71 -10.07     -2.56      8.15      2.01      43.75   \n",
              "4    DEN 2018-01-05  12.71  -8.99     -1.90     10.81      2.20      43.38   \n",
              "\n",
              "   precip  wspeed_10m  wdirection_10m  wspeed_50m  wdirection_50m  \n",
              "0    0.00        3.27          100.38        3.48          100.81  \n",
              "1    0.01        5.35          146.31        6.78          130.69  \n",
              "2    0.00        3.43          212.12        5.35          212.75  \n",
              "3    0.01        3.79          258.75        5.77          258.25  \n",
              "4    0.00        3.02          210.88        6.42          211.44  "
            ]
          },
          "execution_count": 140,
          "metadata": {},
          "output_type": "execute_result"
        }
      ],
      "source": [
        "#display the dataframe\n",
        "top_16_airports.head()"
      ]
    },
    {
      "cell_type": "code",
      "execution_count": 142,
      "metadata": {},
      "outputs": [
        {
          "data": {
            "text/plain": [
              "(18632, 13)"
            ]
          },
          "execution_count": 142,
          "metadata": {},
          "output_type": "execute_result"
        }
      ],
      "source": [
        "#find its shape\n",
        "top_16_airports.shape"
      ]
    },
    {
      "cell_type": "code",
      "execution_count": 141,
      "metadata": {
        "id": "1mqsxt9hd2Gc"
      },
      "outputs": [],
      "source": [
        "#create a csv file\n",
        "top_16_airports.to_csv('weather_data.csv', index=False)\n"
      ]
    }
  ],
  "metadata": {
    "colab": {
      "provenance": []
    },
    "kernelspec": {
      "display_name": "Python 3",
      "name": "python3"
    },
    "language_info": {
      "codemirror_mode": {
        "name": "ipython",
        "version": 3
      },
      "file_extension": ".py",
      "mimetype": "text/x-python",
      "name": "python",
      "nbconvert_exporter": "python",
      "pygments_lexer": "ipython3",
      "version": "3.11.5"
    }
  },
  "nbformat": 4,
  "nbformat_minor": 0
}
